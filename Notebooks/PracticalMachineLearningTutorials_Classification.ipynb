{
  "nbformat": 4,
  "nbformat_minor": 0,
  "metadata": {
    "colab": {
      "provenance": [],
      "toc_visible": true
    },
    "kernelspec": {
      "name": "python3",
      "display_name": "Python 3"
    },
    "language_info": {
      "name": "python"
    }
  },
  "cells": [
    {
      "cell_type": "markdown",
      "source": [
        "# PracticalMachineLearningTutorials: 01 Classification \n",
        "\n",
        "\n",
        "\n",
        "\n",
        "\n",
        "\n",
        "\n",
        "\n"
      ],
      "metadata": {
        "id": "h1Ux8zlrghxF"
      }
    },
    {
      "cell_type": "markdown",
      "source": [
        "## What is classification task?\n",
        "\n"
      ],
      "metadata": {
        "id": "xVJq--KQhI-G"
      }
    },
    {
      "cell_type": "markdown",
      "source": [
        "## Understanding classification terms"
      ],
      "metadata": {
        "id": "j1xZUlBeiiMh"
      }
    },
    {
      "cell_type": "markdown",
      "source": [
        "## Challenges\n",
        "\n"
      ],
      "metadata": {
        "id": "Hic7t8Glil4A"
      }
    },
    {
      "cell_type": "markdown",
      "source": [
        "### Imbalance classes\n"
      ],
      "metadata": {
        "id": "5x7SE2Sli06S"
      }
    },
    {
      "cell_type": "markdown",
      "source": [
        "### Null values\n"
      ],
      "metadata": {
        "id": "JU-Kxphii2XC"
      }
    },
    {
      "cell_type": "markdown",
      "source": [
        "### Data types"
      ],
      "metadata": {
        "id": "QFoGLnhci3yF"
      }
    },
    {
      "cell_type": "markdown",
      "source": [
        "### Small dataset size\n",
        "\n",
        "ref:\n",
        "https://www.kaggle.com/code/rafjaa/dealing-with-very-small-datasets/notebook\n"
      ],
      "metadata": {
        "id": "O7zuZoMCjA9Z"
      }
    },
    {
      "cell_type": "markdown",
      "source": [
        "## Data Preprocessing \n",
        "\n"
      ],
      "metadata": {
        "id": "F8n7qmZ_hK8v"
      }
    },
    {
      "cell_type": "markdown",
      "source": [
        "### Normalisation\n",
        "\n"
      ],
      "metadata": {
        "id": "KXaOdqbrhM9B"
      }
    },
    {
      "cell_type": "markdown",
      "source": [
        "### Standarization"
      ],
      "metadata": {
        "id": "mk34IuzvhOl7"
      }
    },
    {
      "cell_type": "markdown",
      "source": [
        "## Popular Classification Algorithms"
      ],
      "metadata": {
        "id": "9P1U9A38hx4t"
      }
    },
    {
      "cell_type": "markdown",
      "source": [
        "### KNN"
      ],
      "metadata": {
        "id": "hwRmJO1Dh2qd"
      }
    },
    {
      "cell_type": "markdown",
      "source": [
        "### Naive Basian"
      ],
      "metadata": {
        "id": "lJSv5xArh6u5"
      }
    },
    {
      "cell_type": "markdown",
      "source": [
        "### SVM"
      ],
      "metadata": {
        "id": "ssqNjQnJh8t1"
      }
    },
    {
      "cell_type": "markdown",
      "source": [
        "### Randome forests"
      ],
      "metadata": {
        "id": "AeKCfxyQiC1M"
      }
    },
    {
      "cell_type": "markdown",
      "source": [
        "Linear Regression"
      ],
      "metadata": {
        "id": "m61URa7Vh-jb"
      }
    },
    {
      "cell_type": "markdown",
      "source": [
        "## Practical Examples"
      ],
      "metadata": {
        "id": "iAD_AQtAhWqw"
      }
    },
    {
      "cell_type": "markdown",
      "source": [],
      "metadata": {
        "id": "35wUctYBIcgs"
      }
    },
    {
      "cell_type": "markdown",
      "source": [
        "### Iris classification"
      ],
      "metadata": {
        "id": "3513COOoha8t"
      }
    },
    {
      "cell_type": "code",
      "source": [
        "# read the dataset\n",
        "# preprocessing\n",
        "# plotting\n",
        "# classification using different classification methods \n",
        "\n"
      ],
      "metadata": {
        "id": "MGY3TUYmiTXh"
      },
      "execution_count": null,
      "outputs": []
    },
    {
      "cell_type": "markdown",
      "source": [
        "### Hand writing Digits classification"
      ],
      "metadata": {
        "id": "JLp3lruaheHS"
      }
    },
    {
      "cell_type": "code",
      "execution_count": null,
      "metadata": {
        "id": "-vMnz5wNgXma"
      },
      "outputs": [],
      "source": []
    },
    {
      "cell_type": "markdown",
      "source": [
        "### Small dataset\n",
        "\n",
        "\n"
      ],
      "metadata": {
        "id": "KC8xx10_eexQ"
      }
    },
    {
      "cell_type": "markdown",
      "source": [
        "#### Example 1\n",
        "\n",
        "ref: https://www.kaggle.com/code/rafjaa/dealing-with-very-small-datasets/notebook\n",
        "\n",
        "![](https://raw.githubusercontent.com/rafjaa/curso-mineracao-de-dados-aplicada/master/img/kernel_overfitting/creativity.jpg)"
      ],
      "metadata": {
        "id": "tL6lrZbbc6zr"
      }
    },
    {
      "cell_type": "markdown",
      "source": [
        "##### installation"
      ],
      "metadata": {
        "id": "PC_hlLtDa6nV"
      }
    },
    {
      "cell_type": "code",
      "source": [
        "# loading sample dataset from the \"don't overfit it\" challenge\n",
        "# \n",
        "import warnings\n",
        "warnings.filterwarnings('ignore')\n",
        "\n",
        "doInstall  = 0 # install some required libs \n",
        "doDownload = 1 # download datasets\n",
        "useRandom  = 0 # merge datasets then creat new train and test randomly \n",
        "\n",
        "if doInstall:\n",
        "  !pip install six\n",
        "  !pip install mlrose\n",
        "  !pip install sklearn \n",
        "  !pip install catboost\n",
        "  !pip install eli5\n",
        "  !pip install shap\n",
        "  !pip install mlxtend\n",
        "\n",
        "import joblib\n",
        "import sys\n",
        "sys.modules['sklearn.externals.joblib'] = joblib\n",
        "from mlxtend.feature_selection import SequentialFeatureSelector as SFS\n",
        "from mlxtend.plotting import plot_sequential_feature_selection as plot_sfs\n",
        "\n",
        "\n",
        "import shap\n",
        "\n",
        "import  eli5\n",
        "from eli5.sklearn import PermutationImportance\n",
        "\n",
        "import six\n",
        "import sys\n",
        "import mlrose\n",
        "\n",
        "import numpy as np\n",
        "import pandas as pd\n",
        "import matplotlib.pyplot as plt\n",
        "\n",
        "from mlxtend.classifier import StackingClassifier\n",
        "sys.modules['sklearn.externals.six'] = six\n",
        "\n",
        "from imblearn.over_sampling import SMOTE\n",
        "\n",
        "\n",
        "from sklearn.preprocessing import StandardScaler \n",
        "from sklearn.model_selection import train_test_split\n",
        "from sklearn.feature_selection import RFE\n",
        "from sklearn.ensemble import ExtraTreesClassifier\n",
        "from sklearn.ensemble import IsolationForest\n",
        "from xgboost import XGBClassifier\n",
        "from sklearn.linear_model import LogisticRegression\n",
        "from sklearn.model_selection import StratifiedKFold\n",
        "from sklearn.model_selection import RepeatedStratifiedKFold\n",
        "from sklearn.preprocessing import StandardScaler\n",
        "from sklearn import linear_model\n",
        "from catboost import CatBoostClassifier\n",
        "\n",
        "def clean_dataset(df):\n",
        "    assert isinstance(df, pd.DataFrame), \"df needs to be a pd.DataFrame\"\n",
        "    df.dropna(inplace=True)\n",
        "    indices_to_keep = ~df.isin([np.nan, np.inf, -np.inf]).any(1)\n",
        "    return df[indices_to_keep].astype(np.float64)"
      ],
      "metadata": {
        "id": "JtOoze6sa2vo"
      },
      "execution_count": 113,
      "outputs": []
    },
    {
      "cell_type": "markdown",
      "source": [
        "##### prepare datasets "
      ],
      "metadata": {
        "id": "u6Jq0-L7bEcM"
      }
    },
    {
      "cell_type": "code",
      "source": [
        "\n",
        "if doDownload:\n",
        "   trainOnlinePath = 'https://raw.githubusercontent.com/idhamari/Machine-Learning-Collection/master/data/smallSatasetChallenge/train.csv'  # '../input/train.csv'\n",
        "   testOnlinePath  = 'https://github.com/idhamari/Machine-Learning-Collection/raw/master/data/smallSatasetChallenge/test.csv' # '../input/test.csv'\n",
        "   sampleOnlinePath= 'https://github.com/idhamari/Machine-Learning-Collection/raw/master/data/smallSatasetChallenge/sample_submission.csv'\n",
        "   !wget $trainOnlinePath\n",
        "   !wget $testOnlinePath\n",
        "   !wget $sampleOnlinePath\n",
        "   !ls \n",
        "\n",
        "trainPath  = 'train.csv'\n",
        "testPath   = 'test.csv'\n",
        "samplePath = 'sample_submission.csv' \n",
        "#d_names = (trainPath, testPath)\n",
        "\n",
        "# labels: id, target (0.0 or 1.0), features:0-299 of integers\n",
        "train       = pd.read_csv(trainPath)\n",
        "test        = pd.read_csv(testPath)\n",
        "submission  = pd.read_csv(samplePath)\n",
        "if useRandom:\n",
        "   # merge train and test\n",
        "   data = pd.concat([train, test])\n",
        "   data =  clean_dataset(data)\n",
        "   #data = data.reset_index()\n",
        "   # separate randomly\n",
        "   #  one can also use,  train = data.sample(n = 250)\n",
        "   train, test = train_test_split(data, test_size=(1-0.0125), random_state=42, shuffle=True)\n",
        "\n",
        "# remove non-features columns\n",
        "features = train.columns.drop(['id', 'target'])\n",
        "\n",
        "# select target column \n",
        "target = train['target']\n",
        "print(\"target classes: \", np.unique(target.to_numpy()))\n",
        "\n",
        "print('Train number of rows:', train.shape[0])\n",
        "print('Test number of rows: ', test.shape[0])\n",
        "print('Number of features:  ', features.shape[0])\n",
        "\n",
        "\n",
        "y_pos = range(2)\n",
        " \n",
        "plt.bar(\n",
        "    y_pos, \n",
        "    (train.shape[0], test.shape[0]), \n",
        "    align='center', \n",
        "    alpha=0.8\n",
        ")\n",
        "plt.xticks(y_pos, [\"train\", \"test\"])\n",
        "plt.ylabel('Number of rows') \n",
        "plt.title('😱 Wow!')\n",
        "plt.show()"
      ],
      "metadata": {
        "colab": {
          "base_uri": "https://localhost:8080/",
          "height": 1000
        },
        "id": "34F-uNZReuHa",
        "outputId": "b5eb0f4b-bbc8-4878-e9c6-39b7546e733d"
      },
      "execution_count": 51,
      "outputs": [
        {
          "output_type": "stream",
          "name": "stdout",
          "text": [
            "--2023-01-06 10:33:53--  https://raw.githubusercontent.com/idhamari/Machine-Learning-Collection/master/data/smallSatasetChallenge/train.csv\n",
            "Resolving raw.githubusercontent.com (raw.githubusercontent.com)... 185.199.108.133, 185.199.109.133, 185.199.110.133, ...\n",
            "Connecting to raw.githubusercontent.com (raw.githubusercontent.com)|185.199.108.133|:443... connected.\n",
            "HTTP request sent, awaiting response... 200 OK\n",
            "Length: 482290 (471K) [text/plain]\n",
            "Saving to: ‘train.csv.1’\n",
            "\n",
            "\rtrain.csv.1           0%[                    ]       0  --.-KB/s               \rtrain.csv.1         100%[===================>] 470.99K  --.-KB/s    in 0.01s   \n",
            "\n",
            "2023-01-06 10:33:53 (32.5 MB/s) - ‘train.csv.1’ saved [482290/482290]\n",
            "\n",
            "--2023-01-06 10:33:53--  https://github.com/idhamari/Machine-Learning-Collection/raw/master/data/smallSatasetChallenge/test.csv\n",
            "Resolving github.com (github.com)... 140.82.121.4\n",
            "Connecting to github.com (github.com)|140.82.121.4|:443... connected.\n",
            "HTTP request sent, awaiting response... 302 Found\n",
            "Location: https://raw.githubusercontent.com/idhamari/Machine-Learning-Collection/master/data/smallSatasetChallenge/test.csv [following]\n",
            "--2023-01-06 10:33:54--  https://raw.githubusercontent.com/idhamari/Machine-Learning-Collection/master/data/smallSatasetChallenge/test.csv\n",
            "Resolving raw.githubusercontent.com (raw.githubusercontent.com)... 185.199.108.133, 185.199.109.133, 185.199.110.133, ...\n",
            "Connecting to raw.githubusercontent.com (raw.githubusercontent.com)|185.199.108.133|:443... connected.\n",
            "HTTP request sent, awaiting response... 200 OK\n",
            "Length: 37969759 (36M) [text/plain]\n",
            "Saving to: ‘test.csv.1’\n",
            "\n",
            "test.csv.1          100%[===================>]  36.21M  --.-KB/s    in 0.1s    \n",
            "\n",
            "2023-01-06 10:33:56 (297 MB/s) - ‘test.csv.1’ saved [37969759/37969759]\n",
            "\n",
            "--2023-01-06 10:33:56--  https://github.com/idhamari/Machine-Learning-Collection/raw/master/data/smallSatasetChallenge/sample_submission.csv\n",
            "Resolving github.com (github.com)... 140.82.121.4\n",
            "Connecting to github.com (github.com)|140.82.121.4|:443... connected.\n",
            "HTTP request sent, awaiting response... 302 Found\n",
            "Location: https://raw.githubusercontent.com/idhamari/Machine-Learning-Collection/master/data/smallSatasetChallenge/sample_submission.csv [following]\n",
            "--2023-01-06 10:33:56--  https://raw.githubusercontent.com/idhamari/Machine-Learning-Collection/master/data/smallSatasetChallenge/sample_submission.csv\n",
            "Resolving raw.githubusercontent.com (raw.githubusercontent.com)... 185.199.111.133, 185.199.109.133, 185.199.110.133, ...\n",
            "Connecting to raw.githubusercontent.com (raw.githubusercontent.com)|185.199.111.133|:443... connected.\n",
            "HTTP request sent, awaiting response... 200 OK\n",
            "Length: 147510 (144K) [text/plain]\n",
            "Saving to: ‘sample_submission.csv’\n",
            "\n",
            "sample_submission.c 100%[===================>] 144.05K  --.-KB/s    in 0.009s  \n",
            "\n",
            "2023-01-06 10:33:56 (15.3 MB/s) - ‘sample_submission.csv’ saved [147510/147510]\n",
            "\n",
            "sample_data\t       submission.csv  test.csv.1  train.csv.1\n",
            "sample_submission.csv  test.csv        train.csv\n",
            "target classes:  [0. 1.]\n",
            "Train number of rows: 250\n",
            "Test number of rows:  19750\n",
            "Number of features:   300\n"
          ]
        },
        {
          "output_type": "display_data",
          "data": {
            "text/plain": [
              "<Figure size 432x288 with 1 Axes>"
            ],
            "image/png": "[encoded data removed]"
          },
          "metadata": {
            "needs_background": "light"
          }
        }
      ]
    },
    {
      "cell_type": "markdown",
      "source": [
        "##### 1- Small datasets and overfitting\n",
        "\n",
        "The goal of a machine learning model is to generalize patterns in training data so that you can correctly predict new data that has never been presented to the model. Overfitting occurs when a model adjusts excessively to the training data, seeing patterns that do not exist, and consequently performing poorly in predicting new data:\n",
        "![](https://raw.githubusercontent.com/rafjaa/curso-mineracao-de-dados-aplicada/master/img/kernel_overfitting/under_over.png)\n",
        "\n",
        "The fewer samples for training, the more models can fit our data. In an extreme example (a), for just one training point, any model will be able to \"explain\" it, however simple or complex the model may be. As we get to have more samples (b, c), fewer models are able to explain them:\n",
        "![](https://raw.githubusercontent.com/rafjaa/curso-mineracao-de-dados-aplicada/master/img/kernel_overfitting/few_samples.png)\n",
        "\n",
        "That way, for a dataset with only 250 samples, we need to be very careful not to be fooled by overfitting. In this kernel we will see some tips that can help.\n",
        "\n",
        "![](https://raw.githubusercontent.com/rafjaa/curso-mineracao-de-dados-aplicada/master/img/kernel_overfitting/meme1.jpeg)\n",
        "\n",
        "\n",
        "\n",
        "\n"
      ],
      "metadata": {
        "id": "LgO2OAZvfwRS"
      }
    },
    {
      "cell_type": "markdown",
      "source": [
        "##### 2- Use simple models\n",
        "\n",
        "As we saw, few samples allow several models to \"explain\" the data. By thinking graphically, complex models can make crazy curves that will almost perfectly explain the training data, but possibly will perform poorly over the test data.\n",
        "\n",
        "![](https://raw.githubusercontent.com/rafjaa/curso-mineracao-de-dados-aplicada/master/img/kernel_overfitting/overfitting_curve.png)\n",
        "\n",
        "Avoid complex models with many parameters, thus limiting their generalization and possibility of overfitting. Regularization techniques like L1 and L2 also help make the models more conservative. For tree-based models, reducing their maximum depth also limits the model's ability to see patterns and non-existent relationships.\n",
        "\n",
        "A good model to get started is Logistic Regression, a linear model used when the dependent variable (target) is categorical (classification tasks).\n",
        "\n",
        "![](https://raw.githubusercontent.com/rafjaa/curso-mineracao-de-dados-aplicada/master/img/kernel_overfitting/logisticregression.png)\n",
        "\n",
        "In this model, we can control the regularization by means of the penalty and C parameters (inverse of regularization strength - smaller values specify stronger regularization) to deal with the overfitting:"
      ],
      "metadata": {
        "id": "wSVtWNd-bP52"
      }
    },
    {
      "cell_type": "code",
      "source": [
        "# solver : {'newton-cg', 'lbfgs', 'liblinear', 'sag', 'saga'}, default='lbfgs'\n",
        "#              l2           l2       l1          l2     l1\n",
        "m = LogisticRegression(\n",
        "    penalty='l2',\n",
        "    C=0.1,\n",
        "    solver='lbfgs'\n",
        ")\n",
        "m.fit(train[features], target)\n",
        "m.predict_proba(test[features])[:,1]"
      ],
      "metadata": {
        "colab": {
          "base_uri": "https://localhost:8080/"
        },
        "id": "aOUf7I61gw-g",
        "outputId": "69617e85-6f88-42ff-9d34-7d5a6f7e3575"
      },
      "execution_count": 25,
      "outputs": [
        {
          "output_type": "execute_result",
          "data": {
            "text/plain": [
              "array([0.26401709, 0.25774347, 0.21244286, 0.21674814, 0.24261933,\n",
              "       0.2434624 , 0.23152575, 0.18615293, 0.22245217, 0.21809747,\n",
              "       0.23063485, 0.24159536, 0.20796447, 0.25617897, 0.25094837,\n",
              "       0.20275151, 0.33119196, 0.19397065, 0.30510486, 0.25856294,\n",
              "       0.23744949, 0.25432414, 0.22513835, 0.23954183, 0.27633707,\n",
              "       0.22536489, 0.24964772, 0.28162285, 0.21875485, 0.24953528,\n",
              "       0.22022905, 0.25441903, 0.18580805, 0.28436233, 0.23335701,\n",
              "       0.28230981, 0.20402918, 0.2702417 , 0.31730376, 0.15394143,\n",
              "       0.25782528, 0.24846053, 0.2478563 , 0.22126049, 0.21254977,\n",
              "       0.20689147, 0.2714977 , 0.21909107, 0.25733903, 0.2890178 ,\n",
              "       0.16543327, 0.33027101, 0.19422231, 0.28521251, 0.17936328,\n",
              "       0.22829702, 0.29140613, 0.31152688, 0.26157494, 0.18571216,\n",
              "       0.24425735, 0.22030157, 0.26677569, 0.32286525, 0.27713113,\n",
              "       0.23841216, 0.22855279, 0.17861909, 0.28578958, 0.25058878,\n",
              "       0.26980076, 0.24208429, 0.30155477, 0.29416845, 0.23259245,\n",
              "       0.28700444, 0.18829301, 0.18426147, 0.31789094, 0.2943319 ,\n",
              "       0.3129317 , 0.25807119, 0.3306509 , 0.2155133 , 0.23875787,\n",
              "       0.22195376, 0.23577278, 0.16804083, 0.28451129, 0.22066594,\n",
              "       0.24364   , 0.27297049, 0.20776932, 0.2671393 , 0.22103683,\n",
              "       0.20563059, 0.16317633, 0.22887532, 0.22831362, 0.20386194,\n",
              "       0.20728048, 0.22253939, 0.32423007, 0.19665055, 0.28278213,\n",
              "       0.22902874, 0.24455673, 0.21013204, 0.26097722, 0.21327609,\n",
              "       0.21744322, 0.27811789, 0.1605527 , 0.31351009, 0.26372617,\n",
              "       0.28277547, 0.28844984, 0.2338305 , 0.23811343, 0.23246181,\n",
              "       0.23415415, 0.13798629, 0.19552953, 0.24629048, 0.24553783,\n",
              "       0.25761596, 0.2389303 , 0.21941642, 0.20076536, 0.27542252,\n",
              "       0.26162193, 0.3370527 , 0.27174037, 0.27175212, 0.25205118,\n",
              "       0.2071573 , 0.2261273 , 0.26131325, 0.22464762, 0.22908671,\n",
              "       0.24659446, 0.29926574, 0.25501044, 0.24998829, 0.29646021,\n",
              "       0.349601  , 0.22594423, 0.21614417, 0.24244687, 0.13932855,\n",
              "       0.23129109, 0.23203837, 0.2242973 , 0.20160666, 0.20341867,\n",
              "       0.21248347, 0.18266788, 0.24425809, 0.24139012, 0.23191376,\n",
              "       0.24328693, 0.31658526, 0.27425708, 0.18663144, 0.2506127 ,\n",
              "       0.26900121, 0.22942993, 0.27991227, 0.35015965, 0.25194745,\n",
              "       0.26032289, 0.26137559, 0.2833015 , 0.29158163, 0.39693858,\n",
              "       0.27710282, 0.23635736, 0.18361771, 0.26246128, 0.24985386,\n",
              "       0.15695819, 0.31644839, 0.30246151, 0.24518866, 0.33020797,\n",
              "       0.24584019, 0.22442644, 0.41108023, 0.22813936, 0.26158292,\n",
              "       0.22489514, 0.245792  , 0.22046257, 0.28285573, 0.21307052,\n",
              "       0.22104808, 0.24871124, 0.20150754, 0.30621509, 0.21927223,\n",
              "       0.3134327 , 0.2381102 , 0.19982839, 0.22105231, 0.27874256,\n",
              "       0.1647767 , 0.24360905, 0.27915055, 0.19901076, 0.17721823,\n",
              "       0.22759987, 0.24152901, 0.18988578, 0.26561867, 0.20373336,\n",
              "       0.23923347, 0.19065723, 0.19548698, 0.32739491, 0.35138857,\n",
              "       0.30528452, 0.26700991, 0.17953271, 0.24082492, 0.16834629,\n",
              "       0.2255847 , 0.27503855, 0.20746919, 0.21522369, 0.26276268,\n",
              "       0.19898376, 0.27602581, 0.20908078, 0.30750425, 0.31791799,\n",
              "       0.21659945, 0.27031433, 0.2726391 , 0.20989168, 0.25486527,\n",
              "       0.24237165, 0.30494218, 0.22573606, 0.23043959, 0.23763228,\n",
              "       0.33359804, 0.26062779])"
            ]
          },
          "metadata": {},
          "execution_count": 25
        }
      ]
    },
    {
      "cell_type": "markdown",
      "source": [
        "\n",
        "\n",
        "For tree-based models like XGBoost, we can control the overfitting by tuning a series of parameters:\n",
        "\n",
        "- Restricting the maximum depth of trees via max_depth (low values)\n",
        "- Making the model more conservative via gamma and eta (high values)\n",
        "- L1 and L2 regularization via reg_alpha and reg_lambda (high values)\n",
        "\n"
      ],
      "metadata": {
        "id": "KRA5pMCdg1NR"
      }
    },
    {
      "cell_type": "code",
      "source": [
        "m = XGBClassifier(\n",
        "    max_depth=2,\n",
        "    gamma=2,\n",
        "    eta=0.8,\n",
        "    reg_alpha=0.5,\n",
        "    reg_lambda=0.5\n",
        ")\n",
        "m.fit(train[features], target)\n",
        "m.predict_proba(test[features])[:,1]"
      ],
      "metadata": {
        "colab": {
          "base_uri": "https://localhost:8080/"
        },
        "id": "Qnr0yI73g5f5",
        "outputId": "65664b10-f3c6-4fac-ad42-8c6ef362b6b2"
      },
      "execution_count": 26,
      "outputs": [
        {
          "output_type": "execute_result",
          "data": {
            "text/plain": [
              "array([0.5, 0.5, 0.5, 0.5, 0.5, 0.5, 0.5, 0.5, 0.5, 0.5, 0.5, 0.5, 0.5,\n",
              "       0.5, 0.5, 0.5, 0.5, 0.5, 0.5, 0.5, 0.5, 0.5, 0.5, 0.5, 0.5, 0.5,\n",
              "       0.5, 0.5, 0.5, 0.5, 0.5, 0.5, 0.5, 0.5, 0.5, 0.5, 0.5, 0.5, 0.5,\n",
              "       0.5, 0.5, 0.5, 0.5, 0.5, 0.5, 0.5, 0.5, 0.5, 0.5, 0.5, 0.5, 0.5,\n",
              "       0.5, 0.5, 0.5, 0.5, 0.5, 0.5, 0.5, 0.5, 0.5, 0.5, 0.5, 0.5, 0.5,\n",
              "       0.5, 0.5, 0.5, 0.5, 0.5, 0.5, 0.5, 0.5, 0.5, 0.5, 0.5, 0.5, 0.5,\n",
              "       0.5, 0.5, 0.5, 0.5, 0.5, 0.5, 0.5, 0.5, 0.5, 0.5, 0.5, 0.5, 0.5,\n",
              "       0.5, 0.5, 0.5, 0.5, 0.5, 0.5, 0.5, 0.5, 0.5, 0.5, 0.5, 0.5, 0.5,\n",
              "       0.5, 0.5, 0.5, 0.5, 0.5, 0.5, 0.5, 0.5, 0.5, 0.5, 0.5, 0.5, 0.5,\n",
              "       0.5, 0.5, 0.5, 0.5, 0.5, 0.5, 0.5, 0.5, 0.5, 0.5, 0.5, 0.5, 0.5,\n",
              "       0.5, 0.5, 0.5, 0.5, 0.5, 0.5, 0.5, 0.5, 0.5, 0.5, 0.5, 0.5, 0.5,\n",
              "       0.5, 0.5, 0.5, 0.5, 0.5, 0.5, 0.5, 0.5, 0.5, 0.5, 0.5, 0.5, 0.5,\n",
              "       0.5, 0.5, 0.5, 0.5, 0.5, 0.5, 0.5, 0.5, 0.5, 0.5, 0.5, 0.5, 0.5,\n",
              "       0.5, 0.5, 0.5, 0.5, 0.5, 0.5, 0.5, 0.5, 0.5, 0.5, 0.5, 0.5, 0.5,\n",
              "       0.5, 0.5, 0.5, 0.5, 0.5, 0.5, 0.5, 0.5, 0.5, 0.5, 0.5, 0.5, 0.5,\n",
              "       0.5, 0.5, 0.5, 0.5, 0.5, 0.5, 0.5, 0.5, 0.5, 0.5, 0.5, 0.5, 0.5,\n",
              "       0.5, 0.5, 0.5, 0.5, 0.5, 0.5, 0.5, 0.5, 0.5, 0.5, 0.5, 0.5, 0.5,\n",
              "       0.5, 0.5, 0.5, 0.5, 0.5, 0.5, 0.5, 0.5, 0.5, 0.5, 0.5, 0.5, 0.5,\n",
              "       0.5, 0.5, 0.5, 0.5, 0.5, 0.5, 0.5, 0.5, 0.5, 0.5, 0.5, 0.5, 0.5],\n",
              "      dtype=float32)"
            ]
          },
          "metadata": {},
          "execution_count": 26
        }
      ]
    },
    {
      "cell_type": "markdown",
      "source": [
        "Note that because it is a nonlinear model with several parameters, it tends to be more prone to overfitting than a simple linear model such as logistic regression.\n",
        "\n",
        "\n",
        "\n"
      ],
      "metadata": {
        "id": "_UNZxy0Wg6Gy"
      }
    },
    {
      "cell_type": "markdown",
      "source": [
        "##### 3- Beware the outliers\n",
        "\n",
        "Outliers are extreme values that fall a long way outside of the other observations. In a small dataset, the impact of an outlier can be much greater, since it will have a heavy weight for the model:\n",
        "\n",
        "![](https://raw.githubusercontent.com/rafjaa/curso-mineracao-de-dados-aplicada/master/img/kernel_overfitting/outlier.png)\n",
        "\n",
        "The scikit-learn library has several implementations of outliers detection techniques:\n",
        "![](https://raw.githubusercontent.com/rafjaa/curso-mineracao-de-dados-aplicada/master/img/kernel_overfitting/outl_detection.png)\n",
        "\n",
        "Let's do an experiment with the IsolationForest technique, which uses random forests for efficient detection of outliers in high-dimensional datasets. From scikit-learn documentation:\n",
        "\n",
        " - The IsolationForest ‘isolates’ observations by randomly selecting a feature and then randomly selecting a split value between the maximum and minimum values of the selected feature.\n",
        " - Since recursive partitioning can be represented by a tree structure, the number of splittings required to isolate a sample is equivalent to the path length from the root node to the terminating node.\n",
        " - This path length, averaged over a forest of such random trees, is a measure of normality and our decision function.\n",
        "\n",
        "    \n",
        "\n",
        "![](https://raw.githubusercontent.com/rafjaa/curso-mineracao-de-dados-aplicada/master/img/kernel_overfitting/isolation_forest.jpg)\n",
        "\n",
        "Let's score each sample of our dataset using a isolation forest (the lower, the more abnormal):"
      ],
      "metadata": {
        "id": "duqsqPVKbYKV"
      }
    },
    {
      "cell_type": "code",
      "source": [
        "\n",
        "\n",
        "isf = IsolationForest(n_jobs=-1, random_state=1)\n",
        "isf.fit(train[features], train['target'])\n",
        "\n",
        "print(isf.score_samples(train[features]))"
      ],
      "metadata": {
        "colab": {
          "base_uri": "https://localhost:8080/"
        },
        "id": "aPLXPdNdhfAz",
        "outputId": "83d9424a-2b54-414b-cd05-8fe00818aa0d"
      },
      "execution_count": 27,
      "outputs": [
        {
          "output_type": "stream",
          "name": "stdout",
          "text": [
            "[-0.3878091  -0.3878091  -0.37683555]\n"
          ]
        }
      ]
    },
    {
      "cell_type": "markdown",
      "source": [
        "\n",
        "\n",
        "Now, let's predict the outliers (1 for inliers, -1 for outliers):\n"
      ],
      "metadata": {
        "id": "fzIYGeXyhhxq"
      }
    },
    {
      "cell_type": "code",
      "source": [
        "isf.predict(train[features])"
      ],
      "metadata": {
        "colab": {
          "base_uri": "https://localhost:8080/"
        },
        "id": "7HcWK61Mhj07",
        "outputId": "3e468d06-6eea-45a0-e435-2cf11d4b92d0"
      },
      "execution_count": 28,
      "outputs": [
        {
          "output_type": "execute_result",
          "data": {
            "text/plain": [
              "array([1, 1, 1])"
            ]
          },
          "metadata": {},
          "execution_count": 28
        }
      ]
    },
    {
      "cell_type": "markdown",
      "source": [
        "/opt/conda/lib/python3.6/site-packages/sklearn/ensemble/iforest.py:417: DeprecationWarning: threshold_ attribute is deprecated in 0.20 and will be removed in 0.22.\n",
        "  \" be removed in 0.22.\", DeprecationWarning)"
      ],
      "metadata": {
        "id": "vL0HwzYQhkgP"
      }
    },
    {
      "cell_type": "markdown",
      "source": [
        "\n",
        "\n",
        "Beware, with few samples, it becomes a challenge to adjust the algorithms to correctly identify the outliers.\n",
        "\n",
        "\n"
      ],
      "metadata": {
        "id": "zwv6HKIWhshl"
      }
    },
    {
      "cell_type": "markdown",
      "source": [
        "#####  4- Select the features\n",
        " \n",
        "While removing outliers consists of deleting rows from the dataset, feature selection consists of deleting columns that do not contribute to the prediction. There is a wide variety of methods, such as analysis of its correlation with the target, importance analysis and recursive elimination.\n",
        "\n",
        "Let's see an example of how to identify the most relevant features for classification using a tree model:"
      ],
      "metadata": {
        "id": "O1ArF3e-beOD"
      }
    },
    {
      "cell_type": "code",
      "source": [
        "TOP_FEATURES = 15\n",
        "\n",
        "forest = ExtraTreesClassifier(n_estimators=250, max_depth=5, random_state=1)\n",
        "forest.fit(train[features], train['target'])\n",
        "\n",
        "importances = forest.feature_importances_\n",
        "std = np.std(\n",
        "    [tree.feature_importances_ for tree in forest.estimators_],\n",
        "    axis=0\n",
        ")\n",
        "indices = np.argsort(importances)[::-1]\n",
        "indices = indices[:TOP_FEATURES]\n",
        "\n",
        "print('Top features:')\n",
        "for f in range(TOP_FEATURES):\n",
        "    print('%d. feature %d (%f)' % (f + 1, indices[f], importances[indices[f]]))"
      ],
      "metadata": {
        "colab": {
          "base_uri": "https://localhost:8080/"
        },
        "id": "Z_wtaZZQhtuJ",
        "outputId": "9b976285-dbb2-4ecf-d485-ffe226f8b6d0"
      },
      "execution_count": 29,
      "outputs": [
        {
          "output_type": "stream",
          "name": "stdout",
          "text": [
            "Top features:\n",
            "1. feature 255 (0.024000)\n",
            "2. feature 283 (0.020000)\n",
            "3. feature 36 (0.020000)\n",
            "4. feature 38 (0.016000)\n",
            "5. feature 180 (0.016000)\n",
            "6. feature 90 (0.016000)\n",
            "7. feature 191 (0.016000)\n",
            "8. feature 177 (0.016000)\n",
            "9. feature 291 (0.016000)\n",
            "10. feature 243 (0.016000)\n",
            "11. feature 48 (0.016000)\n",
            "12. feature 68 (0.016000)\n",
            "13. feature 228 (0.016000)\n",
            "14. feature 134 (0.012000)\n",
            "15. feature 127 (0.012000)\n"
          ]
        }
      ]
    },
    {
      "cell_type": "markdown",
      "source": [
        "\n",
        "\n",
        "We can plot a chart of the importances:\n"
      ],
      "metadata": {
        "id": "fGA53jfbh-ui"
      }
    },
    {
      "cell_type": "code",
      "source": [
        "plt.figure()\n",
        "plt.title('Top feature importances')\n",
        "plt.bar(\n",
        "    range(TOP_FEATURES), \n",
        "    importances[indices],\n",
        "    yerr=std[indices], \n",
        ")\n",
        "plt.xticks(range(TOP_FEATURES), indices)\n",
        "plt.show()"
      ],
      "metadata": {
        "colab": {
          "base_uri": "https://localhost:8080/",
          "height": 281
        },
        "id": "hGOkyjP_iYWL",
        "outputId": "96b5bdd4-0d62-4745-a7b3-3741b452ce3b"
      },
      "execution_count": 30,
      "outputs": [
        {
          "output_type": "display_data",
          "data": {
            "text/plain": [
              "<Figure size 432x288 with 1 Axes>"
            ],
            "image/png": "[encoded data removed]"
          },
          "metadata": {
            "needs_background": "light"
          }
        }
      ]
    },
    {
      "cell_type": "markdown",
      "source": [
        "\n",
        "\n",
        "In the next example, we will try to identify the most important features by successively training a model and recursively eliminating those that do not contribute to a good final solution (according to the selected model).\n",
        "\n",
        "We will use the recursive feature elimination RFE from the scikit-learn library and the XGBClassifier model:\n"
      ],
      "metadata": {
        "id": "VcxN7iX9ibnY"
      }
    },
    {
      "cell_type": "code",
      "source": [
        "\n",
        "\n",
        "rfe = RFE(XGBClassifier(n_jobs=-1, random_state=1))\n",
        "\n",
        "rfe.fit(train[features], train['target'])\n",
        "\n",
        "print('Selected features:')\n",
        "print(features[rfe.support_].tolist())"
      ],
      "metadata": {
        "colab": {
          "base_uri": "https://localhost:8080/",
          "height": 382
        },
        "id": "l2YGJDS0ihIL",
        "outputId": "20f64f32-93e6-4de0-899e-3ba3ece59faa"
      },
      "execution_count": 31,
      "outputs": [
        {
          "output_type": "error",
          "ename": "ValueError",
          "evalue": "ignored",
          "traceback": [
            "\u001b[0;31m---------------------------------------------------------------------------\u001b[0m",
            "\u001b[0;31mValueError\u001b[0m                                Traceback (most recent call last)",
            "\u001b[0;32m<ipython-input-31-fa3ae94a1969>\u001b[0m in \u001b[0;36m<module>\u001b[0;34m\u001b[0m\n\u001b[1;32m      3\u001b[0m \u001b[0mrfe\u001b[0m \u001b[0;34m=\u001b[0m \u001b[0mRFE\u001b[0m\u001b[0;34m(\u001b[0m\u001b[0mXGBClassifier\u001b[0m\u001b[0;34m(\u001b[0m\u001b[0mn_jobs\u001b[0m\u001b[0;34m=\u001b[0m\u001b[0;34m-\u001b[0m\u001b[0;36m1\u001b[0m\u001b[0;34m,\u001b[0m \u001b[0mrandom_state\u001b[0m\u001b[0;34m=\u001b[0m\u001b[0;36m1\u001b[0m\u001b[0;34m)\u001b[0m\u001b[0;34m)\u001b[0m\u001b[0;34m\u001b[0m\u001b[0;34m\u001b[0m\u001b[0m\n\u001b[1;32m      4\u001b[0m \u001b[0;34m\u001b[0m\u001b[0m\n\u001b[0;32m----> 5\u001b[0;31m \u001b[0mrfe\u001b[0m\u001b[0;34m.\u001b[0m\u001b[0mfit\u001b[0m\u001b[0;34m(\u001b[0m\u001b[0mtrain\u001b[0m\u001b[0;34m[\u001b[0m\u001b[0mfeatures\u001b[0m\u001b[0;34m]\u001b[0m\u001b[0;34m,\u001b[0m \u001b[0mtrain\u001b[0m\u001b[0;34m[\u001b[0m\u001b[0;34m'target'\u001b[0m\u001b[0;34m]\u001b[0m\u001b[0;34m)\u001b[0m\u001b[0;34m\u001b[0m\u001b[0;34m\u001b[0m\u001b[0m\n\u001b[0m\u001b[1;32m      6\u001b[0m \u001b[0;34m\u001b[0m\u001b[0m\n\u001b[1;32m      7\u001b[0m \u001b[0mprint\u001b[0m\u001b[0;34m(\u001b[0m\u001b[0;34m'Selected features:'\u001b[0m\u001b[0;34m)\u001b[0m\u001b[0;34m\u001b[0m\u001b[0;34m\u001b[0m\u001b[0m\n",
            "\u001b[0;32m/usr/local/lib/python3.8/dist-packages/sklearn/feature_selection/_rfe.py\u001b[0m in \u001b[0;36mfit\u001b[0;34m(self, X, y, **fit_params)\u001b[0m\n\u001b[1;32m    220\u001b[0m             \u001b[0mFitted\u001b[0m \u001b[0mestimator\u001b[0m\u001b[0;34m.\u001b[0m\u001b[0;34m\u001b[0m\u001b[0;34m\u001b[0m\u001b[0m\n\u001b[1;32m    221\u001b[0m         \"\"\"\n\u001b[0;32m--> 222\u001b[0;31m         \u001b[0;32mreturn\u001b[0m \u001b[0mself\u001b[0m\u001b[0;34m.\u001b[0m\u001b[0m_fit\u001b[0m\u001b[0;34m(\u001b[0m\u001b[0mX\u001b[0m\u001b[0;34m,\u001b[0m \u001b[0my\u001b[0m\u001b[0;34m,\u001b[0m \u001b[0;34m**\u001b[0m\u001b[0mfit_params\u001b[0m\u001b[0;34m)\u001b[0m\u001b[0;34m\u001b[0m\u001b[0;34m\u001b[0m\u001b[0m\n\u001b[0m\u001b[1;32m    223\u001b[0m \u001b[0;34m\u001b[0m\u001b[0m\n\u001b[1;32m    224\u001b[0m     \u001b[0;32mdef\u001b[0m \u001b[0m_fit\u001b[0m\u001b[0;34m(\u001b[0m\u001b[0mself\u001b[0m\u001b[0;34m,\u001b[0m \u001b[0mX\u001b[0m\u001b[0;34m,\u001b[0m \u001b[0my\u001b[0m\u001b[0;34m,\u001b[0m \u001b[0mstep_score\u001b[0m\u001b[0;34m=\u001b[0m\u001b[0;32mNone\u001b[0m\u001b[0;34m,\u001b[0m \u001b[0;34m**\u001b[0m\u001b[0mfit_params\u001b[0m\u001b[0;34m)\u001b[0m\u001b[0;34m:\u001b[0m\u001b[0;34m\u001b[0m\u001b[0;34m\u001b[0m\u001b[0m\n",
            "\u001b[0;32m/usr/local/lib/python3.8/dist-packages/sklearn/feature_selection/_rfe.py\u001b[0m in \u001b[0;36m_fit\u001b[0;34m(self, X, y, step_score, **fit_params)\u001b[0m\n\u001b[1;32m    284\u001b[0m \u001b[0;34m\u001b[0m\u001b[0m\n\u001b[1;32m    285\u001b[0m             \u001b[0;31m# Get importance and rank them\u001b[0m\u001b[0;34m\u001b[0m\u001b[0;34m\u001b[0m\u001b[0;34m\u001b[0m\u001b[0m\n\u001b[0;32m--> 286\u001b[0;31m             importances = _get_feature_importances(\n\u001b[0m\u001b[1;32m    287\u001b[0m                 \u001b[0mestimator\u001b[0m\u001b[0;34m,\u001b[0m\u001b[0;34m\u001b[0m\u001b[0;34m\u001b[0m\u001b[0m\n\u001b[1;32m    288\u001b[0m                 \u001b[0mself\u001b[0m\u001b[0;34m.\u001b[0m\u001b[0mimportance_getter\u001b[0m\u001b[0;34m,\u001b[0m\u001b[0;34m\u001b[0m\u001b[0;34m\u001b[0m\u001b[0m\n",
            "\u001b[0;32m/usr/local/lib/python3.8/dist-packages/sklearn/feature_selection/_base.py\u001b[0m in \u001b[0;36m_get_feature_importances\u001b[0;34m(estimator, getter, transform_func, norm_order)\u001b[0m\n\u001b[1;32m    224\u001b[0m     \u001b[0;32melif\u001b[0m \u001b[0mtransform_func\u001b[0m \u001b[0;34m==\u001b[0m \u001b[0;34m\"square\"\u001b[0m\u001b[0;34m:\u001b[0m\u001b[0;34m\u001b[0m\u001b[0;34m\u001b[0m\u001b[0m\n\u001b[1;32m    225\u001b[0m         \u001b[0;32mif\u001b[0m \u001b[0mimportances\u001b[0m\u001b[0;34m.\u001b[0m\u001b[0mndim\u001b[0m \u001b[0;34m==\u001b[0m \u001b[0;36m1\u001b[0m\u001b[0;34m:\u001b[0m\u001b[0;34m\u001b[0m\u001b[0;34m\u001b[0m\u001b[0m\n\u001b[0;32m--> 226\u001b[0;31m             \u001b[0mimportances\u001b[0m \u001b[0;34m=\u001b[0m \u001b[0msafe_sqr\u001b[0m\u001b[0;34m(\u001b[0m\u001b[0mimportances\u001b[0m\u001b[0;34m)\u001b[0m\u001b[0;34m\u001b[0m\u001b[0;34m\u001b[0m\u001b[0m\n\u001b[0m\u001b[1;32m    227\u001b[0m         \u001b[0;32melse\u001b[0m\u001b[0;34m:\u001b[0m\u001b[0;34m\u001b[0m\u001b[0;34m\u001b[0m\u001b[0m\n\u001b[1;32m    228\u001b[0m             \u001b[0mimportances\u001b[0m \u001b[0;34m=\u001b[0m \u001b[0msafe_sqr\u001b[0m\u001b[0;34m(\u001b[0m\u001b[0mimportances\u001b[0m\u001b[0;34m)\u001b[0m\u001b[0;34m.\u001b[0m\u001b[0msum\u001b[0m\u001b[0;34m(\u001b[0m\u001b[0maxis\u001b[0m\u001b[0;34m=\u001b[0m\u001b[0;36m0\u001b[0m\u001b[0;34m)\u001b[0m\u001b[0;34m\u001b[0m\u001b[0;34m\u001b[0m\u001b[0m\n",
            "\u001b[0;32m/usr/local/lib/python3.8/dist-packages/sklearn/utils/__init__.py\u001b[0m in \u001b[0;36msafe_sqr\u001b[0;34m(X, copy)\u001b[0m\n\u001b[1;32m    686\u001b[0m     \u001b[0mX\u001b[0m \u001b[0;34m**\u001b[0m \u001b[0;36m2\u001b[0m \u001b[0;34m:\u001b[0m \u001b[0melement\u001b[0m \u001b[0mwise\u001b[0m \u001b[0msquare\u001b[0m\u001b[0;34m\u001b[0m\u001b[0;34m\u001b[0m\u001b[0m\n\u001b[1;32m    687\u001b[0m     \"\"\"\n\u001b[0;32m--> 688\u001b[0;31m     \u001b[0mX\u001b[0m \u001b[0;34m=\u001b[0m \u001b[0mcheck_array\u001b[0m\u001b[0;34m(\u001b[0m\u001b[0mX\u001b[0m\u001b[0;34m,\u001b[0m \u001b[0maccept_sparse\u001b[0m\u001b[0;34m=\u001b[0m\u001b[0;34m[\u001b[0m\u001b[0;34m\"csr\"\u001b[0m\u001b[0;34m,\u001b[0m \u001b[0;34m\"csc\"\u001b[0m\u001b[0;34m,\u001b[0m \u001b[0;34m\"coo\"\u001b[0m\u001b[0;34m]\u001b[0m\u001b[0;34m,\u001b[0m \u001b[0mensure_2d\u001b[0m\u001b[0;34m=\u001b[0m\u001b[0;32mFalse\u001b[0m\u001b[0;34m)\u001b[0m\u001b[0;34m\u001b[0m\u001b[0;34m\u001b[0m\u001b[0m\n\u001b[0m\u001b[1;32m    689\u001b[0m     \u001b[0;32mif\u001b[0m \u001b[0missparse\u001b[0m\u001b[0;34m(\u001b[0m\u001b[0mX\u001b[0m\u001b[0;34m)\u001b[0m\u001b[0;34m:\u001b[0m\u001b[0;34m\u001b[0m\u001b[0;34m\u001b[0m\u001b[0m\n\u001b[1;32m    690\u001b[0m         \u001b[0;32mif\u001b[0m \u001b[0mcopy\u001b[0m\u001b[0;34m:\u001b[0m\u001b[0;34m\u001b[0m\u001b[0;34m\u001b[0m\u001b[0m\n",
            "\u001b[0;32m/usr/local/lib/python3.8/dist-packages/sklearn/utils/validation.py\u001b[0m in \u001b[0;36mcheck_array\u001b[0;34m(array, accept_sparse, accept_large_sparse, dtype, order, copy, force_all_finite, ensure_2d, allow_nd, ensure_min_samples, ensure_min_features, estimator)\u001b[0m\n\u001b[1;32m    798\u001b[0m \u001b[0;34m\u001b[0m\u001b[0m\n\u001b[1;32m    799\u001b[0m         \u001b[0;32mif\u001b[0m \u001b[0mforce_all_finite\u001b[0m\u001b[0;34m:\u001b[0m\u001b[0;34m\u001b[0m\u001b[0;34m\u001b[0m\u001b[0m\n\u001b[0;32m--> 800\u001b[0;31m             \u001b[0m_assert_all_finite\u001b[0m\u001b[0;34m(\u001b[0m\u001b[0marray\u001b[0m\u001b[0;34m,\u001b[0m \u001b[0mallow_nan\u001b[0m\u001b[0;34m=\u001b[0m\u001b[0mforce_all_finite\u001b[0m \u001b[0;34m==\u001b[0m \u001b[0;34m\"allow-nan\"\u001b[0m\u001b[0;34m)\u001b[0m\u001b[0;34m\u001b[0m\u001b[0;34m\u001b[0m\u001b[0m\n\u001b[0m\u001b[1;32m    801\u001b[0m \u001b[0;34m\u001b[0m\u001b[0m\n\u001b[1;32m    802\u001b[0m     \u001b[0;32mif\u001b[0m \u001b[0mensure_min_samples\u001b[0m \u001b[0;34m>\u001b[0m \u001b[0;36m0\u001b[0m\u001b[0;34m:\u001b[0m\u001b[0;34m\u001b[0m\u001b[0;34m\u001b[0m\u001b[0m\n",
            "\u001b[0;32m/usr/local/lib/python3.8/dist-packages/sklearn/utils/validation.py\u001b[0m in \u001b[0;36m_assert_all_finite\u001b[0;34m(X, allow_nan, msg_dtype)\u001b[0m\n\u001b[1;32m    112\u001b[0m         ):\n\u001b[1;32m    113\u001b[0m             \u001b[0mtype_err\u001b[0m \u001b[0;34m=\u001b[0m \u001b[0;34m\"infinity\"\u001b[0m \u001b[0;32mif\u001b[0m \u001b[0mallow_nan\u001b[0m \u001b[0;32melse\u001b[0m \u001b[0;34m\"NaN, infinity\"\u001b[0m\u001b[0;34m\u001b[0m\u001b[0;34m\u001b[0m\u001b[0m\n\u001b[0;32m--> 114\u001b[0;31m             raise ValueError(\n\u001b[0m\u001b[1;32m    115\u001b[0m                 msg_err.format(\n\u001b[1;32m    116\u001b[0m                     \u001b[0mtype_err\u001b[0m\u001b[0;34m,\u001b[0m \u001b[0mmsg_dtype\u001b[0m \u001b[0;32mif\u001b[0m \u001b[0mmsg_dtype\u001b[0m \u001b[0;32mis\u001b[0m \u001b[0;32mnot\u001b[0m \u001b[0;32mNone\u001b[0m \u001b[0;32melse\u001b[0m \u001b[0mX\u001b[0m\u001b[0;34m.\u001b[0m\u001b[0mdtype\u001b[0m\u001b[0;34m\u001b[0m\u001b[0;34m\u001b[0m\u001b[0m\n",
            "\u001b[0;31mValueError\u001b[0m: Input contains NaN, infinity or a value too large for dtype('float32')."
          ]
        }
      ]
    },
    {
      "cell_type": "markdown",
      "source": [
        "\n",
        "\n",
        "Caution: for a very small dataset, very robust local validation is required to determine whether or not a feature contributes to the final solution.\n",
        "\n",
        "\n"
      ],
      "metadata": {
        "id": "f8ko3xqviwVh"
      }
    },
    {
      "cell_type": "markdown",
      "source": [
        "##### 5- Balance the dataset with synthetic samples (SMOTE)\n",
        "\n",
        "\n",
        "Let's look at the distribution of target values:"
      ],
      "metadata": {
        "id": "bcsbOp4kblXX"
      }
    },
    {
      "cell_type": "code",
      "source": [
        "train['target'].value_counts().plot(kind='bar', title='Count (target)');"
      ],
      "metadata": {
        "colab": {
          "base_uri": "https://localhost:8080/",
          "height": 287
        },
        "id": "gJ-nkzjziyiC",
        "outputId": "2663ea81-1a30-4a17-fdec-d3429ad3af73"
      },
      "execution_count": 32,
      "outputs": [
        {
          "output_type": "display_data",
          "data": {
            "text/plain": [
              "<Figure size 432x288 with 1 Axes>"
            ],
            "image/png": "[encoded data removed]"
          },
          "metadata": {
            "needs_background": "light"
          }
        }
      ]
    },
    {
      "cell_type": "markdown",
      "source": [
        "In addition to being extremely small, our training dataset has the unbalanced target binary variable, which can undermine some models' predictability. We will perform an oversampling, which consists of creating new samples to increase the 0 minority class. For this we will use the SMOTE technique.\n",
        "\n",
        "SMOTE (Synthetic Minority Oversampling TEchnique) consists of synthesizing elements for the minority class, based on those that already exist. It works randomly picingk a point from the minority class and computing the k-nearest neighbors for this point. The synthetic points are added between the chosen point and its neighbors.\n",
        "![](https://raw.githubusercontent.com/rafjaa/machine_learning_fecib/master/src/static/img/smote.png)\n",
        "\n",
        "We'll use the SMOTE implementation from the library imbalanced-learn, with the parameter ratio='minority' to resample the minority class:"
      ],
      "metadata": {
        "id": "jf0LHbb1jEK4"
      }
    },
    {
      "cell_type": "code",
      "source": [
        "smote = SMOTE(sampling_strategy='minority', n_jobs=-1)\n",
        "X_sm, y_sm = smote.fit_resample(train[features], train['target'])\n",
        "\n",
        "df = pd.DataFrame(X_sm, columns=features)\n",
        "df['target'] = y_sm\n",
        "\n",
        "df['target'].value_counts().plot(kind='bar', title='Count (target)');"
      ],
      "metadata": {
        "colab": {
          "base_uri": "https://localhost:8080/",
          "height": 382
        },
        "id": "80oQmW47jSJZ",
        "outputId": "06b04c21-5b07-4de3-f3c6-7fe6e3cea32d"
      },
      "execution_count": 33,
      "outputs": [
        {
          "output_type": "error",
          "ename": "ValueError",
          "evalue": "ignored",
          "traceback": [
            "\u001b[0;31m---------------------------------------------------------------------------\u001b[0m",
            "\u001b[0;31mValueError\u001b[0m                                Traceback (most recent call last)",
            "\u001b[0;32m<ipython-input-33-8a6c7bc783cf>\u001b[0m in \u001b[0;36m<module>\u001b[0;34m\u001b[0m\n\u001b[1;32m      2\u001b[0m \u001b[0;34m\u001b[0m\u001b[0m\n\u001b[1;32m      3\u001b[0m \u001b[0msmote\u001b[0m \u001b[0;34m=\u001b[0m \u001b[0mSMOTE\u001b[0m\u001b[0;34m(\u001b[0m\u001b[0msampling_strategy\u001b[0m\u001b[0;34m=\u001b[0m\u001b[0;34m'minority'\u001b[0m\u001b[0;34m,\u001b[0m \u001b[0mn_jobs\u001b[0m\u001b[0;34m=\u001b[0m\u001b[0;34m-\u001b[0m\u001b[0;36m1\u001b[0m\u001b[0;34m)\u001b[0m\u001b[0;34m\u001b[0m\u001b[0;34m\u001b[0m\u001b[0m\n\u001b[0;32m----> 4\u001b[0;31m \u001b[0mX_sm\u001b[0m\u001b[0;34m,\u001b[0m \u001b[0my_sm\u001b[0m \u001b[0;34m=\u001b[0m \u001b[0msmote\u001b[0m\u001b[0;34m.\u001b[0m\u001b[0mfit_resample\u001b[0m\u001b[0;34m(\u001b[0m\u001b[0mtrain\u001b[0m\u001b[0;34m[\u001b[0m\u001b[0mfeatures\u001b[0m\u001b[0;34m]\u001b[0m\u001b[0;34m,\u001b[0m \u001b[0mtrain\u001b[0m\u001b[0;34m[\u001b[0m\u001b[0;34m'target'\u001b[0m\u001b[0;34m]\u001b[0m\u001b[0;34m)\u001b[0m\u001b[0;34m\u001b[0m\u001b[0;34m\u001b[0m\u001b[0m\n\u001b[0m\u001b[1;32m      5\u001b[0m \u001b[0;34m\u001b[0m\u001b[0m\n\u001b[1;32m      6\u001b[0m \u001b[0mdf\u001b[0m \u001b[0;34m=\u001b[0m \u001b[0mpd\u001b[0m\u001b[0;34m.\u001b[0m\u001b[0mDataFrame\u001b[0m\u001b[0;34m(\u001b[0m\u001b[0mX_sm\u001b[0m\u001b[0;34m,\u001b[0m \u001b[0mcolumns\u001b[0m\u001b[0;34m=\u001b[0m\u001b[0mfeatures\u001b[0m\u001b[0;34m)\u001b[0m\u001b[0;34m\u001b[0m\u001b[0;34m\u001b[0m\u001b[0m\n",
            "\u001b[0;32m/usr/local/lib/python3.8/dist-packages/imblearn/base.py\u001b[0m in \u001b[0;36mfit_resample\u001b[0;34m(self, X, y)\u001b[0m\n\u001b[1;32m     81\u001b[0m         )\n\u001b[1;32m     82\u001b[0m \u001b[0;34m\u001b[0m\u001b[0m\n\u001b[0;32m---> 83\u001b[0;31m         \u001b[0moutput\u001b[0m \u001b[0;34m=\u001b[0m \u001b[0mself\u001b[0m\u001b[0;34m.\u001b[0m\u001b[0m_fit_resample\u001b[0m\u001b[0;34m(\u001b[0m\u001b[0mX\u001b[0m\u001b[0;34m,\u001b[0m \u001b[0my\u001b[0m\u001b[0;34m)\u001b[0m\u001b[0;34m\u001b[0m\u001b[0;34m\u001b[0m\u001b[0m\n\u001b[0m\u001b[1;32m     84\u001b[0m \u001b[0;34m\u001b[0m\u001b[0m\n\u001b[1;32m     85\u001b[0m         y_ = (\n",
            "\u001b[0;32m/usr/local/lib/python3.8/dist-packages/imblearn/over_sampling/_smote/base.py\u001b[0m in \u001b[0;36m_fit_resample\u001b[0;34m(self, X, y)\u001b[0m\n\u001b[1;32m    307\u001b[0m \u001b[0;34m\u001b[0m\u001b[0m\n\u001b[1;32m    308\u001b[0m             \u001b[0mself\u001b[0m\u001b[0;34m.\u001b[0m\u001b[0mnn_k_\u001b[0m\u001b[0;34m.\u001b[0m\u001b[0mfit\u001b[0m\u001b[0;34m(\u001b[0m\u001b[0mX_class\u001b[0m\u001b[0;34m)\u001b[0m\u001b[0;34m\u001b[0m\u001b[0;34m\u001b[0m\u001b[0m\n\u001b[0;32m--> 309\u001b[0;31m             \u001b[0mnns\u001b[0m \u001b[0;34m=\u001b[0m \u001b[0mself\u001b[0m\u001b[0;34m.\u001b[0m\u001b[0mnn_k_\u001b[0m\u001b[0;34m.\u001b[0m\u001b[0mkneighbors\u001b[0m\u001b[0;34m(\u001b[0m\u001b[0mX_class\u001b[0m\u001b[0;34m,\u001b[0m \u001b[0mreturn_distance\u001b[0m\u001b[0;34m=\u001b[0m\u001b[0;32mFalse\u001b[0m\u001b[0;34m)\u001b[0m\u001b[0;34m[\u001b[0m\u001b[0;34m:\u001b[0m\u001b[0;34m,\u001b[0m \u001b[0;36m1\u001b[0m\u001b[0;34m:\u001b[0m\u001b[0;34m]\u001b[0m\u001b[0;34m\u001b[0m\u001b[0;34m\u001b[0m\u001b[0m\n\u001b[0m\u001b[1;32m    310\u001b[0m             X_new, y_new = self._make_samples(\n\u001b[1;32m    311\u001b[0m                 \u001b[0mX_class\u001b[0m\u001b[0;34m,\u001b[0m \u001b[0my\u001b[0m\u001b[0;34m.\u001b[0m\u001b[0mdtype\u001b[0m\u001b[0;34m,\u001b[0m \u001b[0mclass_sample\u001b[0m\u001b[0;34m,\u001b[0m \u001b[0mX_class\u001b[0m\u001b[0;34m,\u001b[0m \u001b[0mnns\u001b[0m\u001b[0;34m,\u001b[0m \u001b[0mn_samples\u001b[0m\u001b[0;34m,\u001b[0m \u001b[0;36m1.0\u001b[0m\u001b[0;34m\u001b[0m\u001b[0;34m\u001b[0m\u001b[0m\n",
            "\u001b[0;32m/usr/local/lib/python3.8/dist-packages/sklearn/neighbors/_base.py\u001b[0m in \u001b[0;36mkneighbors\u001b[0;34m(self, X, n_neighbors, return_distance)\u001b[0m\n\u001b[1;32m    725\u001b[0m         \u001b[0mn_samples_fit\u001b[0m \u001b[0;34m=\u001b[0m \u001b[0mself\u001b[0m\u001b[0;34m.\u001b[0m\u001b[0mn_samples_fit_\u001b[0m\u001b[0;34m\u001b[0m\u001b[0;34m\u001b[0m\u001b[0m\n\u001b[1;32m    726\u001b[0m         \u001b[0;32mif\u001b[0m \u001b[0mn_neighbors\u001b[0m \u001b[0;34m>\u001b[0m \u001b[0mn_samples_fit\u001b[0m\u001b[0;34m:\u001b[0m\u001b[0;34m\u001b[0m\u001b[0;34m\u001b[0m\u001b[0m\n\u001b[0;32m--> 727\u001b[0;31m             raise ValueError(\n\u001b[0m\u001b[1;32m    728\u001b[0m                 \u001b[0;34m\"Expected n_neighbors <= n_samples, \"\u001b[0m\u001b[0;34m\u001b[0m\u001b[0;34m\u001b[0m\u001b[0m\n\u001b[1;32m    729\u001b[0m                 \u001b[0;34m\" but n_samples = %d, n_neighbors = %d\"\u001b[0m \u001b[0;34m%\u001b[0m \u001b[0;34m(\u001b[0m\u001b[0mn_samples_fit\u001b[0m\u001b[0;34m,\u001b[0m \u001b[0mn_neighbors\u001b[0m\u001b[0;34m)\u001b[0m\u001b[0;34m\u001b[0m\u001b[0;34m\u001b[0m\u001b[0m\n",
            "\u001b[0;31mValueError\u001b[0m: Expected n_neighbors <= n_samples,  but n_samples = 1, n_neighbors = 6"
          ]
        }
      ]
    },
    {
      "cell_type": "markdown",
      "source": [
        "Using TensorFlow backend.\n",
        "\n",
        "\n"
      ],
      "metadata": {
        "id": "3pCJo57djV_G"
      }
    },
    {
      "cell_type": "markdown",
      "source": [
        "#####  6- Combine models for the final submission\n",
        "\n",
        "Combine the prediction of several models or the same model with different values of hyperparameters reduces variance and enhances generalization.\n",
        "\n",
        "![](https://raw.githubusercontent.com/rafjaa/machine_learning_fecib/master/src/static/img/smote.png)\n",
        "\n",
        "Often, combining weak models that are poorly correlated with each other can lead to superior results than a strong individual model. There are several ways to do this. The simplest is to perform a weighted average of the various predictions:\n"
      ],
      "metadata": {
        "id": "Em2zEWSkbvMS"
      }
    },
    {
      "cell_type": "code",
      "source": [
        "models = [\n",
        "    LogisticRegression(),\n",
        "    XGBClassifier(max_depth=2)\n",
        "]\n",
        "\n",
        "preds = pd.DataFrame()\n",
        "for i, m in enumerate(models):\n",
        "    m.fit(train[features], target),\n",
        "    preds[i] = m.predict_proba(test[features])[:,1]\n",
        "\n",
        "weights = [1, 0.3]\n",
        "preds['weighted_pred'] = (preds * weights).sum(axis=1) / sum(weights)\n",
        "preds.head()"
      ],
      "metadata": {
        "colab": {
          "base_uri": "https://localhost:8080/",
          "height": 206
        },
        "id": "8UY9eC_pjs0L",
        "outputId": "694d44a5-46f6-4f3a-a402-3a98a0609540"
      },
      "execution_count": 34,
      "outputs": [
        {
          "output_type": "execute_result",
          "data": {
            "text/plain": [
              "          0         1  weighted_pred\n",
              "0  0.187085  0.335869       0.221420\n",
              "1  0.179140  0.335869       0.215308\n",
              "2  0.124155  0.335869       0.173012\n",
              "3  0.128510  0.335869       0.176362\n",
              "4  0.159805  0.335869       0.200435"
            ],
            "text/html": [
              "\n",
              "  <div id=\"df-0df0d1dc-c2d5-4b4e-82b7-2c62910b01b2\">\n",
              "    <div class=\"colab-df-container\">\n",
              "      <div>\n",
              "<style scoped>\n",
              "    .dataframe tbody tr th:only-of-type {\n",
              "        vertical-align: middle;\n",
              "    }\n",
              "\n",
              "    .dataframe tbody tr th {\n",
              "        vertical-align: top;\n",
              "    }\n",
              "\n",
              "    .dataframe thead th {\n",
              "        text-align: right;\n",
              "    }\n",
              "</style>\n",
              "<table border=\"1\" class=\"dataframe\">\n",
              "  <thead>\n",
              "    <tr style=\"text-align: right;\">\n",
              "      <th></th>\n",
              "      <th>0</th>\n",
              "      <th>1</th>\n",
              "      <th>weighted_pred</th>\n",
              "    </tr>\n",
              "  </thead>\n",
              "  <tbody>\n",
              "    <tr>\n",
              "      <th>0</th>\n",
              "      <td>0.187085</td>\n",
              "      <td>0.335869</td>\n",
              "      <td>0.221420</td>\n",
              "    </tr>\n",
              "    <tr>\n",
              "      <th>1</th>\n",
              "      <td>0.179140</td>\n",
              "      <td>0.335869</td>\n",
              "      <td>0.215308</td>\n",
              "    </tr>\n",
              "    <tr>\n",
              "      <th>2</th>\n",
              "      <td>0.124155</td>\n",
              "      <td>0.335869</td>\n",
              "      <td>0.173012</td>\n",
              "    </tr>\n",
              "    <tr>\n",
              "      <th>3</th>\n",
              "      <td>0.128510</td>\n",
              "      <td>0.335869</td>\n",
              "      <td>0.176362</td>\n",
              "    </tr>\n",
              "    <tr>\n",
              "      <th>4</th>\n",
              "      <td>0.159805</td>\n",
              "      <td>0.335869</td>\n",
              "      <td>0.200435</td>\n",
              "    </tr>\n",
              "  </tbody>\n",
              "</table>\n",
              "</div>\n",
              "      <button class=\"colab-df-convert\" onclick=\"convertToInteractive('df-0df0d1dc-c2d5-4b4e-82b7-2c62910b01b2')\"\n",
              "              title=\"Convert this dataframe to an interactive table.\"\n",
              "              style=\"display:none;\">\n",
              "        \n",
              "  <svg xmlns=\"http://www.w3.org/2000/svg\" height=\"24px\"viewBox=\"0 0 24 24\"\n",
              "       width=\"24px\">\n",
              "    <path d=\"M0 0h24v24H0V0z\" fill=\"none\"/>\n",
              "    <path d=\"M18.56 5.44l.94 2.06.94-2.06 2.06-.94-2.06-.94-.94-2.06-.94 2.06-2.06.94zm-11 1L8.5 8.5l.94-2.06 2.06-.94-2.06-.94L8.5 2.5l-.94 2.06-2.06.94zm10 10l.94 2.06.94-2.06 2.06-.94-2.06-.94-.94-2.06-.94 2.06-2.06.94z\"/><path d=\"M17.41 7.96l-1.37-1.37c-.4-.4-.92-.59-1.43-.59-.52 0-1.04.2-1.43.59L10.3 9.45l-7.72 7.72c-.78.78-.78 2.05 0 2.83L4 21.41c.39.39.9.59 1.41.59.51 0 1.02-.2 1.41-.59l7.78-7.78 2.81-2.81c.8-.78.8-2.07 0-2.86zM5.41 20L4 18.59l7.72-7.72 1.47 1.35L5.41 20z\"/>\n",
              "  </svg>\n",
              "      </button>\n",
              "      \n",
              "  <style>\n",
              "    .colab-df-container {\n",
              "      display:flex;\n",
              "      flex-wrap:wrap;\n",
              "      gap: 12px;\n",
              "    }\n",
              "\n",
              "    .colab-df-convert {\n",
              "      background-color: #E8F0FE;\n",
              "      border: none;\n",
              "      border-radius: 50%;\n",
              "      cursor: pointer;\n",
              "      display: none;\n",
              "      fill: #1967D2;\n",
              "      height: 32px;\n",
              "      padding: 0 0 0 0;\n",
              "      width: 32px;\n",
              "    }\n",
              "\n",
              "    .colab-df-convert:hover {\n",
              "      background-color: #E2EBFA;\n",
              "      box-shadow: 0px 1px 2px rgba(60, 64, 67, 0.3), 0px 1px 3px 1px rgba(60, 64, 67, 0.15);\n",
              "      fill: #174EA6;\n",
              "    }\n",
              "\n",
              "    [theme=dark] .colab-df-convert {\n",
              "      background-color: #3B4455;\n",
              "      fill: #D2E3FC;\n",
              "    }\n",
              "\n",
              "    [theme=dark] .colab-df-convert:hover {\n",
              "      background-color: #434B5C;\n",
              "      box-shadow: 0px 1px 3px 1px rgba(0, 0, 0, 0.15);\n",
              "      filter: drop-shadow(0px 1px 2px rgba(0, 0, 0, 0.3));\n",
              "      fill: #FFFFFF;\n",
              "    }\n",
              "  </style>\n",
              "\n",
              "      <script>\n",
              "        const buttonEl =\n",
              "          document.querySelector('#df-0df0d1dc-c2d5-4b4e-82b7-2c62910b01b2 button.colab-df-convert');\n",
              "        buttonEl.style.display =\n",
              "          google.colab.kernel.accessAllowed ? 'block' : 'none';\n",
              "\n",
              "        async function convertToInteractive(key) {\n",
              "          const element = document.querySelector('#df-0df0d1dc-c2d5-4b4e-82b7-2c62910b01b2');\n",
              "          const dataTable =\n",
              "            await google.colab.kernel.invokeFunction('convertToInteractive',\n",
              "                                                     [key], {});\n",
              "          if (!dataTable) return;\n",
              "\n",
              "          const docLinkHtml = 'Like what you see? Visit the ' +\n",
              "            '<a target=\"_blank\" href=https://colab.research.google.com/notebooks/data_table.ipynb>data table notebook</a>'\n",
              "            + ' to learn more about interactive tables.';\n",
              "          element.innerHTML = '';\n",
              "          dataTable['output_type'] = 'display_data';\n",
              "          await google.colab.output.renderOutput(dataTable, element);\n",
              "          const docLink = document.createElement('div');\n",
              "          docLink.innerHTML = docLinkHtml;\n",
              "          element.appendChild(docLink);\n",
              "        }\n",
              "      </script>\n",
              "    </div>\n",
              "  </div>\n",
              "  "
            ]
          },
          "metadata": {},
          "execution_count": 34
        }
      ]
    },
    {
      "cell_type": "markdown",
      "source": [
        "Another more sophisticated way of combining predictions is the use of a meta-classifier, which receives as input the prediction of other classifiers, and performs the final predict. From the mlxtend library documentation:\n",
        "\n",
        "    Stacking is an ensemble learning technique to combine multiple classification models via a meta-classifier. The individual classification models are trained based on the complete training set; then, the meta-classifier is fitted based on the outputs -- meta-features -- of the individual classification models in the ensemble. The meta-classifier can either be trained on the predicted class labels or probabilities from the ensemble.\n",
        "\n",
        "![](https://raw.githubusercontent.com/rafjaa/curso-mineracao-de-dados-aplicada/master/img/kernel_overfitting/stack.png)\n",
        "\n",
        "As an example, we will use the StackingClassifier of the mlxtend library:\n"
      ],
      "metadata": {
        "id": "Fct1CKT8jxi-"
      }
    },
    {
      "cell_type": "code",
      "source": [
        "m = StackingClassifier(\n",
        "    classifiers=[\n",
        "        LogisticRegression(),\n",
        "        XGBClassifier(max_depth=2)\n",
        "    ],\n",
        "    use_probas=True,\n",
        "    meta_classifier=LogisticRegression()\n",
        ")\n",
        "\n",
        "m.fit(train[features], target),\n",
        "preds['stack_pred'] = m.predict_proba(test[features])[:,1]\n",
        "preds.head()"
      ],
      "metadata": {
        "colab": {
          "base_uri": "https://localhost:8080/",
          "height": 521
        },
        "id": "Cl5MmmZyj9xF",
        "outputId": "ab3927cd-47ab-48c9-8e95-68f1e00ad355"
      },
      "execution_count": 35,
      "outputs": [
        {
          "output_type": "stream",
          "name": "stdout",
          "text": [
            "Looking in indexes: https://pypi.org/simple, https://us-python.pkg.dev/colab-wheels/public/simple/\n",
            "Requirement already satisfied: six in /usr/local/lib/python3.8/dist-packages (1.15.0)\n",
            "Looking in indexes: https://pypi.org/simple, https://us-python.pkg.dev/colab-wheels/public/simple/\n",
            "Collecting mlrose\n",
            "  Downloading mlrose-1.3.0-py3-none-any.whl (27 kB)\n",
            "Requirement already satisfied: scipy in /usr/local/lib/python3.8/dist-packages (from mlrose) (1.7.3)\n",
            "Requirement already satisfied: numpy in /usr/local/lib/python3.8/dist-packages (from mlrose) (1.21.6)\n",
            "Collecting sklearn\n",
            "  Using cached sklearn-0.0.post1.tar.gz (3.6 kB)\n",
            "  Preparing metadata (setup.py) ... \u001b[?25l\u001b[?25hdone\n",
            "Building wheels for collected packages: sklearn\n",
            "  Building wheel for sklearn (setup.py) ... \u001b[?25l\u001b[?25hdone\n",
            "  Created wheel for sklearn: filename=sklearn-0.0.post1-py3-none-any.whl size=2344 sha256=0881c2af78efdc8dac1671f25bed0f4e784d17b578f3f8d5349f4952d2c53ae6\n",
            "  Stored in directory: /root/.cache/pip/wheels/14/25/f7/1cc0956978ae479e75140219088deb7a36f60459df242b1a72\n",
            "Successfully built sklearn\n",
            "Installing collected packages: sklearn, mlrose\n",
            "Successfully installed mlrose-1.3.0 sklearn-0.0.post1\n"
          ]
        },
        {
          "output_type": "execute_result",
          "data": {
            "text/plain": [
              "          0         1  weighted_pred  stack_pred\n",
              "0  0.187085  0.335869       0.221420    0.294749\n",
              "1  0.179140  0.335869       0.215308    0.293086\n",
              "2  0.124155  0.335869       0.173012    0.281733\n",
              "3  0.128510  0.335869       0.176362    0.282623\n",
              "4  0.159805  0.335869       0.200435    0.289064"
            ],
            "text/html": [
              "\n",
              "  <div id=\"df-910dd45a-bad7-42ab-aef2-a97b81221257\">\n",
              "    <div class=\"colab-df-container\">\n",
              "      <div>\n",
              "<style scoped>\n",
              "    .dataframe tbody tr th:only-of-type {\n",
              "        vertical-align: middle;\n",
              "    }\n",
              "\n",
              "    .dataframe tbody tr th {\n",
              "        vertical-align: top;\n",
              "    }\n",
              "\n",
              "    .dataframe thead th {\n",
              "        text-align: right;\n",
              "    }\n",
              "</style>\n",
              "<table border=\"1\" class=\"dataframe\">\n",
              "  <thead>\n",
              "    <tr style=\"text-align: right;\">\n",
              "      <th></th>\n",
              "      <th>0</th>\n",
              "      <th>1</th>\n",
              "      <th>weighted_pred</th>\n",
              "      <th>stack_pred</th>\n",
              "    </tr>\n",
              "  </thead>\n",
              "  <tbody>\n",
              "    <tr>\n",
              "      <th>0</th>\n",
              "      <td>0.187085</td>\n",
              "      <td>0.335869</td>\n",
              "      <td>0.221420</td>\n",
              "      <td>0.294749</td>\n",
              "    </tr>\n",
              "    <tr>\n",
              "      <th>1</th>\n",
              "      <td>0.179140</td>\n",
              "      <td>0.335869</td>\n",
              "      <td>0.215308</td>\n",
              "      <td>0.293086</td>\n",
              "    </tr>\n",
              "    <tr>\n",
              "      <th>2</th>\n",
              "      <td>0.124155</td>\n",
              "      <td>0.335869</td>\n",
              "      <td>0.173012</td>\n",
              "      <td>0.281733</td>\n",
              "    </tr>\n",
              "    <tr>\n",
              "      <th>3</th>\n",
              "      <td>0.128510</td>\n",
              "      <td>0.335869</td>\n",
              "      <td>0.176362</td>\n",
              "      <td>0.282623</td>\n",
              "    </tr>\n",
              "    <tr>\n",
              "      <th>4</th>\n",
              "      <td>0.159805</td>\n",
              "      <td>0.335869</td>\n",
              "      <td>0.200435</td>\n",
              "      <td>0.289064</td>\n",
              "    </tr>\n",
              "  </tbody>\n",
              "</table>\n",
              "</div>\n",
              "      <button class=\"colab-df-convert\" onclick=\"convertToInteractive('df-910dd45a-bad7-42ab-aef2-a97b81221257')\"\n",
              "              title=\"Convert this dataframe to an interactive table.\"\n",
              "              style=\"display:none;\">\n",
              "        \n",
              "  <svg xmlns=\"http://www.w3.org/2000/svg\" height=\"24px\"viewBox=\"0 0 24 24\"\n",
              "       width=\"24px\">\n",
              "    <path d=\"M0 0h24v24H0V0z\" fill=\"none\"/>\n",
              "    <path d=\"M18.56 5.44l.94 2.06.94-2.06 2.06-.94-2.06-.94-.94-2.06-.94 2.06-2.06.94zm-11 1L8.5 8.5l.94-2.06 2.06-.94-2.06-.94L8.5 2.5l-.94 2.06-2.06.94zm10 10l.94 2.06.94-2.06 2.06-.94-2.06-.94-.94-2.06-.94 2.06-2.06.94z\"/><path d=\"M17.41 7.96l-1.37-1.37c-.4-.4-.92-.59-1.43-.59-.52 0-1.04.2-1.43.59L10.3 9.45l-7.72 7.72c-.78.78-.78 2.05 0 2.83L4 21.41c.39.39.9.59 1.41.59.51 0 1.02-.2 1.41-.59l7.78-7.78 2.81-2.81c.8-.78.8-2.07 0-2.86zM5.41 20L4 18.59l7.72-7.72 1.47 1.35L5.41 20z\"/>\n",
              "  </svg>\n",
              "      </button>\n",
              "      \n",
              "  <style>\n",
              "    .colab-df-container {\n",
              "      display:flex;\n",
              "      flex-wrap:wrap;\n",
              "      gap: 12px;\n",
              "    }\n",
              "\n",
              "    .colab-df-convert {\n",
              "      background-color: #E8F0FE;\n",
              "      border: none;\n",
              "      border-radius: 50%;\n",
              "      cursor: pointer;\n",
              "      display: none;\n",
              "      fill: #1967D2;\n",
              "      height: 32px;\n",
              "      padding: 0 0 0 0;\n",
              "      width: 32px;\n",
              "    }\n",
              "\n",
              "    .colab-df-convert:hover {\n",
              "      background-color: #E2EBFA;\n",
              "      box-shadow: 0px 1px 2px rgba(60, 64, 67, 0.3), 0px 1px 3px 1px rgba(60, 64, 67, 0.15);\n",
              "      fill: #174EA6;\n",
              "    }\n",
              "\n",
              "    [theme=dark] .colab-df-convert {\n",
              "      background-color: #3B4455;\n",
              "      fill: #D2E3FC;\n",
              "    }\n",
              "\n",
              "    [theme=dark] .colab-df-convert:hover {\n",
              "      background-color: #434B5C;\n",
              "      box-shadow: 0px 1px 3px 1px rgba(0, 0, 0, 0.15);\n",
              "      filter: drop-shadow(0px 1px 2px rgba(0, 0, 0, 0.3));\n",
              "      fill: #FFFFFF;\n",
              "    }\n",
              "  </style>\n",
              "\n",
              "      <script>\n",
              "        const buttonEl =\n",
              "          document.querySelector('#df-910dd45a-bad7-42ab-aef2-a97b81221257 button.colab-df-convert');\n",
              "        buttonEl.style.display =\n",
              "          google.colab.kernel.accessAllowed ? 'block' : 'none';\n",
              "\n",
              "        async function convertToInteractive(key) {\n",
              "          const element = document.querySelector('#df-910dd45a-bad7-42ab-aef2-a97b81221257');\n",
              "          const dataTable =\n",
              "            await google.colab.kernel.invokeFunction('convertToInteractive',\n",
              "                                                     [key], {});\n",
              "          if (!dataTable) return;\n",
              "\n",
              "          const docLinkHtml = 'Like what you see? Visit the ' +\n",
              "            '<a target=\"_blank\" href=https://colab.research.google.com/notebooks/data_table.ipynb>data table notebook</a>'\n",
              "            + ' to learn more about interactive tables.';\n",
              "          element.innerHTML = '';\n",
              "          dataTable['output_type'] = 'display_data';\n",
              "          await google.colab.output.renderOutput(dataTable, element);\n",
              "          const docLink = document.createElement('div');\n",
              "          docLink.innerHTML = docLinkHtml;\n",
              "          element.appendChild(docLink);\n",
              "        }\n",
              "      </script>\n",
              "    </div>\n",
              "  </div>\n",
              "  "
            ]
          },
          "metadata": {},
          "execution_count": 35
        }
      ]
    },
    {
      "cell_type": "markdown",
      "source": [
        "![](https://raw.githubusercontent.com/rafjaa/curso-mineracao-de-dados-aplicada/master/img/kernel_overfitting/mem2.jpg)"
      ],
      "metadata": {
        "id": "jL63JZu5r6i2"
      }
    },
    {
      "cell_type": "markdown",
      "source": [
        "\n",
        "##### References\n",
        "\n",
        "Overfitting:\n",
        "\n",
        "    IRIC's Bioinformatics Platform. Overfitting and Regularization. https://bioinfo.iric.ca/overfitting-and-regularization/\n",
        "    PATNI, Shubham. Generalisation, Training-Validation & Test data. Machine Learning- Part 6. https://medium.com/@shubhapatnim86/generalisation-training-validation-test-data-machine-learning-part-6-1de9dbb7d3d5\n",
        "    Rants on Machine Learning. What to do with “small” data? https://medium.com/rants-on-machine-learning/what-to-do-with-small-data-d253254d1a89\n",
        "    Towards Data Science. Breaking the curse of small datasets in Machine Learning: Part 1. https://towardsdatascience.com/breaking-the-curse-of-small-datasets-in-machine-learning-part-1-36f28b0c044d\n",
        "\n",
        "Models:\n",
        "\n",
        "    scikit-learn. LogisticRegression. https://scikit-learn.org/stable/modules/generated/sklearn.linear_model.LogisticRegression.html\n",
        "    Towards Data Science. Logistic Regression — Detailed Overview. https://towardsdatascience.com/logistic-regression-detailed-overview-46c4da4303bc\n",
        "    XGBoost. XGBoost Parameters. https://xgboost.readthedocs.io/en/latest/parameter.html\n",
        "\n",
        "Outlier detection:\n",
        "\n",
        "    Liu, Fei Tony, Ting, Kai Ming and Zhou, Zhi-Hua. “Isolation forest.” Data Mining, 2008. ICDM‘08. Eighth IEEE International Conference on.\n",
        "    Machine Learning Valencia. Anomaly Detection. Valencian Summer School 2015. https://www.slideshare.net/mlvlc/l14-anomaly-detection\n",
        "    scikit-learn. Novelty and Outlier Detection. https://scikit-learn.org/stable/modules/outlier_detection.html\n",
        "    VADALI, SaiGayatri.Day 7: Data cleaning — All you need to know about it. https://becominghuman.ai/day-7-data-cleaning-all-that-you-need-to-know-about-it-23b05738abe7\n",
        "\n",
        "Feature selection:\n",
        "\n",
        "    scikit-learn. Feature selection. https://scikit-learn.org/stable/modules/feature_selection.html\n",
        "\n",
        "SMOTE\n",
        "\n",
        "    ALENCAR, Rafael. Resampling strategies for imbalanced datasets. https://www.kaggle.com/rafjaa/resampling-strategies-for-imbalanced-datasets\n",
        "    Chawla, Nitesh V., et al. \"SMOTE: synthetic minority over-sampling technique.\" Journal of artificial intelligence research 16 (2002)\n",
        "    imbalanced-learn. https://imbalanced-learn.readthedocs.io/en/stable/generated/imblearn.over_sampling.SMOTE.html\n",
        "\n",
        "Stacking\n",
        "\n",
        "    mlxtend. StackingClassifier. http://rasbt.github.io/mlxtend/user_guide/classifier/StackingClassifier/\n",
        "    Tang, J., S. Alelyani, and H. Liu. \"Data Classification: Algorithms and Applications.\" Data Mining and Knowledge Discovery Series, CRC Press (2015): pp. 498-500.\n",
        "    Wolpert, David H. \"Stacked generalization.\" Neural networks 5.2 (1992): 241-259.\n",
        "\n"
      ],
      "metadata": {
        "id": "no2V00EzkJ6L"
      }
    },
    {
      "cell_type": "markdown",
      "source": [
        "#### Example 2\n",
        "\n",
        "ref: https://www.kaggle.com/code/pro1amr/don-t-overfit "
      ],
      "metadata": {
        "id": "3PvZN_racqzZ"
      }
    },
    {
      "cell_type": "code",
      "source": [
        "\n",
        "\n",
        "import sys, os\n",
        "import pandas as pd\n",
        "import numpy as np\n",
        "\n",
        "from sklearn.linear_model import Lasso\n",
        "from sklearn.feature_selection import RFECV\n",
        "from sklearn.preprocessing import RobustScaler\n",
        "from sklearn.model_selection import StratifiedShuffleSplit, GridSearchCV\n",
        "from sklearn.metrics import mean_squared_error, mean_absolute_error, roc_auc_score, r2_score, make_scorer\n",
        "from sklearn.metrics.pairwise import cosine_similarity, euclidean_distances\n",
        "import matplotlib.pyplot as plt\n",
        "\n",
        "\n",
        "\n",
        "from sklearn.ensemble import ExtraTreesClassifier\n",
        "import seaborn as sns\n",
        "import matplotlib.pyplot as plt\n",
        "\n",
        "\n",
        "\n",
        "def warn(*args, **kwargs):\n",
        "    pass\n",
        "import warnings\n",
        "warnings.warn = warn\n",
        "\n",
        "rfe_min_features = 12\n",
        "rfe_step = 15\n",
        "rfe_cv = 20\n",
        "sss_n_splits = 20\n",
        "sss_test_size = 0.35\n",
        "grid_search_cv = 20\n",
        "noise_std = 0.01\n",
        "r2_threshold = 0.185\n",
        "random_seed = 213\n",
        "\n",
        "np.random.seed(random_seed)\n",
        "\n",
        "# import data\n",
        "#train = pd.read_csv('../input/older-dataset-for-dont-overfit-ii-challenge/train.csv')\n",
        "train_y = train['target']\n",
        "train_X = train.drop(['id','target'], axis=1).values\n",
        "\n",
        "#test_df = pd.read_csv('../input/older-dataset-for-dont-overfit-ii-challenge/test.csv')\n",
        "test_df = test\n",
        "test_df= test_df.drop(['id'], axis=1).values\n",
        "train.head()\n",
        "train.info()\n",
        "train.nunique()\n",
        "\n",
        "\n",
        "#number of training samples is too small\n",
        "plt.bar(range(2), (train_X.shape[0], test_df.shape[0]), align='center', alpha=0.8)\n",
        "plt.xticks(range(2), ('train','test'))\n",
        "plt.ylabel('Number of data') \n",
        "plt.title('Can we avoid overfitting')\n",
        "plt.show()\n",
        "\n",
        "\n",
        "#from the hist of each column it shows that data follows a gaussian shape or normal distribution around 0 mean and std =1\n",
        "plt.figure(figsize=(15,15))\n",
        "for i in range(5):\n",
        "    for j in range(5):\n",
        "        plt.subplot(5,5,5*i+j+1)\n",
        "        plt.hist(train[str(5*i+j)],bins=100)\n",
        "        plt.title('Column '+str(5*i+j))\n",
        "plt.show()\n",
        "\n",
        "\n",
        "\n",
        "#check the mean value and std on the train \n",
        "\n",
        "# with mean 0 and std 1 \n",
        "print(train.mean().sum()/300)\n",
        "print(train.std().sum()/300)\n",
        "\n",
        "\n",
        "\n",
        "#check the mean value and std on the Test Data \n",
        "print(test_df.mean().sum()/300)\n",
        "print(test_df.std().sum()/300)\n",
        "\n",
        "\n",
        "\n",
        "# scale using RobustScaler \n",
        "data = RobustScaler().fit_transform(np.concatenate((train_X, test_df), axis=0))\n",
        "train_X = data[:250]\n",
        "test_df= data[250:]\n",
        "# add a bit of noise to train_X to reduce overfitting\n",
        "train_X += np.random.normal(0, noise_std, train_X.shape)\n",
        "\n",
        "\n",
        "\n",
        "# define roc_auc_metric \n",
        "#then make it as ascorer \n",
        "def scoring_roc_auc(y, y_pred):\n",
        "    try:\n",
        "        return roc_auc_score(y, y_pred)\n",
        "    except:\n",
        "        return 0.5\n",
        "\n",
        "robust_roc_auc = make_scorer(scoring_roc_auc)\n",
        "\n",
        "\n",
        "\n",
        "\n",
        "#Draw Correlation heatmap\n",
        "train.drop(columns=['id','target']).corr()\n",
        "\n",
        "\n",
        "\n",
        "#Try hist gradient classifier without any normalization on the data then get the most important features \n",
        "\n",
        "HistGradient = ExtraTreesClassifier(warm_start=True)\n",
        "\n",
        "param = {'n_estimators' : [250,500], \n",
        "    'max_depth' : [11],\n",
        "   \n",
        "         'min_samples_split':[9],\n",
        "         'min_samples_leaf':[9],\n",
        "        }\n",
        "\n",
        "gridSearch_HistGradient = GridSearchCV(HistGradient,param,scoring=robust_roc_auc,cv=7,verbose=3)\n",
        "gridSearch_HistGradient.fit(train_X, train_y)\n",
        "\n",
        "best_HistGradient = gridSearch_HistGradient.best_estimator_\n",
        "bestHistGradient_testScore=best_HistGradient.score(train_X, train_y)\n",
        "\n",
        "\n",
        "\n",
        "### Feature selection using RFECV on Lasso\n",
        "\n",
        "# define Laso model and its parameters\n",
        "#Lasso uses L1 normalization\n",
        "model = Lasso(alpha=0.031, tol=0.01,warm_start=True, random_state=random_seed, selection='random')\n",
        "\n",
        "param_grid = {\n",
        "            'alpha' : [0.022, 0.021, 0.02, 0.019, 0.023, 0.024, 0.025, 0.026, 0.027, 0.029, 0.031],\n",
        "            'tol'   : [0.0013, 0.0014, 0.001, 0.0015, 0.0011, 0.0012, 0.0016, 0.0017]\n",
        "        }\n",
        "\n",
        "# define recursive elimination feature selector\n",
        "feature_selector = RFECV(model, min_features_to_select=rfe_min_features, scoring=robust_roc_auc, step=rfe_step, verbose=0, cv=rfe_cv, n_jobs=-1)\n",
        "\n",
        "predictions = pd.DataFrame()\n",
        "counter = 0\n",
        "print(\"counter | val_mse  |  val_mae  |  val_roc  |  val_cos  |  val_dist  |  val_r2    | feature_count \")\n",
        "print(\"-------------------------------------------------------------------------------------------------\")\n",
        "# split training data to build one model on each traing-data-subset\n",
        "for train_index, val_index in StratifiedShuffleSplit(n_splits=sss_n_splits, test_size=sss_test_size, random_state=random_seed).split(train_X, train_y):\n",
        "    X, val_X = train_X[train_index], train_X[val_index]\n",
        "    y, val_y = train_y[train_index], train_y[val_index]\n",
        "\n",
        "    # get the best features for this data set\n",
        "    feature_selector.fit(X, y)\n",
        "    # remove irrelevant features from X, val_X and test\n",
        "    X_important_features        = feature_selector.transform(X)\n",
        "    val_X_important_features    = feature_selector.transform(val_X)\n",
        "    test_important_features     = feature_selector.transform(test_df)\n",
        "\n",
        "    # run grid search to find the best Lasso parameters for this subset of training data and subset of features \n",
        "    grid_search = GridSearchCV(feature_selector.estimator_, param_grid=param_grid, verbose=0, n_jobs=-1, scoring=robust_roc_auc, cv=20)\n",
        "    grid_search.fit(X_important_features, y)\n",
        "\n",
        "    # score  fitted model on validation data\n",
        "    val_y_pred = grid_search.best_estimator_.predict(val_X_important_features)\n",
        "    val_mse = mean_squared_error(val_y, val_y_pred)\n",
        "    val_mae = mean_absolute_error(val_y, val_y_pred)\n",
        "    val_roc = roc_auc_score(val_y, val_y_pred)\n",
        "    val_cos = cosine_similarity(val_y.values.reshape(1, -1), val_y_pred.reshape(1, -1))[0][0]\n",
        "    val_dst = euclidean_distances(val_y.values.reshape(1, -1), val_y_pred.reshape(1, -1))[0][0]\n",
        "    val_r2  = r2_score(val_y, val_y_pred)\n",
        "\n",
        "    # if model did well on validation, save its prediction on test data, using only important features\n",
        "    # r2_threshold (0.185) is a heuristic threshold for r2 error\n",
        "    # you can use any other metric/metric combination that works for you\n",
        "    if val_r2 > r2_threshold:\n",
        "        message = '<-- OK'\n",
        "        prediction = grid_search.best_estimator_.predict(test_important_features)\n",
        "        predictions = pd.concat([predictions, pd.DataFrame(prediction)], axis=1)\n",
        "    else:\n",
        "        message = '<-- skipping'\n",
        "\n",
        "\n",
        "    print(\"{0:2}      | {1:.4f}   |  {2:.4f}   |  {3:.4f}   |  {4:.4f}   |  {5:.4f}    |  {6:.4f}    |  {7:3}         {8}  \".format(counter, val_mse, val_mae, val_roc, val_cos, val_dst, val_r2, feature_selector.n_features_, message))\n",
        "    \n",
        "    counter += 1\n",
        "\n",
        "print(\"-------------------------------------------------------------------------------------------------\")\n",
        "print(\"{}/{} models passed validation threshold and will be ensembled.\".format(len(predictions.columns), sss_n_splits))\n",
        "\n",
        "mean_pred = pd.DataFrame(predictions.mean(axis=1))\n",
        "mean_pred.index += 250\n",
        "mean_pred.columns = ['target']\n",
        "print(\"-----------------------------------------\")\n",
        "print(\"mean_pred: \",mean_pred)\n",
        "\n",
        "\n",
        "#mean_pred.to_csv('submission.csv', index_label='id', index=True) "
      ],
      "metadata": {
        "id": "6sAPGuMGjs8q",
        "colab": {
          "base_uri": "https://localhost:8080/",
          "height": 1000
        },
        "outputId": "f3329f22-e6c7-4f06-b5f2-10ee64bbed74"
      },
      "execution_count": 45,
      "outputs": [
        {
          "output_type": "stream",
          "name": "stdout",
          "text": [
            "<class 'pandas.core.frame.DataFrame'>\n",
            "RangeIndex: 250 entries, 0 to 249\n",
            "Columns: 302 entries, id to 299\n",
            "dtypes: float64(301), int64(1)\n",
            "memory usage: 590.0 KB\n"
          ]
        },
        {
          "output_type": "display_data",
          "data": {
            "text/plain": [
              "<Figure size 432x288 with 1 Axes>"
            ],
            "image/png": "[encoded data removed]"
          },
          "metadata": {
            "needs_background": "light"
          }
        },
        {
          "output_type": "display_data",
          "data": {
            "text/plain": [
              "<Figure size 1080x1080 with 25 Axes>"
            ],
            "image/png": "[encoded data removed]"
          },
          "metadata": {
            "needs_background": "light"
          }
        },
        {
          "output_type": "stream",
          "name": "stdout",
          "text": [
            "0.41172020000000004\n",
            "1.2443133789158767\n",
            "6.871111111111117e-08\n",
            "0.0033342908871973214\n",
            "Fitting 7 folds for each of 2 candidates, totalling 14 fits\n",
            "[CV 1/7] END max_depth=11, min_samples_leaf=9, min_samples_split=9, n_estimators=250;, score=0.500 total time=   0.3s\n",
            "[CV 2/7] END max_depth=11, min_samples_leaf=9, min_samples_split=9, n_estimators=250;, score=0.500 total time=   0.3s\n",
            "[CV 3/7] END max_depth=11, min_samples_leaf=9, min_samples_split=9, n_estimators=250;, score=0.500 total time=   0.3s\n",
            "[CV 4/7] END max_depth=11, min_samples_leaf=9, min_samples_split=9, n_estimators=250;, score=0.500 total time=   0.3s\n",
            "[CV 5/7] END max_depth=11, min_samples_leaf=9, min_samples_split=9, n_estimators=250;, score=0.500 total time=   0.3s\n",
            "[CV 6/7] END max_depth=11, min_samples_leaf=9, min_samples_split=9, n_estimators=250;, score=0.500 total time=   0.3s\n",
            "[CV 7/7] END max_depth=11, min_samples_leaf=9, min_samples_split=9, n_estimators=250;, score=0.500 total time=   0.3s\n",
            "[CV 1/7] END max_depth=11, min_samples_leaf=9, min_samples_split=9, n_estimators=500;, score=0.500 total time=   0.6s\n",
            "[CV 2/7] END max_depth=11, min_samples_leaf=9, min_samples_split=9, n_estimators=500;, score=0.500 total time=   1.0s\n",
            "[CV 3/7] END max_depth=11, min_samples_leaf=9, min_samples_split=9, n_estimators=500;, score=0.500 total time=   0.6s\n",
            "[CV 4/7] END max_depth=11, min_samples_leaf=9, min_samples_split=9, n_estimators=500;, score=0.500 total time=   0.6s\n",
            "[CV 5/7] END max_depth=11, min_samples_leaf=9, min_samples_split=9, n_estimators=500;, score=0.500 total time=   0.6s\n",
            "[CV 6/7] END max_depth=11, min_samples_leaf=9, min_samples_split=9, n_estimators=500;, score=0.500 total time=   0.5s\n",
            "[CV 7/7] END max_depth=11, min_samples_leaf=9, min_samples_split=9, n_estimators=500;, score=0.500 total time=   0.6s\n",
            "counter | val_mse  |  val_mae  |  val_roc  |  val_cos  |  val_dist  |  val_r2    | feature_count \n",
            "-------------------------------------------------------------------------------------------------\n",
            " 0      | 0.2029   |  0.3788   |  0.6120   |  0.5206   |  4.2252    |  -0.0228    |   12         <-- skipping  \n",
            " 1      | 0.1891   |  0.3556   |  0.6901   |  0.5565   |  4.0789    |  0.0468    |   15         <-- skipping  \n",
            " 2      | 0.2060   |  0.3931   |  0.6387   |  0.5389   |  4.2581    |  -0.0388    |   15         <-- skipping  \n",
            " 3      | 0.1882   |  0.3751   |  0.6895   |  0.5731   |  4.0692    |  0.0513    |   30         <-- skipping  \n",
            " 4      | 0.1761   |  0.3444   |  0.7181   |  0.5955   |  3.9363    |  0.1123    |   30         <-- skipping  \n",
            " 5      | 0.1831   |  0.3301   |  0.7103   |  0.5744   |  4.0143    |  0.0768    |   15         <-- skipping  \n",
            " 6      | 0.2320   |  0.4082   |  0.5039   |  0.4373   |  4.5181    |  -0.1695    |   12         <-- skipping  \n",
            " 7      | 0.1623   |  0.3361   |  0.7852   |  0.6403   |  3.7791    |  0.1818    |  135         <-- skipping  \n",
            " 8      | 0.1902   |  0.3583   |  0.6641   |  0.5602   |  4.0913    |  0.0410    |   75         <-- skipping  \n",
            " 9      | 0.1806   |  0.3515   |  0.7012   |  0.5832   |  3.9861    |  0.0897    |   30         <-- skipping  \n",
            "10      | 0.1792   |  0.3389   |  0.7155   |  0.5870   |  3.9710    |  0.0966    |   90         <-- skipping  \n",
            "11      | 0.1965   |  0.3636   |  0.6686   |  0.5368   |  4.1582    |  0.0094    |   30         <-- skipping  \n",
            "12      | 0.1818   |  0.3488   |  0.7266   |  0.5810   |  3.9998    |  0.0834    |   12         <-- skipping  \n",
            "13      | 0.1977   |  0.3593   |  0.6517   |  0.5326   |  4.1711    |  0.0033    |  135         <-- skipping  \n",
            "14      | 0.1616   |  0.3241   |  0.7871   |  0.6411   |  3.7705    |  0.1855    |   15         <-- OK  \n",
            "15      | 0.1845   |  0.3364   |  0.7520   |  0.5696   |  4.0291    |  0.0699    |  150         <-- skipping  \n",
            "16      | 0.2049   |  0.3709   |  0.6400   |  0.5204   |  4.2460    |  -0.0329    |   30         <-- skipping  \n",
            "17      | 0.1658   |  0.3437   |  0.7441   |  0.6263   |  3.8202    |  0.1639    |  300         <-- skipping  \n",
            "18      | 0.1905   |  0.3587   |  0.6829   |  0.5582   |  4.0947    |  0.0394    |   90         <-- skipping  \n",
            "19      | 0.1937   |  0.3621   |  0.6764   |  0.5606   |  4.1290    |  0.0233    |   12         <-- skipping  \n",
            "-------------------------------------------------------------------------------------------------\n",
            "1/20 models passed validation threshold and will be ensembled.\n",
            "-----------------------------------------\n",
            "mean_pred:           target\n",
            "250    0.434309\n",
            "251    0.157931\n",
            "252    0.465655\n",
            "253    0.711788\n",
            "254    0.438729\n",
            "...         ...\n",
            "19995  0.220933\n",
            "19996  0.551980\n",
            "19997  0.163648\n",
            "19998  0.104041\n",
            "19999  0.177481\n",
            "\n",
            "[19750 rows x 1 columns]\n"
          ]
        }
      ]
    },
    {
      "cell_type": "markdown",
      "source": [
        "#### Example3 How to not overfit?\n",
        "\n",
        "ref: https://www.kaggle.com/code/artgor/how-to-not-overfit/notebook\n",
        "\n",
        "\n",
        "**General information**\n",
        "\n",
        "In Don't Overfit! II competition we have a binary classification task. 300 columns, 250 training samples and 79 times more samples in test data! We need to be able to build a model without overfitting.\n",
        "\n",
        "In this kernel I'll write the following things:\n",
        "\n",
        "- EDA on the features and trying to get some insights;\n",
        "- Using permutation importance to select most impactful features;\n",
        "- Comparing various models: bayer classification, linear models, tree based models;\n",
        "- Trying various approaches to feature selection including taking top features from eli5 and shap;\n",
        "- Hyperparameter optimization for models;\n",
        "- Feature generation;\n",
        "- Other things;\n",
        "![](https://cdn-images-1.medium.com/max/1600/1*vuZxFMi5fODz2OEcpG-S1g.png)\n"
      ],
      "metadata": {
        "id": "KnV_n8nUfUlq"
      }
    },
    {
      "cell_type": "markdown",
      "source": [
        "##### 1- Data exploration"
      ],
      "metadata": {
        "id": "POoyFBhbgbcr"
      }
    },
    {
      "cell_type": "code",
      "source": [
        "print(train.shape)\n",
        "print(train.head())\n",
        "print(train.info())"
      ],
      "metadata": {
        "colab": {
          "base_uri": "https://localhost:8080/"
        },
        "id": "yZihhDJygeax",
        "outputId": "efc64810-5dfa-477e-b749-6b002ec197b9"
      },
      "execution_count": 57,
      "outputs": [
        {
          "output_type": "stream",
          "name": "stdout",
          "text": [
            "(250, 302)\n",
            "   id  target      0      1      2      3      4      5      6      7  ...  \\\n",
            "0   0     1.0 -1.067 -1.114 -0.616  0.376  1.090  0.467 -0.422  0.460  ...   \n",
            "1   1     0.0 -0.831  0.271  1.716  1.096  1.731 -0.197  1.904 -0.265  ...   \n",
            "2   2     0.0  0.099  1.390 -0.732 -1.065  0.005 -0.081 -1.450  0.317  ...   \n",
            "3   3     1.0 -0.989 -0.916 -1.343  0.145  0.543  0.636  1.127  0.189  ...   \n",
            "4   4     0.0  0.811 -1.509  0.522 -0.360 -0.220 -0.959  0.334 -0.566  ...   \n",
            "\n",
            "     290    291    292    293    294    295    296    297    298    299  \n",
            "0  0.220 -0.339  0.254 -0.179  0.352  0.125  0.347  0.436  0.958 -0.824  \n",
            "1 -0.765 -0.735 -1.158  2.554  0.856 -1.506  0.462 -0.029 -1.932 -0.343  \n",
            "2 -1.311  0.799 -1.001  1.544  0.575 -0.309 -0.339 -0.148 -0.646  0.725  \n",
            "3 -1.370  1.093  0.596 -0.589 -0.649 -0.163 -0.958 -1.081  0.805  3.401  \n",
            "4 -0.178  0.718 -1.017  1.249 -0.596 -0.445  1.751  1.442 -0.393 -0.643  \n",
            "\n",
            "[5 rows x 302 columns]\n",
            "<class 'pandas.core.frame.DataFrame'>\n",
            "RangeIndex: 250 entries, 0 to 249\n",
            "Columns: 302 entries, id to 299\n",
            "dtypes: float64(301), int64(1)\n",
            "memory usage: 590.0 KB\n",
            "None\n"
          ]
        }
      ]
    },
    {
      "cell_type": "code",
      "source": [
        "train[train.columns[2:]].std().plot(kind='hist');\n",
        "plt.title('Distribution of stds of all columns')"
      ],
      "metadata": {
        "colab": {
          "base_uri": "https://localhost:8080/",
          "height": 298
        },
        "id": "EgRodbYOqbkV",
        "outputId": "324347bf-adc3-4767-dac0-246985f51437"
      },
      "execution_count": 58,
      "outputs": [
        {
          "output_type": "execute_result",
          "data": {
            "text/plain": [
              "Text(0.5, 1.0, 'Distribution of stds of all columns')"
            ]
          },
          "metadata": {},
          "execution_count": 58
        },
        {
          "output_type": "display_data",
          "data": {
            "text/plain": [
              "<Figure size 432x288 with 1 Axes>"
            ],
            "image/png": "[encoded data removed]"
          },
          "metadata": {
            "needs_background": "light"
          }
        }
      ]
    },
    {
      "cell_type": "code",
      "source": [
        "train[train.columns[2:]].mean().plot(kind='hist');\n",
        "plt.title('Distribution of means of all columns');"
      ],
      "metadata": {
        "colab": {
          "base_uri": "https://localhost:8080/",
          "height": 281
        },
        "id": "TrS-i7LEqd5W",
        "outputId": "4021f9d2-f36c-4892-bcb1-2456ff4a443c"
      },
      "execution_count": 59,
      "outputs": [
        {
          "output_type": "display_data",
          "data": {
            "text/plain": [
              "<Figure size 432x288 with 1 Axes>"
            ],
            "image/png": "[encoded data removed]"
          },
          "metadata": {
            "needs_background": "light"
          }
        }
      ]
    },
    {
      "cell_type": "code",
      "source": [
        "# we have no missing values\n",
        "print(\"Null values? \", train.isnull().any().any())\n",
        "\n",
        "\n",
        "\n",
        "print('Distributions of first 28 columns')\n",
        "plt.figure(figsize=(26, 24))\n",
        "for i, col in enumerate(list(train.columns)[2:30]):\n",
        "    plt.subplot(7, 4, i + 1)\n",
        "    plt.hist(train[col])\n",
        "    plt.title(col)\n",
        "\n",
        "\n",
        "train['target'].value_counts()"
      ],
      "metadata": {
        "colab": {
          "base_uri": "https://localhost:8080/",
          "height": 1000
        },
        "id": "hbFGMzEbqfzT",
        "outputId": "794175a9-d312-48ba-d509-3bfedf7cb0d5"
      },
      "execution_count": 60,
      "outputs": [
        {
          "output_type": "stream",
          "name": "stdout",
          "text": [
            "Null values?  False\n",
            "Distributions of first 28 columns\n"
          ]
        },
        {
          "output_type": "execute_result",
          "data": {
            "text/plain": [
              "0.0    183\n",
              "1.0     67\n",
              "Name: target, dtype: int64"
            ]
          },
          "metadata": {},
          "execution_count": 60
        },
        {
          "output_type": "display_data",
          "data": {
            "text/plain": [
              "<Figure size 1872x1728 with 28 Axes>"
            ],
            "image/png": "[encoded data removed]"
          },
          "metadata": {
            "needs_background": "light"
          }
        }
      ]
    },
    {
      "cell_type": "markdown",
      "source": [
        "\n",
        "\n",
        "From this overview we can see the following things:\n",
        "\n",
        "- target is binary and has some disbalance: 36% of samples belong to 0 class;\n",
        "- values in columns are more or less similar;\n",
        "- columns have std of 1 +/- 0.1 (min and max values are 0.889, 1.117 respectively);\n",
        "- columns have mean of 0 +/- 0.15 (min and max values are -0.2, 0.1896 respectively);\n",
        "\n",
        "Let's have a look at correlations now!\n"
      ],
      "metadata": {
        "id": "nC50PaAkg2gP"
      }
    },
    {
      "cell_type": "code",
      "source": [
        "corrs = train.corr().abs().unstack().sort_values(kind=\"quicksort\").reset_index()\n",
        "corrs = corrs[corrs['level_0'] != corrs['level_1']]\n",
        "corrs.tail(10)"
      ],
      "metadata": {
        "colab": {
          "base_uri": "https://localhost:8080/",
          "height": 363
        },
        "id": "B9J5JVmmg4s5",
        "outputId": "f5cd2a43-4638-4c48-92a2-08f44344cd3a"
      },
      "execution_count": 61,
      "outputs": [
        {
          "output_type": "execute_result",
          "data": {
            "text/plain": [
              "      level_0 level_1         0\n",
              "90892     219     279  0.238512\n",
              "90893     279     219  0.238512\n",
              "90894      23      20  0.246984\n",
              "90895      20      23  0.246984\n",
              "90896     146     228  0.258447\n",
              "90897     228     146  0.258447\n",
              "90898       6      39  0.267727\n",
              "90899      39       6  0.267727\n",
              "90900     127  target  0.337540\n",
              "90901  target     127  0.337540"
            ],
            "text/html": [
              "\n",
              "  <div id=\"df-3c872510-aec1-4a3f-9d2d-16d0d02ecf4b\">\n",
              "    <div class=\"colab-df-container\">\n",
              "      <div>\n",
              "<style scoped>\n",
              "    .dataframe tbody tr th:only-of-type {\n",
              "        vertical-align: middle;\n",
              "    }\n",
              "\n",
              "    .dataframe tbody tr th {\n",
              "        vertical-align: top;\n",
              "    }\n",
              "\n",
              "    .dataframe thead th {\n",
              "        text-align: right;\n",
              "    }\n",
              "</style>\n",
              "<table border=\"1\" class=\"dataframe\">\n",
              "  <thead>\n",
              "    <tr style=\"text-align: right;\">\n",
              "      <th></th>\n",
              "      <th>level_0</th>\n",
              "      <th>level_1</th>\n",
              "      <th>0</th>\n",
              "    </tr>\n",
              "  </thead>\n",
              "  <tbody>\n",
              "    <tr>\n",
              "      <th>90892</th>\n",
              "      <td>219</td>\n",
              "      <td>279</td>\n",
              "      <td>0.238512</td>\n",
              "    </tr>\n",
              "    <tr>\n",
              "      <th>90893</th>\n",
              "      <td>279</td>\n",
              "      <td>219</td>\n",
              "      <td>0.238512</td>\n",
              "    </tr>\n",
              "    <tr>\n",
              "      <th>90894</th>\n",
              "      <td>23</td>\n",
              "      <td>20</td>\n",
              "      <td>0.246984</td>\n",
              "    </tr>\n",
              "    <tr>\n",
              "      <th>90895</th>\n",
              "      <td>20</td>\n",
              "      <td>23</td>\n",
              "      <td>0.246984</td>\n",
              "    </tr>\n",
              "    <tr>\n",
              "      <th>90896</th>\n",
              "      <td>146</td>\n",
              "      <td>228</td>\n",
              "      <td>0.258447</td>\n",
              "    </tr>\n",
              "    <tr>\n",
              "      <th>90897</th>\n",
              "      <td>228</td>\n",
              "      <td>146</td>\n",
              "      <td>0.258447</td>\n",
              "    </tr>\n",
              "    <tr>\n",
              "      <th>90898</th>\n",
              "      <td>6</td>\n",
              "      <td>39</td>\n",
              "      <td>0.267727</td>\n",
              "    </tr>\n",
              "    <tr>\n",
              "      <th>90899</th>\n",
              "      <td>39</td>\n",
              "      <td>6</td>\n",
              "      <td>0.267727</td>\n",
              "    </tr>\n",
              "    <tr>\n",
              "      <th>90900</th>\n",
              "      <td>127</td>\n",
              "      <td>target</td>\n",
              "      <td>0.337540</td>\n",
              "    </tr>\n",
              "    <tr>\n",
              "      <th>90901</th>\n",
              "      <td>target</td>\n",
              "      <td>127</td>\n",
              "      <td>0.337540</td>\n",
              "    </tr>\n",
              "  </tbody>\n",
              "</table>\n",
              "</div>\n",
              "      <button class=\"colab-df-convert\" onclick=\"convertToInteractive('df-3c872510-aec1-4a3f-9d2d-16d0d02ecf4b')\"\n",
              "              title=\"Convert this dataframe to an interactive table.\"\n",
              "              style=\"display:none;\">\n",
              "        \n",
              "  <svg xmlns=\"http://www.w3.org/2000/svg\" height=\"24px\"viewBox=\"0 0 24 24\"\n",
              "       width=\"24px\">\n",
              "    <path d=\"M0 0h24v24H0V0z\" fill=\"none\"/>\n",
              "    <path d=\"M18.56 5.44l.94 2.06.94-2.06 2.06-.94-2.06-.94-.94-2.06-.94 2.06-2.06.94zm-11 1L8.5 8.5l.94-2.06 2.06-.94-2.06-.94L8.5 2.5l-.94 2.06-2.06.94zm10 10l.94 2.06.94-2.06 2.06-.94-2.06-.94-.94-2.06-.94 2.06-2.06.94z\"/><path d=\"M17.41 7.96l-1.37-1.37c-.4-.4-.92-.59-1.43-.59-.52 0-1.04.2-1.43.59L10.3 9.45l-7.72 7.72c-.78.78-.78 2.05 0 2.83L4 21.41c.39.39.9.59 1.41.59.51 0 1.02-.2 1.41-.59l7.78-7.78 2.81-2.81c.8-.78.8-2.07 0-2.86zM5.41 20L4 18.59l7.72-7.72 1.47 1.35L5.41 20z\"/>\n",
              "  </svg>\n",
              "      </button>\n",
              "      \n",
              "  <style>\n",
              "    .colab-df-container {\n",
              "      display:flex;\n",
              "      flex-wrap:wrap;\n",
              "      gap: 12px;\n",
              "    }\n",
              "\n",
              "    .colab-df-convert {\n",
              "      background-color: #E8F0FE;\n",
              "      border: none;\n",
              "      border-radius: 50%;\n",
              "      cursor: pointer;\n",
              "      display: none;\n",
              "      fill: #1967D2;\n",
              "      height: 32px;\n",
              "      padding: 0 0 0 0;\n",
              "      width: 32px;\n",
              "    }\n",
              "\n",
              "    .colab-df-convert:hover {\n",
              "      background-color: #E2EBFA;\n",
              "      box-shadow: 0px 1px 2px rgba(60, 64, 67, 0.3), 0px 1px 3px 1px rgba(60, 64, 67, 0.15);\n",
              "      fill: #174EA6;\n",
              "    }\n",
              "\n",
              "    [theme=dark] .colab-df-convert {\n",
              "      background-color: #3B4455;\n",
              "      fill: #D2E3FC;\n",
              "    }\n",
              "\n",
              "    [theme=dark] .colab-df-convert:hover {\n",
              "      background-color: #434B5C;\n",
              "      box-shadow: 0px 1px 3px 1px rgba(0, 0, 0, 0.15);\n",
              "      filter: drop-shadow(0px 1px 2px rgba(0, 0, 0, 0.3));\n",
              "      fill: #FFFFFF;\n",
              "    }\n",
              "  </style>\n",
              "\n",
              "      <script>\n",
              "        const buttonEl =\n",
              "          document.querySelector('#df-3c872510-aec1-4a3f-9d2d-16d0d02ecf4b button.colab-df-convert');\n",
              "        buttonEl.style.display =\n",
              "          google.colab.kernel.accessAllowed ? 'block' : 'none';\n",
              "\n",
              "        async function convertToInteractive(key) {\n",
              "          const element = document.querySelector('#df-3c872510-aec1-4a3f-9d2d-16d0d02ecf4b');\n",
              "          const dataTable =\n",
              "            await google.colab.kernel.invokeFunction('convertToInteractive',\n",
              "                                                     [key], {});\n",
              "          if (!dataTable) return;\n",
              "\n",
              "          const docLinkHtml = 'Like what you see? Visit the ' +\n",
              "            '<a target=\"_blank\" href=https://colab.research.google.com/notebooks/data_table.ipynb>data table notebook</a>'\n",
              "            + ' to learn more about interactive tables.';\n",
              "          element.innerHTML = '';\n",
              "          dataTable['output_type'] = 'display_data';\n",
              "          await google.colab.output.renderOutput(dataTable, element);\n",
              "          const docLink = document.createElement('div');\n",
              "          docLink.innerHTML = docLinkHtml;\n",
              "          element.appendChild(docLink);\n",
              "        }\n",
              "      </script>\n",
              "    </div>\n",
              "  </div>\n",
              "  "
            ]
          },
          "metadata": {},
          "execution_count": 61
        }
      ]
    },
    {
      "cell_type": "markdown",
      "source": [
        "\n",
        "\n",
        "We can see that correlations between features are lower that 0.3 and the most correlated feature with target has correlation of 0.37. So we have no highly correlated features which we could drop, on the other hand we could drop some columns with have little correlation with the target.\n"
      ],
      "metadata": {
        "id": "8FnZI1kNg7mk"
      }
    },
    {
      "cell_type": "markdown",
      "source": [
        "##### 2- Basic modelling"
      ],
      "metadata": {
        "id": "20W7N2VTg-OA"
      }
    },
    {
      "cell_type": "code",
      "source": [
        "X_train = train.drop(['id', 'target'], axis=1)\n",
        "y_train = train['target']\n",
        "X_test = test.drop(['id'], axis=1)\n",
        "n_fold = 20\n",
        "folds = StratifiedKFold(n_splits=n_fold, shuffle=True, random_state=42)\n",
        "repeated_folds = RepeatedStratifiedKFold(n_splits=20, n_repeats=20, random_state=42)\n",
        "\n",
        "scaler = StandardScaler()\n",
        "X_train = scaler.fit_transform(X_train)\n",
        "X_test = scaler.transform(X_test)\n",
        "\n",
        "def train_model(X, X_test, y, params, folds=folds, model_type='lgb', plot_feature_importance=False, averaging='usual', model=None):\n",
        "    oof = np.zeros(len(X))\n",
        "    prediction = np.zeros(len(X_test))\n",
        "    scores = []\n",
        "    feature_importance = pd.DataFrame()\n",
        "    for fold_n, (train_index, valid_index) in enumerate(folds.split(X, y)):\n",
        "        # print('Fold', fold_n, 'started at', time.ctime())\n",
        "        X_train, X_valid = X[train_index], X[valid_index]\n",
        "        y_train, y_valid = y[train_index], y[valid_index]\n",
        "        \n",
        "        if model_type == 'lgb':\n",
        "            train_data = lgb.Dataset(X_train, label=y_train)\n",
        "            valid_data = lgb.Dataset(X_valid, label=y_valid)\n",
        "            \n",
        "            model = lgb.train(params,\n",
        "                    train_data,\n",
        "                    num_boost_round=2000,\n",
        "                    valid_sets = [train_data, valid_data],\n",
        "                    verbose_eval=500,\n",
        "                    early_stopping_rounds = 200)\n",
        "            \n",
        "            y_pred_valid = model.predict(X_valid)\n",
        "            y_pred = model.predict(X_test, num_iteration=model.best_iteration_)\n",
        "            \n",
        "        if model_type == 'xgb':\n",
        "            train_data = xgb.DMatrix(data=X_train, label=y_train, feature_names=X_tr.columns)\n",
        "            valid_data = xgb.DMatrix(data=X_valid, label=y_valid, feature_names=X_tr.columns)\n",
        "\n",
        "            watchlist = [(train_data, 'train'), (valid_data, 'valid_data')]\n",
        "            model = xgb.train(dtrain=train_data, num_boost_round=20000, evals=watchlist, early_stopping_rounds=200, verbose_eval=500, params=params)\n",
        "            y_pred_valid = model.predict(xgb.DMatrix(X_valid, feature_names=X_tr.columns), ntree_limit=model.best_ntree_limit)\n",
        "            y_pred = model.predict(xgb.DMatrix(X_test, feature_names=X_tr.columns), ntree_limit=model.best_ntree_limit)\n",
        "        \n",
        "        if model_type == 'cat':\n",
        "            model = CatBoostClassifier(iterations=20000,  eval_metric='AUC', **params)\n",
        "            model.fit(X_train, y_train, eval_set=(X_valid, y_valid), cat_features=[], use_best_model=True, verbose=False)\n",
        "\n",
        "            y_pred_valid = model.predict(X_valid)\n",
        "            y_pred = model.predict(X_test)\n",
        "            \n",
        "            \n",
        "        if model_type == 'sklearn':\n",
        "            model = model\n",
        "            model.fit(X_train, y_train)\n",
        "            y_pred_valid = model.predict(X_valid).reshape(-1,)\n",
        "            score = roc_auc_score(y_valid, y_pred_valid)\n",
        "            # print(f'Fold {fold_n}. AUC: {score:.4f}.')\n",
        "            # print('')\n",
        "            \n",
        "            y_pred = model.predict_proba(X_test)[:, 1]\n",
        "            \n",
        "        if model_type == 'glm':\n",
        "            model = sm.GLM(y_train, X_train, family=sm.families.Binomial())\n",
        "            model_results = model.fit()\n",
        "            model_results.predict(X_test)\n",
        "            y_pred_valid = model_results.predict(X_valid).reshape(-1,)\n",
        "            score = roc_auc_score(y_valid, y_pred_valid)\n",
        "            \n",
        "            y_pred = model_results.predict(X_test)\n",
        "        \n",
        "        oof[valid_index] = y_pred_valid.reshape(-1,)\n",
        "        scores.append(roc_auc_score(y_valid, y_pred_valid))\n",
        "\n",
        "        if averaging == 'usual':\n",
        "            prediction += y_pred\n",
        "        elif averaging == 'rank':\n",
        "            prediction += pd.Series(y_pred).rank().values  \n",
        "        \n",
        "        if model_type == 'lgb':\n",
        "            # feature importance\n",
        "            fold_importance = pd.DataFrame()\n",
        "            fold_importance[\"feature\"] = X.columns\n",
        "            fold_importance[\"importance\"] = model.feature_importances_\n",
        "            fold_importance[\"fold\"] = fold_n + 1\n",
        "            feature_importance = pd.concat([feature_importance, fold_importance], axis=0)\n",
        "\n",
        "    prediction /= n_fold\n",
        "    \n",
        "    print('CV mean score: {0:.4f}, std: {1:.4f}.'.format(np.mean(scores), np.std(scores)))\n",
        "    \n",
        "    if model_type == 'lgb':\n",
        "        feature_importance[\"importance\"] /= n_fold\n",
        "        if plot_feature_importance:\n",
        "            cols = feature_importance[[\"feature\", \"importance\"]].groupby(\"feature\").mean().sort_values(\n",
        "                by=\"importance\", ascending=False)[:50].index\n",
        "\n",
        "            best_features = feature_importance.loc[feature_importance.feature.isin(cols)]\n",
        "\n",
        "            plt.figure(figsize=(16, 12));\n",
        "            sns.barplot(x=\"importance\", y=\"feature\", data=best_features.sort_values(by=\"importance\", ascending=False));\n",
        "            plt.title('LGB Features (avg over folds)');\n",
        "        \n",
        "            return oof, prediction, feature_importance\n",
        "        return oof, prediction, scores\n",
        "    \n",
        "    else:\n",
        "        return oof, prediction, scores\n",
        "print(\"done!!!\")"
      ],
      "metadata": {
        "colab": {
          "base_uri": "https://localhost:8080/"
        },
        "id": "-UwxpRschB2w",
        "outputId": "83a85fb5-d660-4d69-f9ab-ae99802f2fe8"
      },
      "execution_count": 75,
      "outputs": [
        {
          "output_type": "stream",
          "name": "stdout",
          "text": [
            "done!!!\n"
          ]
        }
      ]
    },
    {
      "cell_type": "code",
      "source": [
        "\n",
        "# A lot of people are using logreg currently, let's try\n",
        "model = linear_model.LogisticRegression(class_weight='balanced', penalty='l1', C=0.1, solver='liblinear')\n",
        "oof_lr, prediction_lr, scores = train_model(X_train, X_test, y_train, params=None, model_type='sklearn', model=model)"
      ],
      "metadata": {
        "colab": {
          "base_uri": "https://localhost:8080/"
        },
        "id": "U-NmHhO-s_40",
        "outputId": "a829e9a9-5e97-4832-cc49-9f6a5361b8f8"
      },
      "execution_count": 76,
      "outputs": [
        {
          "output_type": "stream",
          "name": "stdout",
          "text": [
            "CV mean score: 0.7431, std: 0.1357.\n"
          ]
        }
      ]
    },
    {
      "cell_type": "code",
      "source": [
        "# A lot of people are using logreg currently, let's try\n",
        "cat_params = {'learning_rate': 0.02,\n",
        "              'depth': 5,\n",
        "              'l2_leaf_reg': 10,\n",
        "              'bootstrap_type': 'Bernoulli',\n",
        "              #'metric_period': 500,\n",
        "              'od_type': 'Iter',\n",
        "              'od_wait': 50,\n",
        "              'random_seed': 11,\n",
        "              'allow_writing_files': False}\n",
        "oof_lr, prediction_lr, scores = train_model(X_train, X_test, y_train, params=cat_params, model_type='cat')"
      ],
      "metadata": {
        "colab": {
          "base_uri": "https://localhost:8080/"
        },
        "id": "d2DGj60FstJd",
        "outputId": "dd7a5fc6-0b8d-4c18-f0d0-29f39a632e67"
      },
      "execution_count": 78,
      "outputs": [
        {
          "output_type": "stream",
          "name": "stdout",
          "text": [
            "CV mean score: 0.5083, std: 0.0363.\n"
          ]
        }
      ]
    },
    {
      "cell_type": "code",
      "source": [
        "model = CatBoostClassifier(iterations=400,  eval_metric='AUC', **cat_params)\n",
        "model.fit(X_train, y_train, cat_features=[], use_best_model=True, verbose=200)\n"
      ],
      "metadata": {
        "colab": {
          "base_uri": "https://localhost:8080/"
        },
        "id": "pzWBzLi4tMZO",
        "outputId": "1a3c1132-a09a-4990-e7d7-a91083329a11"
      },
      "execution_count": 79,
      "outputs": [
        {
          "output_type": "stream",
          "name": "stderr",
          "text": [
            "You should provide test set for use best model. use_best_model parameter has been switched to false value.\n"
          ]
        },
        {
          "output_type": "stream",
          "name": "stdout",
          "text": [
            "0:\ttotal: 42.3ms\tremaining: 16.9s\n",
            "200:\ttotal: 7.54s\tremaining: 7.46s\n",
            "399:\ttotal: 14.9s\tremaining: 0us\n"
          ]
        },
        {
          "output_type": "execute_result",
          "data": {
            "text/plain": [
              "<catboost.core.CatBoostClassifier at 0x7f5950b8a7f0>"
            ]
          },
          "metadata": {},
          "execution_count": 79
        }
      ]
    },
    {
      "cell_type": "code",
      "source": [
        "model = linear_model.LogisticRegression(class_weight='balanced', penalty='l1', C=0.1, solver='liblinear')\n",
        "oof_lr, prediction_lr_repeated, scores = train_model(X_train, X_test, y_train, params=None, model_type='sklearn', model=model, folds=repeated_folds)\n"
      ],
      "metadata": {
        "colab": {
          "base_uri": "https://localhost:8080/"
        },
        "id": "eMZV57mltbvR",
        "outputId": "db13b4c7-eb95-48e5-cecd-866106a2c5d8"
      },
      "execution_count": 81,
      "outputs": [
        {
          "output_type": "stream",
          "name": "stdout",
          "text": [
            "CV mean score: 0.7071, std: 0.1428.\n"
          ]
        }
      ]
    },
    {
      "cell_type": "markdown",
      "source": [
        "##### 3- ELI5\n",
        "\n",
        "ELI5 is a package with provides explanations for ML models. It can do this not only for linear models, but also for tree based like Random Forest or lightgbm."
      ],
      "metadata": {
        "id": "Bwc382T5hiwC"
      }
    },
    {
      "cell_type": "code",
      "source": [
        "eli5.show_weights(model, top=50)\n"
      ],
      "metadata": {
        "colab": {
          "base_uri": "https://localhost:8080/",
          "height": 715
        },
        "id": "hLi3oAn4hsB5",
        "outputId": "3bad389d-e82c-4369-da6a-d2dfcd65273a"
      },
      "execution_count": 87,
      "outputs": [
        {
          "output_type": "execute_result",
          "data": {
            "text/plain": [
              "<IPython.core.display.HTML object>"
            ],
            "text/html": [
              "\n",
              "    <style>\n",
              "    table.eli5-weights tr:hover {\n",
              "        filter: brightness(85%);\n",
              "    }\n",
              "</style>\n",
              "\n",
              "\n",
              "\n",
              "    \n",
              "\n",
              "    \n",
              "\n",
              "    \n",
              "\n",
              "    \n",
              "\n",
              "    \n",
              "\n",
              "    \n",
              "\n",
              "\n",
              "    \n",
              "\n",
              "    \n",
              "\n",
              "    \n",
              "\n",
              "    \n",
              "        \n",
              "\n",
              "    \n",
              "\n",
              "        \n",
              "            \n",
              "                \n",
              "                \n",
              "    \n",
              "        <p style=\"margin-bottom: 0.5em; margin-top: 0em\">\n",
              "            <b>\n",
              "    \n",
              "        y=1.0\n",
              "    \n",
              "</b>\n",
              "\n",
              "top features\n",
              "        </p>\n",
              "    \n",
              "    <table class=\"eli5-weights\"\n",
              "           style=\"border-collapse: collapse; border: none; margin-top: 0em; table-layout: auto; margin-bottom: 2em;\">\n",
              "        <thead>\n",
              "        <tr style=\"border: none;\">\n",
              "            \n",
              "                <th style=\"padding: 0 1em 0 0.5em; text-align: right; border: none;\" title=\"Feature weights. Note that weights do not account for feature value scales, so if feature values have different scales, features with highest weights might not be the most important.\">\n",
              "                    Weight<sup>?</sup>\n",
              "                </th>\n",
              "            \n",
              "            <th style=\"padding: 0 0.5em 0 0.5em; text-align: left; border: none;\">Feature</th>\n",
              "            \n",
              "        </tr>\n",
              "        </thead>\n",
              "        <tbody>\n",
              "        \n",
              "            <tr style=\"background-color: hsl(120, 100.00%, 80.00%); border: none;\">\n",
              "    <td style=\"padding: 0 1em 0 0.5em; text-align: right; border: none;\">\n",
              "        +0.568\n",
              "    </td>\n",
              "    <td style=\"padding: 0 0.5em 0 0.5em; text-align: left; border: none;\">\n",
              "        x127\n",
              "    </td>\n",
              "    \n",
              "</tr>\n",
              "        \n",
              "            <tr style=\"background-color: hsl(120, 100.00%, 85.87%); border: none;\">\n",
              "    <td style=\"padding: 0 1em 0 0.5em; text-align: right; border: none;\">\n",
              "        +0.346\n",
              "    </td>\n",
              "    <td style=\"padding: 0 0.5em 0 0.5em; text-align: left; border: none;\">\n",
              "        x18\n",
              "    </td>\n",
              "    \n",
              "</tr>\n",
              "        \n",
              "            <tr style=\"background-color: hsl(120, 100.00%, 91.70%); border: none;\">\n",
              "    <td style=\"padding: 0 1em 0 0.5em; text-align: right; border: none;\">\n",
              "        +0.162\n",
              "    </td>\n",
              "    <td style=\"padding: 0 0.5em 0 0.5em; text-align: left; border: none;\">\n",
              "        x66\n",
              "    </td>\n",
              "    \n",
              "</tr>\n",
              "        \n",
              "            <tr style=\"background-color: hsl(120, 100.00%, 93.15%); border: none;\">\n",
              "    <td style=\"padding: 0 1em 0 0.5em; text-align: right; border: none;\">\n",
              "        +0.123\n",
              "    </td>\n",
              "    <td style=\"padding: 0 0.5em 0 0.5em; text-align: left; border: none;\">\n",
              "        x241\n",
              "    </td>\n",
              "    \n",
              "</tr>\n",
              "        \n",
              "            <tr style=\"background-color: hsl(120, 100.00%, 94.48%); border: none;\">\n",
              "    <td style=\"padding: 0 1em 0 0.5em; text-align: right; border: none;\">\n",
              "        +0.090\n",
              "    </td>\n",
              "    <td style=\"padding: 0 0.5em 0 0.5em; text-align: left; border: none;\">\n",
              "        x32\n",
              "    </td>\n",
              "    \n",
              "</tr>\n",
              "        \n",
              "            <tr style=\"background-color: hsl(120, 100.00%, 94.51%); border: none;\">\n",
              "    <td style=\"padding: 0 1em 0 0.5em; text-align: right; border: none;\">\n",
              "        +0.090\n",
              "    </td>\n",
              "    <td style=\"padding: 0 0.5em 0 0.5em; text-align: left; border: none;\">\n",
              "        x260\n",
              "    </td>\n",
              "    \n",
              "</tr>\n",
              "        \n",
              "            <tr style=\"background-color: hsl(120, 100.00%, 95.06%); border: none;\">\n",
              "    <td style=\"padding: 0 1em 0 0.5em; text-align: right; border: none;\">\n",
              "        +0.077\n",
              "    </td>\n",
              "    <td style=\"padding: 0 0.5em 0 0.5em; text-align: left; border: none;\">\n",
              "        x93\n",
              "    </td>\n",
              "    \n",
              "</tr>\n",
              "        \n",
              "            <tr style=\"background-color: hsl(120, 100.00%, 96.08%); border: none;\">\n",
              "    <td style=\"padding: 0 1em 0 0.5em; text-align: right; border: none;\">\n",
              "        +0.055\n",
              "    </td>\n",
              "    <td style=\"padding: 0 0.5em 0 0.5em; text-align: left; border: none;\">\n",
              "        x178\n",
              "    </td>\n",
              "    \n",
              "</tr>\n",
              "        \n",
              "            <tr style=\"background-color: hsl(120, 100.00%, 96.99%); border: none;\">\n",
              "    <td style=\"padding: 0 1em 0 0.5em; text-align: right; border: none;\">\n",
              "        +0.038\n",
              "    </td>\n",
              "    <td style=\"padding: 0 0.5em 0 0.5em; text-align: left; border: none;\">\n",
              "        x213\n",
              "    </td>\n",
              "    \n",
              "</tr>\n",
              "        \n",
              "            <tr style=\"background-color: hsl(120, 100.00%, 97.28%); border: none;\">\n",
              "    <td style=\"padding: 0 1em 0 0.5em; text-align: right; border: none;\">\n",
              "        +0.033\n",
              "    </td>\n",
              "    <td style=\"padding: 0 0.5em 0 0.5em; text-align: left; border: none;\">\n",
              "        x208\n",
              "    </td>\n",
              "    \n",
              "</tr>\n",
              "        \n",
              "            <tr style=\"background-color: hsl(120, 100.00%, 97.36%); border: none;\">\n",
              "    <td style=\"padding: 0 1em 0 0.5em; text-align: right; border: none;\">\n",
              "        +0.031\n",
              "    </td>\n",
              "    <td style=\"padding: 0 0.5em 0 0.5em; text-align: left; border: none;\">\n",
              "        x25\n",
              "    </td>\n",
              "    \n",
              "</tr>\n",
              "        \n",
              "            <tr style=\"background-color: hsl(120, 100.00%, 99.08%); border: none;\">\n",
              "    <td style=\"padding: 0 1em 0 0.5em; text-align: right; border: none;\">\n",
              "        +0.007\n",
              "    </td>\n",
              "    <td style=\"padding: 0 0.5em 0 0.5em; text-align: left; border: none;\">\n",
              "        x163\n",
              "    </td>\n",
              "    \n",
              "</tr>\n",
              "        \n",
              "            <tr style=\"background-color: hsl(120, 100.00%, 99.55%); border: none;\">\n",
              "    <td style=\"padding: 0 1em 0 0.5em; text-align: right; border: none;\">\n",
              "        +0.003\n",
              "    </td>\n",
              "    <td style=\"padding: 0 0.5em 0 0.5em; text-align: left; border: none;\">\n",
              "        x28\n",
              "    </td>\n",
              "    \n",
              "</tr>\n",
              "        \n",
              "        \n",
              "\n",
              "        \n",
              "        \n",
              "            <tr style=\"background-color: hsl(0, 100.00%, 98.65%); border: none;\">\n",
              "    <td style=\"padding: 0 1em 0 0.5em; text-align: right; border: none;\">\n",
              "        -0.012\n",
              "    </td>\n",
              "    <td style=\"padding: 0 0.5em 0 0.5em; text-align: left; border: none;\">\n",
              "        x134\n",
              "    </td>\n",
              "    \n",
              "</tr>\n",
              "        \n",
              "            <tr style=\"background-color: hsl(0, 100.00%, 98.51%); border: none;\">\n",
              "    <td style=\"padding: 0 1em 0 0.5em; text-align: right; border: none;\">\n",
              "        -0.014\n",
              "    </td>\n",
              "    <td style=\"padding: 0 0.5em 0 0.5em; text-align: left; border: none;\">\n",
              "        x76\n",
              "    </td>\n",
              "    \n",
              "</tr>\n",
              "        \n",
              "            <tr style=\"background-color: hsl(0, 100.00%, 98.17%); border: none;\">\n",
              "    <td style=\"padding: 0 1em 0 0.5em; text-align: right; border: none;\">\n",
              "        -0.019\n",
              "    </td>\n",
              "    <td style=\"padding: 0 0.5em 0 0.5em; text-align: left; border: none;\">\n",
              "        x220\n",
              "    </td>\n",
              "    \n",
              "</tr>\n",
              "        \n",
              "            <tr style=\"background-color: hsl(0, 100.00%, 97.67%); border: none;\">\n",
              "    <td style=\"padding: 0 1em 0 0.5em; text-align: right; border: none;\">\n",
              "        -0.026\n",
              "    </td>\n",
              "    <td style=\"padding: 0 0.5em 0 0.5em; text-align: left; border: none;\">\n",
              "        x63\n",
              "    </td>\n",
              "    \n",
              "</tr>\n",
              "        \n",
              "            <tr style=\"background-color: hsl(0, 100.00%, 96.58%); border: none;\">\n",
              "    <td style=\"padding: 0 1em 0 0.5em; text-align: right; border: none;\">\n",
              "        -0.046\n",
              "    </td>\n",
              "    <td style=\"padding: 0 0.5em 0 0.5em; text-align: left; border: none;\">\n",
              "        x144\n",
              "    </td>\n",
              "    \n",
              "</tr>\n",
              "        \n",
              "            <tr style=\"background-color: hsl(0, 100.00%, 96.47%); border: none;\">\n",
              "    <td style=\"padding: 0 1em 0 0.5em; text-align: right; border: none;\">\n",
              "        -0.048\n",
              "    </td>\n",
              "    <td style=\"padding: 0 0.5em 0 0.5em; text-align: left; border: none;\">\n",
              "        x80\n",
              "    </td>\n",
              "    \n",
              "</tr>\n",
              "        \n",
              "            <tr style=\"background-color: hsl(0, 100.00%, 95.33%); border: none;\">\n",
              "    <td style=\"padding: 0 1em 0 0.5em; text-align: right; border: none;\">\n",
              "        -0.071\n",
              "    </td>\n",
              "    <td style=\"padding: 0 0.5em 0 0.5em; text-align: left; border: none;\">\n",
              "        x271\n",
              "    </td>\n",
              "    \n",
              "</tr>\n",
              "        \n",
              "            <tr style=\"background-color: hsl(0, 100.00%, 95.06%); border: none;\">\n",
              "    <td style=\"padding: 0 1em 0 0.5em; text-align: right; border: none;\">\n",
              "        -0.077\n",
              "    </td>\n",
              "    <td style=\"padding: 0 0.5em 0 0.5em; text-align: left; border: none;\">\n",
              "        x200\n",
              "    </td>\n",
              "    \n",
              "</tr>\n",
              "        \n",
              "            <tr style=\"background-color: hsl(0, 100.00%, 94.97%); border: none;\">\n",
              "    <td style=\"padding: 0 1em 0 0.5em; text-align: right; border: none;\">\n",
              "        -0.079\n",
              "    </td>\n",
              "    <td style=\"padding: 0 0.5em 0 0.5em; text-align: left; border: none;\">\n",
              "        x159\n",
              "    </td>\n",
              "    \n",
              "</tr>\n",
              "        \n",
              "            <tr style=\"background-color: hsl(0, 100.00%, 94.70%); border: none;\">\n",
              "    <td style=\"padding: 0 1em 0 0.5em; text-align: right; border: none;\">\n",
              "        -0.085\n",
              "    </td>\n",
              "    <td style=\"padding: 0 0.5em 0 0.5em; text-align: left; border: none;\">\n",
              "        x136\n",
              "    </td>\n",
              "    \n",
              "</tr>\n",
              "        \n",
              "            <tr style=\"background-color: hsl(0, 100.00%, 94.08%); border: none;\">\n",
              "    <td style=\"padding: 0 1em 0 0.5em; text-align: right; border: none;\">\n",
              "        -0.100\n",
              "    </td>\n",
              "    <td style=\"padding: 0 0.5em 0 0.5em; text-align: left; border: none;\">\n",
              "        x126\n",
              "    </td>\n",
              "    \n",
              "</tr>\n",
              "        \n",
              "            <tr style=\"background-color: hsl(0, 100.00%, 93.96%); border: none;\">\n",
              "    <td style=\"padding: 0 1em 0 0.5em; text-align: right; border: none;\">\n",
              "        -0.103\n",
              "    </td>\n",
              "    <td style=\"padding: 0 0.5em 0 0.5em; text-align: left; border: none;\">\n",
              "        x95\n",
              "    </td>\n",
              "    \n",
              "</tr>\n",
              "        \n",
              "            <tr style=\"background-color: hsl(0, 100.00%, 93.64%); border: none;\">\n",
              "    <td style=\"padding: 0 1em 0 0.5em; text-align: right; border: none;\">\n",
              "        -0.111\n",
              "    </td>\n",
              "    <td style=\"padding: 0 0.5em 0 0.5em; text-align: left; border: none;\">\n",
              "        x133\n",
              "    </td>\n",
              "    \n",
              "</tr>\n",
              "        \n",
              "            <tr style=\"background-color: hsl(0, 100.00%, 93.35%); border: none;\">\n",
              "    <td style=\"padding: 0 1em 0 0.5em; text-align: right; border: none;\">\n",
              "        -0.118\n",
              "    </td>\n",
              "    <td style=\"padding: 0 0.5em 0 0.5em; text-align: left; border: none;\">\n",
              "        x59\n",
              "    </td>\n",
              "    \n",
              "</tr>\n",
              "        \n",
              "            <tr style=\"background-color: hsl(0, 100.00%, 93.31%); border: none;\">\n",
              "    <td style=\"padding: 0 1em 0 0.5em; text-align: right; border: none;\">\n",
              "        -0.119\n",
              "    </td>\n",
              "    <td style=\"padding: 0 0.5em 0 0.5em; text-align: left; border: none;\">\n",
              "        x177\n",
              "    </td>\n",
              "    \n",
              "</tr>\n",
              "        \n",
              "            <tr style=\"background-color: hsl(0, 100.00%, 93.12%); border: none;\">\n",
              "    <td style=\"padding: 0 1em 0 0.5em; text-align: right; border: none;\">\n",
              "        -0.124\n",
              "    </td>\n",
              "    <td style=\"padding: 0 0.5em 0 0.5em; text-align: left; border: none;\">\n",
              "        x199\n",
              "    </td>\n",
              "    \n",
              "</tr>\n",
              "        \n",
              "            <tr style=\"background-color: hsl(0, 100.00%, 93.04%); border: none;\">\n",
              "    <td style=\"padding: 0 1em 0 0.5em; text-align: right; border: none;\">\n",
              "        -0.126\n",
              "    </td>\n",
              "    <td style=\"padding: 0 0.5em 0 0.5em; text-align: left; border: none;\">\n",
              "        x69\n",
              "    </td>\n",
              "    \n",
              "</tr>\n",
              "        \n",
              "            <tr style=\"background-color: hsl(0, 100.00%, 92.47%); border: none;\">\n",
              "    <td style=\"padding: 0 1em 0 0.5em; text-align: right; border: none;\">\n",
              "        -0.141\n",
              "    </td>\n",
              "    <td style=\"padding: 0 0.5em 0 0.5em; text-align: left; border: none;\">\n",
              "        x113\n",
              "    </td>\n",
              "    \n",
              "</tr>\n",
              "        \n",
              "            <tr style=\"background-color: hsl(0, 100.00%, 91.74%); border: none;\">\n",
              "    <td style=\"padding: 0 1em 0 0.5em; text-align: right; border: none;\">\n",
              "        -0.161\n",
              "    </td>\n",
              "    <td style=\"padding: 0 0.5em 0 0.5em; text-align: left; border: none;\">\n",
              "        x74\n",
              "    </td>\n",
              "    \n",
              "</tr>\n",
              "        \n",
              "            <tr style=\"background-color: hsl(0, 100.00%, 91.56%); border: none;\">\n",
              "    <td style=\"padding: 0 1em 0 0.5em; text-align: right; border: none;\">\n",
              "        -0.165\n",
              "    </td>\n",
              "    <td style=\"padding: 0 0.5em 0 0.5em; text-align: left; border: none;\">\n",
              "        x135\n",
              "    </td>\n",
              "    \n",
              "</tr>\n",
              "        \n",
              "            <tr style=\"background-color: hsl(0, 100.00%, 90.49%); border: none;\">\n",
              "    <td style=\"padding: 0 1em 0 0.5em; text-align: right; border: none;\">\n",
              "        -0.196\n",
              "    </td>\n",
              "    <td style=\"padding: 0 0.5em 0 0.5em; text-align: left; border: none;\">\n",
              "        &lt;BIAS&gt;\n",
              "    </td>\n",
              "    \n",
              "</tr>\n",
              "        \n",
              "            <tr style=\"background-color: hsl(0, 100.00%, 90.47%); border: none;\">\n",
              "    <td style=\"padding: 0 1em 0 0.5em; text-align: right; border: none;\">\n",
              "        -0.197\n",
              "    </td>\n",
              "    <td style=\"padding: 0 0.5em 0 0.5em; text-align: left; border: none;\">\n",
              "        x176\n",
              "    </td>\n",
              "    \n",
              "</tr>\n",
              "        \n",
              "            <tr style=\"background-color: hsl(0, 100.00%, 89.47%); border: none;\">\n",
              "    <td style=\"padding: 0 1em 0 0.5em; text-align: right; border: none;\">\n",
              "        -0.227\n",
              "    </td>\n",
              "    <td style=\"padding: 0 0.5em 0 0.5em; text-align: left; border: none;\">\n",
              "        x16\n",
              "    </td>\n",
              "    \n",
              "</tr>\n",
              "        \n",
              "\n",
              "        </tbody>\n",
              "    </table>\n",
              "\n",
              "            \n",
              "        \n",
              "\n",
              "        \n",
              "\n",
              "\n",
              "\n",
              "    \n",
              "\n",
              "    \n",
              "\n",
              "    \n",
              "\n",
              "    \n",
              "\n",
              "\n",
              "    \n",
              "\n",
              "    \n",
              "\n",
              "    \n",
              "\n",
              "    \n",
              "\n",
              "    \n",
              "\n",
              "    \n",
              "\n",
              "\n",
              "    \n",
              "\n",
              "    \n",
              "\n",
              "    \n",
              "\n",
              "    \n",
              "\n",
              "    \n",
              "\n",
              "    \n",
              "\n",
              "\n",
              "\n"
            ]
          },
          "metadata": {},
          "execution_count": 87
        }
      ]
    },
    {
      "cell_type": "code",
      "source": [
        "(model.coef_ != 0).sum()\n"
      ],
      "metadata": {
        "colab": {
          "base_uri": "https://localhost:8080/"
        },
        "id": "Zj6v6ML7udgD",
        "outputId": "d47b62db-8ec3-4907-c02d-ce8f19a096c4"
      },
      "execution_count": 88,
      "outputs": [
        {
          "output_type": "execute_result",
          "data": {
            "text/plain": [
              "35"
            ]
          },
          "metadata": {},
          "execution_count": 88
        }
      ]
    },
    {
      "cell_type": "markdown",
      "source": [
        "We can see that There are several features with highly positive weights and more features with negative weights. In fact there are only 32 features, which are important according to ELI5. It is worth noticing though, that the model itself had 34 non-zero features, so ELI5 dropped only 2 features.. Let's try using only them for the submission!"
      ],
      "metadata": {
        "id": "DCd0MrAChySv"
      }
    },
    {
      "cell_type": "code",
      "source": [
        "\n",
        "\n",
        "top_features = [i[1:] for i in eli5.formatters.as_dataframe.explain_weights_df(model).feature if 'BIAS' not in i]\n",
        "X_train = train[top_features]\n",
        "X_test = test[top_features]\n",
        "scaler = StandardScaler()\n",
        "X_train = scaler.fit_transform(X_train)\n",
        "X_test = scaler.transform(X_test)\n",
        "\n",
        "model = linear_model.LogisticRegression(class_weight='balanced', penalty='l1', C=0.1, solver='liblinear')\n",
        "oof_lr, prediction_lr, _ = train_model(X_train, X_test, y_train, params=None, model_type='sklearn', model=model)\n",
        "\n"
      ],
      "metadata": {
        "colab": {
          "base_uri": "https://localhost:8080/"
        },
        "id": "TUsmv739hzBo",
        "outputId": "edc82ca3-a01b-47b7-ce7b-88a3ba2016ae"
      },
      "execution_count": 89,
      "outputs": [
        {
          "output_type": "stream",
          "name": "stdout",
          "text": [
            "CV mean score: 0.7456, std: 0.1317.\n"
          ]
        }
      ]
    },
    {
      "cell_type": "markdown",
      "source": [
        "Wow, we got improvement from 0.7226 to 0.7486 on CV! But this submission gives 0.845 on leaderboard. So it decreases score slightly. Let's try other things"
      ],
      "metadata": {
        "id": "2Mtu2bcmh6Pf"
      }
    },
    {
      "cell_type": "markdown",
      "source": [
        "**Permutation importance**\n",
        "\n",
        "There is also another way of using eli5 - we could have a look at permutation importance. It works in the following way:\n",
        "\n",
        "- We fit a model;\n",
        "- We randomly shuffle one column of validation data and calculate the score;\n",
        "- If the score dropped significantly, it means that the feature is important;\n",
        "\n",
        "You can read more about this approach here: https://www.kaggle.com/dansbecker/permutation-*importance*"
      ],
      "metadata": {
        "id": "Zt3xsJMsh8Kc"
      }
    },
    {
      "cell_type": "code",
      "source": [
        "\n",
        "perm = PermutationImportance(model, random_state=1).fit(X_train, y_train)\n",
        "eli5.show_weights(perm, top=50)\n",
        "\n",
        "\n",
        "\n"
      ],
      "metadata": {
        "colab": {
          "base_uri": "https://localhost:8080/",
          "height": 642
        },
        "id": "i1R3gpzNiIZp",
        "outputId": "ad93c093-c7bf-4177-f041-91e035928323"
      },
      "execution_count": 93,
      "outputs": [
        {
          "output_type": "execute_result",
          "data": {
            "text/plain": [
              "<IPython.core.display.HTML object>"
            ],
            "text/html": [
              "\n",
              "    <style>\n",
              "    table.eli5-weights tr:hover {\n",
              "        filter: brightness(85%);\n",
              "    }\n",
              "</style>\n",
              "\n",
              "\n",
              "\n",
              "    \n",
              "\n",
              "    \n",
              "\n",
              "    \n",
              "\n",
              "    \n",
              "\n",
              "    \n",
              "\n",
              "    \n",
              "\n",
              "\n",
              "    \n",
              "\n",
              "    \n",
              "\n",
              "    \n",
              "\n",
              "    \n",
              "\n",
              "    \n",
              "\n",
              "    \n",
              "\n",
              "\n",
              "    \n",
              "\n",
              "    \n",
              "\n",
              "    \n",
              "\n",
              "    \n",
              "\n",
              "    \n",
              "        <table class=\"eli5-weights eli5-feature-importances\" style=\"border-collapse: collapse; border: none; margin-top: 0em; table-layout: auto;\">\n",
              "    <thead>\n",
              "    <tr style=\"border: none;\">\n",
              "        <th style=\"padding: 0 1em 0 0.5em; text-align: right; border: none;\">Weight</th>\n",
              "        <th style=\"padding: 0 0.5em 0 0.5em; text-align: left; border: none;\">Feature</th>\n",
              "    </tr>\n",
              "    </thead>\n",
              "    <tbody>\n",
              "    \n",
              "        <tr style=\"background-color: hsl(120, 100.00%, 80.00%); border: none;\">\n",
              "            <td style=\"padding: 0 1em 0 0.5em; text-align: right; border: none;\">\n",
              "                0.0312\n",
              "                \n",
              "                    &plusmn; 0.0425\n",
              "                \n",
              "            </td>\n",
              "            <td style=\"padding: 0 0.5em 0 0.5em; text-align: left; border: none;\">\n",
              "                x33\n",
              "            </td>\n",
              "        </tr>\n",
              "    \n",
              "        <tr style=\"background-color: hsl(120, 100.00%, 96.68%); border: none;\">\n",
              "            <td style=\"padding: 0 1em 0 0.5em; text-align: right; border: none;\">\n",
              "                0.0024\n",
              "                \n",
              "                    &plusmn; 0.0165\n",
              "                \n",
              "            </td>\n",
              "            <td style=\"padding: 0 0.5em 0 0.5em; text-align: left; border: none;\">\n",
              "                x5\n",
              "            </td>\n",
              "        </tr>\n",
              "    \n",
              "        <tr style=\"background-color: hsl(120, 100.00%, 98.46%); border: none;\">\n",
              "            <td style=\"padding: 0 1em 0 0.5em; text-align: right; border: none;\">\n",
              "                0.0008\n",
              "                \n",
              "                    &plusmn; 0.0032\n",
              "                \n",
              "            </td>\n",
              "            <td style=\"padding: 0 0.5em 0 0.5em; text-align: left; border: none;\">\n",
              "                x19\n",
              "            </td>\n",
              "        </tr>\n",
              "    \n",
              "        <tr style=\"background-color: hsl(0, 100.00%, 100.00%); border: none;\">\n",
              "            <td style=\"padding: 0 1em 0 0.5em; text-align: right; border: none;\">\n",
              "                0\n",
              "                \n",
              "                    &plusmn; 0.0000\n",
              "                \n",
              "            </td>\n",
              "            <td style=\"padding: 0 0.5em 0 0.5em; text-align: left; border: none;\">\n",
              "                x10\n",
              "            </td>\n",
              "        </tr>\n",
              "    \n",
              "        <tr style=\"background-color: hsl(0, 100.00%, 100.00%); border: none;\">\n",
              "            <td style=\"padding: 0 1em 0 0.5em; text-align: right; border: none;\">\n",
              "                0\n",
              "                \n",
              "                    &plusmn; 0.0000\n",
              "                \n",
              "            </td>\n",
              "            <td style=\"padding: 0 0.5em 0 0.5em; text-align: left; border: none;\">\n",
              "                x15\n",
              "            </td>\n",
              "        </tr>\n",
              "    \n",
              "        <tr style=\"background-color: hsl(0, 100.00%, 100.00%); border: none;\">\n",
              "            <td style=\"padding: 0 1em 0 0.5em; text-align: right; border: none;\">\n",
              "                0\n",
              "                \n",
              "                    &plusmn; 0.0000\n",
              "                \n",
              "            </td>\n",
              "            <td style=\"padding: 0 0.5em 0 0.5em; text-align: left; border: none;\">\n",
              "                x14\n",
              "            </td>\n",
              "        </tr>\n",
              "    \n",
              "        <tr style=\"background-color: hsl(0, 100.00%, 100.00%); border: none;\">\n",
              "            <td style=\"padding: 0 1em 0 0.5em; text-align: right; border: none;\">\n",
              "                0\n",
              "                \n",
              "                    &plusmn; 0.0000\n",
              "                \n",
              "            </td>\n",
              "            <td style=\"padding: 0 0.5em 0 0.5em; text-align: left; border: none;\">\n",
              "                x13\n",
              "            </td>\n",
              "        </tr>\n",
              "    \n",
              "        <tr style=\"background-color: hsl(0, 100.00%, 100.00%); border: none;\">\n",
              "            <td style=\"padding: 0 1em 0 0.5em; text-align: right; border: none;\">\n",
              "                0\n",
              "                \n",
              "                    &plusmn; 0.0000\n",
              "                \n",
              "            </td>\n",
              "            <td style=\"padding: 0 0.5em 0 0.5em; text-align: left; border: none;\">\n",
              "                x12\n",
              "            </td>\n",
              "        </tr>\n",
              "    \n",
              "        <tr style=\"background-color: hsl(0, 100.00%, 100.00%); border: none;\">\n",
              "            <td style=\"padding: 0 1em 0 0.5em; text-align: right; border: none;\">\n",
              "                0\n",
              "                \n",
              "                    &plusmn; 0.0000\n",
              "                \n",
              "            </td>\n",
              "            <td style=\"padding: 0 0.5em 0 0.5em; text-align: left; border: none;\">\n",
              "                x11\n",
              "            </td>\n",
              "        </tr>\n",
              "    \n",
              "        <tr style=\"background-color: hsl(0, 100.00%, 100.00%); border: none;\">\n",
              "            <td style=\"padding: 0 1em 0 0.5em; text-align: right; border: none;\">\n",
              "                0\n",
              "                \n",
              "                    &plusmn; 0.0000\n",
              "                \n",
              "            </td>\n",
              "            <td style=\"padding: 0 0.5em 0 0.5em; text-align: left; border: none;\">\n",
              "                x34\n",
              "            </td>\n",
              "        </tr>\n",
              "    \n",
              "        <tr style=\"background-color: hsl(0, 100.00%, 100.00%); border: none;\">\n",
              "            <td style=\"padding: 0 1em 0 0.5em; text-align: right; border: none;\">\n",
              "                0\n",
              "                \n",
              "                    &plusmn; 0.0000\n",
              "                \n",
              "            </td>\n",
              "            <td style=\"padding: 0 0.5em 0 0.5em; text-align: left; border: none;\">\n",
              "                x16\n",
              "            </td>\n",
              "        </tr>\n",
              "    \n",
              "        <tr style=\"background-color: hsl(0, 100.00%, 100.00%); border: none;\">\n",
              "            <td style=\"padding: 0 1em 0 0.5em; text-align: right; border: none;\">\n",
              "                0\n",
              "                \n",
              "                    &plusmn; 0.0000\n",
              "                \n",
              "            </td>\n",
              "            <td style=\"padding: 0 0.5em 0 0.5em; text-align: left; border: none;\">\n",
              "                x8\n",
              "            </td>\n",
              "        </tr>\n",
              "    \n",
              "        <tr style=\"background-color: hsl(0, 100.00%, 100.00%); border: none;\">\n",
              "            <td style=\"padding: 0 1em 0 0.5em; text-align: right; border: none;\">\n",
              "                0\n",
              "                \n",
              "                    &plusmn; 0.0000\n",
              "                \n",
              "            </td>\n",
              "            <td style=\"padding: 0 0.5em 0 0.5em; text-align: left; border: none;\">\n",
              "                x7\n",
              "            </td>\n",
              "        </tr>\n",
              "    \n",
              "        <tr style=\"background-color: hsl(0, 100.00%, 100.00%); border: none;\">\n",
              "            <td style=\"padding: 0 1em 0 0.5em; text-align: right; border: none;\">\n",
              "                0\n",
              "                \n",
              "                    &plusmn; 0.0000\n",
              "                \n",
              "            </td>\n",
              "            <td style=\"padding: 0 0.5em 0 0.5em; text-align: left; border: none;\">\n",
              "                x6\n",
              "            </td>\n",
              "        </tr>\n",
              "    \n",
              "        <tr style=\"background-color: hsl(0, 100.00%, 100.00%); border: none;\">\n",
              "            <td style=\"padding: 0 1em 0 0.5em; text-align: right; border: none;\">\n",
              "                0\n",
              "                \n",
              "                    &plusmn; 0.0000\n",
              "                \n",
              "            </td>\n",
              "            <td style=\"padding: 0 0.5em 0 0.5em; text-align: left; border: none;\">\n",
              "                x4\n",
              "            </td>\n",
              "        </tr>\n",
              "    \n",
              "        <tr style=\"background-color: hsl(0, 100.00%, 100.00%); border: none;\">\n",
              "            <td style=\"padding: 0 1em 0 0.5em; text-align: right; border: none;\">\n",
              "                0\n",
              "                \n",
              "                    &plusmn; 0.0000\n",
              "                \n",
              "            </td>\n",
              "            <td style=\"padding: 0 0.5em 0 0.5em; text-align: left; border: none;\">\n",
              "                x3\n",
              "            </td>\n",
              "        </tr>\n",
              "    \n",
              "        <tr style=\"background-color: hsl(0, 100.00%, 100.00%); border: none;\">\n",
              "            <td style=\"padding: 0 1em 0 0.5em; text-align: right; border: none;\">\n",
              "                0\n",
              "                \n",
              "                    &plusmn; 0.0000\n",
              "                \n",
              "            </td>\n",
              "            <td style=\"padding: 0 0.5em 0 0.5em; text-align: left; border: none;\">\n",
              "                x2\n",
              "            </td>\n",
              "        </tr>\n",
              "    \n",
              "        <tr style=\"background-color: hsl(0, 100.00%, 100.00%); border: none;\">\n",
              "            <td style=\"padding: 0 1em 0 0.5em; text-align: right; border: none;\">\n",
              "                0\n",
              "                \n",
              "                    &plusmn; 0.0000\n",
              "                \n",
              "            </td>\n",
              "            <td style=\"padding: 0 0.5em 0 0.5em; text-align: left; border: none;\">\n",
              "                x9\n",
              "            </td>\n",
              "        </tr>\n",
              "    \n",
              "        <tr style=\"background-color: hsl(0, 100.00%, 100.00%); border: none;\">\n",
              "            <td style=\"padding: 0 1em 0 0.5em; text-align: right; border: none;\">\n",
              "                0\n",
              "                \n",
              "                    &plusmn; 0.0000\n",
              "                \n",
              "            </td>\n",
              "            <td style=\"padding: 0 0.5em 0 0.5em; text-align: left; border: none;\">\n",
              "                x17\n",
              "            </td>\n",
              "        </tr>\n",
              "    \n",
              "        <tr style=\"background-color: hsl(0, 100.00%, 100.00%); border: none;\">\n",
              "            <td style=\"padding: 0 1em 0 0.5em; text-align: right; border: none;\">\n",
              "                0\n",
              "                \n",
              "                    &plusmn; 0.0000\n",
              "                \n",
              "            </td>\n",
              "            <td style=\"padding: 0 0.5em 0 0.5em; text-align: left; border: none;\">\n",
              "                x18\n",
              "            </td>\n",
              "        </tr>\n",
              "    \n",
              "        <tr style=\"background-color: hsl(0, 100.00%, 100.00%); border: none;\">\n",
              "            <td style=\"padding: 0 1em 0 0.5em; text-align: right; border: none;\">\n",
              "                0\n",
              "                \n",
              "                    &plusmn; 0.0000\n",
              "                \n",
              "            </td>\n",
              "            <td style=\"padding: 0 0.5em 0 0.5em; text-align: left; border: none;\">\n",
              "                x20\n",
              "            </td>\n",
              "        </tr>\n",
              "    \n",
              "        <tr style=\"background-color: hsl(0, 100.00%, 100.00%); border: none;\">\n",
              "            <td style=\"padding: 0 1em 0 0.5em; text-align: right; border: none;\">\n",
              "                0\n",
              "                \n",
              "                    &plusmn; 0.0000\n",
              "                \n",
              "            </td>\n",
              "            <td style=\"padding: 0 0.5em 0 0.5em; text-align: left; border: none;\">\n",
              "                x21\n",
              "            </td>\n",
              "        </tr>\n",
              "    \n",
              "        <tr style=\"background-color: hsl(0, 100.00%, 100.00%); border: none;\">\n",
              "            <td style=\"padding: 0 1em 0 0.5em; text-align: right; border: none;\">\n",
              "                0\n",
              "                \n",
              "                    &plusmn; 0.0000\n",
              "                \n",
              "            </td>\n",
              "            <td style=\"padding: 0 0.5em 0 0.5em; text-align: left; border: none;\">\n",
              "                x22\n",
              "            </td>\n",
              "        </tr>\n",
              "    \n",
              "        <tr style=\"background-color: hsl(0, 100.00%, 100.00%); border: none;\">\n",
              "            <td style=\"padding: 0 1em 0 0.5em; text-align: right; border: none;\">\n",
              "                0\n",
              "                \n",
              "                    &plusmn; 0.0000\n",
              "                \n",
              "            </td>\n",
              "            <td style=\"padding: 0 0.5em 0 0.5em; text-align: left; border: none;\">\n",
              "                x23\n",
              "            </td>\n",
              "        </tr>\n",
              "    \n",
              "        <tr style=\"background-color: hsl(0, 100.00%, 100.00%); border: none;\">\n",
              "            <td style=\"padding: 0 1em 0 0.5em; text-align: right; border: none;\">\n",
              "                0\n",
              "                \n",
              "                    &plusmn; 0.0000\n",
              "                \n",
              "            </td>\n",
              "            <td style=\"padding: 0 0.5em 0 0.5em; text-align: left; border: none;\">\n",
              "                x24\n",
              "            </td>\n",
              "        </tr>\n",
              "    \n",
              "        <tr style=\"background-color: hsl(0, 100.00%, 100.00%); border: none;\">\n",
              "            <td style=\"padding: 0 1em 0 0.5em; text-align: right; border: none;\">\n",
              "                0\n",
              "                \n",
              "                    &plusmn; 0.0000\n",
              "                \n",
              "            </td>\n",
              "            <td style=\"padding: 0 0.5em 0 0.5em; text-align: left; border: none;\">\n",
              "                x25\n",
              "            </td>\n",
              "        </tr>\n",
              "    \n",
              "        <tr style=\"background-color: hsl(0, 100.00%, 100.00%); border: none;\">\n",
              "            <td style=\"padding: 0 1em 0 0.5em; text-align: right; border: none;\">\n",
              "                0\n",
              "                \n",
              "                    &plusmn; 0.0000\n",
              "                \n",
              "            </td>\n",
              "            <td style=\"padding: 0 0.5em 0 0.5em; text-align: left; border: none;\">\n",
              "                x26\n",
              "            </td>\n",
              "        </tr>\n",
              "    \n",
              "        <tr style=\"background-color: hsl(0, 100.00%, 100.00%); border: none;\">\n",
              "            <td style=\"padding: 0 1em 0 0.5em; text-align: right; border: none;\">\n",
              "                0\n",
              "                \n",
              "                    &plusmn; 0.0000\n",
              "                \n",
              "            </td>\n",
              "            <td style=\"padding: 0 0.5em 0 0.5em; text-align: left; border: none;\">\n",
              "                x28\n",
              "            </td>\n",
              "        </tr>\n",
              "    \n",
              "        <tr style=\"background-color: hsl(0, 100.00%, 100.00%); border: none;\">\n",
              "            <td style=\"padding: 0 1em 0 0.5em; text-align: right; border: none;\">\n",
              "                0\n",
              "                \n",
              "                    &plusmn; 0.0000\n",
              "                \n",
              "            </td>\n",
              "            <td style=\"padding: 0 0.5em 0 0.5em; text-align: left; border: none;\">\n",
              "                x29\n",
              "            </td>\n",
              "        </tr>\n",
              "    \n",
              "        <tr style=\"background-color: hsl(0, 100.00%, 100.00%); border: none;\">\n",
              "            <td style=\"padding: 0 1em 0 0.5em; text-align: right; border: none;\">\n",
              "                0\n",
              "                \n",
              "                    &plusmn; 0.0000\n",
              "                \n",
              "            </td>\n",
              "            <td style=\"padding: 0 0.5em 0 0.5em; text-align: left; border: none;\">\n",
              "                x30\n",
              "            </td>\n",
              "        </tr>\n",
              "    \n",
              "        <tr style=\"background-color: hsl(0, 100.00%, 100.00%); border: none;\">\n",
              "            <td style=\"padding: 0 1em 0 0.5em; text-align: right; border: none;\">\n",
              "                0\n",
              "                \n",
              "                    &plusmn; 0.0000\n",
              "                \n",
              "            </td>\n",
              "            <td style=\"padding: 0 0.5em 0 0.5em; text-align: left; border: none;\">\n",
              "                x31\n",
              "            </td>\n",
              "        </tr>\n",
              "    \n",
              "        <tr style=\"background-color: hsl(0, 100.00%, 100.00%); border: none;\">\n",
              "            <td style=\"padding: 0 1em 0 0.5em; text-align: right; border: none;\">\n",
              "                0\n",
              "                \n",
              "                    &plusmn; 0.0000\n",
              "                \n",
              "            </td>\n",
              "            <td style=\"padding: 0 0.5em 0 0.5em; text-align: left; border: none;\">\n",
              "                x32\n",
              "            </td>\n",
              "        </tr>\n",
              "    \n",
              "        <tr style=\"background-color: hsl(0, 100.00%, 100.00%); border: none;\">\n",
              "            <td style=\"padding: 0 1em 0 0.5em; text-align: right; border: none;\">\n",
              "                0\n",
              "                \n",
              "                    &plusmn; 0.0000\n",
              "                \n",
              "            </td>\n",
              "            <td style=\"padding: 0 0.5em 0 0.5em; text-align: left; border: none;\">\n",
              "                x0\n",
              "            </td>\n",
              "        </tr>\n",
              "    \n",
              "        <tr style=\"background-color: hsl(0, 100.00%, 92.83%); border: none;\">\n",
              "            <td style=\"padding: 0 1em 0 0.5em; text-align: right; border: none;\">\n",
              "                -0.0072\n",
              "                \n",
              "                    &plusmn; 0.0329\n",
              "                \n",
              "            </td>\n",
              "            <td style=\"padding: 0 0.5em 0 0.5em; text-align: left; border: none;\">\n",
              "                x27\n",
              "            </td>\n",
              "        </tr>\n",
              "    \n",
              "        <tr style=\"background-color: hsl(0, 100.00%, 91.75%); border: none;\">\n",
              "            <td style=\"padding: 0 1em 0 0.5em; text-align: right; border: none;\">\n",
              "                -0.0088\n",
              "                \n",
              "                    &plusmn; 0.0171\n",
              "                \n",
              "            </td>\n",
              "            <td style=\"padding: 0 0.5em 0 0.5em; text-align: left; border: none;\">\n",
              "                x1\n",
              "            </td>\n",
              "        </tr>\n",
              "    \n",
              "    \n",
              "    </tbody>\n",
              "</table>\n",
              "    \n",
              "\n",
              "    \n",
              "\n",
              "\n",
              "    \n",
              "\n",
              "    \n",
              "\n",
              "    \n",
              "\n",
              "    \n",
              "\n",
              "    \n",
              "\n",
              "    \n",
              "\n",
              "\n",
              "\n"
            ]
          },
          "metadata": {},
          "execution_count": 93
        }
      ]
    },
    {
      "cell_type": "code",
      "source": [
        "top_features = [i[1:] for i in eli5.formatters.as_dataframe.explain_weights_df(perm).feature if 'BIAS' not in i]\n",
        "X_train = train[top_features]\n",
        "X_test = test[top_features]\n",
        "scaler = StandardScaler()\n",
        "X_train = scaler.fit_transform(X_train)\n",
        "X_test = scaler.transform(X_test)\n",
        "\n",
        "model = linear_model.LogisticRegression(class_weight='balanced', penalty='l1', C=0.1, solver='liblinear')\n",
        "oof_lr1, prediction_lr1, _ = train_model(X_train, X_test, y_train, params=None, model_type='sklearn', model=model)"
      ],
      "metadata": {
        "colab": {
          "base_uri": "https://localhost:8080/"
        },
        "id": "8ManGG0Cv_e1",
        "outputId": "1cf49bdb-9257-4d30-a658-bc5c0dbf490f"
      },
      "execution_count": 94,
      "outputs": [
        {
          "output_type": "stream",
          "name": "stdout",
          "text": [
            "CV mean score: 0.5640, std: 0.1368.\n"
          ]
        }
      ]
    },
    {
      "cell_type": "markdown",
      "source": [
        "\n",
        "\n",
        "Wow, if we select columns by permutation importance, CV score drops significantly. It seems it doesn't work well in our case.\n"
      ],
      "metadata": {
        "id": "2s58vPjmiXPk"
      }
    },
    {
      "cell_type": "markdown",
      "source": [
        "##### 4- SHAP\n",
        "\n",
        "Another interesting tool is SHAP. It also provides explanations for a variety of models.\n"
      ],
      "metadata": {
        "id": "IdIcAo4qik0W"
      }
    },
    {
      "cell_type": "code",
      "source": [
        "X_train = train.drop(['id', 'target'], axis=1)\n",
        "y_train = train['target']\n",
        "X_test = test.drop(['id'], axis=1)\n",
        "scaler = StandardScaler()\n",
        "X_train = scaler.fit_transform(X_train)\n",
        "X_test = scaler.transform(X_test)\n",
        "\n",
        "model = linear_model.LogisticRegression(class_weight='balanced', penalty='l1', C=0.1, solver='liblinear')\n",
        "oof_lr, prediction_lr, _ = train_model(X_train, X_test, y_train, params=None, model_type='sklearn', model=model)\n",
        "\n",
        "\n",
        "explainer = shap.LinearExplainer(model, X_train)\n",
        "shap_values = explainer.shap_values(X_train)\n",
        "\n",
        "shap.summary_plot(shap_values, X_train)"
      ],
      "metadata": {
        "colab": {
          "base_uri": "https://localhost:8080/",
          "height": 710
        },
        "id": "lLecKNVdioVk",
        "outputId": "9b15ebc0-0342-4250-9cab-31e4df8bdbba"
      },
      "execution_count": 99,
      "outputs": [
        {
          "output_type": "stream",
          "name": "stdout",
          "text": [
            "CV mean score: 0.7431, std: 0.1357.\n"
          ]
        },
        {
          "output_type": "display_data",
          "data": {
            "text/plain": [
              "<Figure size 576x684 with 2 Axes>"
            ],
            "image/png": "[encoded data removed]"
          },
          "metadata": {
            "needs_background": "light"
          }
        }
      ]
    },
    {
      "cell_type": "markdown",
      "source": [
        "\n",
        "\n",
        "It could be difficult to interpret this plot when you see it for the first time. It shows how features impact predictions. For example for feature 33 low values have a negative impact on model predictions (zero is more likely), and high values have a positive impace (ones are more likely). Feature 217 has an opposite effect: low values have a positive impact and high values have a negative impact.\n",
        "\n",
        "But we will need to select features manually... let's use a library for that!\n"
      ],
      "metadata": {
        "id": "8GEI5iR_iyNu"
      }
    },
    {
      "cell_type": "markdown",
      "source": [
        "##### 5- Mlextend SequentialFeatureSelector"
      ],
      "metadata": {
        "id": "UC0sGAKEi0Xi"
      }
    },
    {
      "cell_type": "code",
      "source": [
        "sfs1 = SFS(model, \n",
        "           k_features=(10, 15), \n",
        "           forward=True, \n",
        "           floating=False, \n",
        "           verbose=0,\n",
        "           scoring='roc_auc',\n",
        "           cv=folds)\n",
        "\n",
        "sfs1 = sfs1.fit(X_train, y_train)\n",
        "print(\"done!!!\")"
      ],
      "metadata": {
        "id": "iozREFFgi3tw"
      },
      "execution_count": 108,
      "outputs": []
    },
    {
      "cell_type": "code",
      "source": [
        "fig1 = plot_sfs(sfs1.get_metric_dict(), kind='std_dev')\n",
        "fig1 = plot_sfs(sfs1.get_metric_dict(), kind='std_dev')\n",
        "\n",
        "plt.ylim([0.8, 1])\n",
        "plt.title('Sequential Forward Selection (w. StdDev)')\n",
        "plt.grid()\n",
        "plt.show()"
      ],
      "metadata": {
        "colab": {
          "base_uri": "https://localhost:8080/",
          "height": 557
        },
        "id": "Tj343mPkzlDF",
        "outputId": "b200503e-e1f2-4ca5-bacc-9d222a9ef8eb"
      },
      "execution_count": 114,
      "outputs": [
        {
          "output_type": "display_data",
          "data": {
            "text/plain": [
              "<Figure size 432x288 with 1 Axes>"
            ],
            "image/png": "[encoded data removed]"
          },
          "metadata": {
            "needs_background": "light"
          }
        },
        {
          "output_type": "display_data",
          "data": {
            "text/plain": [
              "<Figure size 432x288 with 1 Axes>"
            ],
            "image/png": "[encoded data removed]"
          },
          "metadata": {
            "needs_background": "light"
          }
        }
      ]
    },
    {
      "cell_type": "code",
      "source": [
        "top_features = list(sfs1.k_feature_names_)\n",
        "X_train = train[top_features]\n",
        "X_test = test[top_features]\n",
        "scaler = StandardScaler()\n",
        "X_train = scaler.fit_transform(X_train)\n",
        "X_test = scaler.transform(X_test)\n",
        "print(\"done!!!\")"
      ],
      "metadata": {
        "colab": {
          "base_uri": "https://localhost:8080/"
        },
        "id": "QgQ6xt2rzosX",
        "outputId": "d0056d10-173f-42ee-c6d2-bdb796db17c2"
      },
      "execution_count": 115,
      "outputs": [
        {
          "output_type": "stream",
          "name": "stdout",
          "text": [
            "done!!!\n"
          ]
        }
      ]
    },
    {
      "cell_type": "code",
      "source": [
        "model = linear_model.LogisticRegression(class_weight='balanced', penalty='l1', C=0.1, solver='liblinear')\n",
        "oof_lr, prediction_lr, _ = train_model(X_train, X_test, y_train, params=None, model_type='sklearn', model=model)"
      ],
      "metadata": {
        "colab": {
          "base_uri": "https://localhost:8080/"
        },
        "id": "23pRw31ezqst",
        "outputId": "3e197e2a-4fb5-4d4b-bfce-d7a7251d6bba"
      },
      "execution_count": 116,
      "outputs": [
        {
          "output_type": "stream",
          "name": "stdout",
          "text": [
            "CV mean score: 0.7301, std: 0.1561.\n"
          ]
        }
      ]
    },
    {
      "cell_type": "markdown",
      "source": [
        "\n",
        "\n",
        "And this gives 0.811 on leaderboard. Overfitting! It seems that feature selection isn't the best approach. Let's try building various models!\n"
      ],
      "metadata": {
        "id": "2COne-L7jA_D"
      }
    },
    {
      "cell_type": "markdown",
      "source": [
        "##### 6- Modelling"
      ],
      "metadata": {
        "id": "sAK4_SkPjPP0"
      }
    },
    {
      "cell_type": "code",
      "source": [
        "X_train = train.drop(['id', 'target'], axis=1)\n",
        "y_train = train['target']\n",
        "X_test = test.drop(['id'], axis=1)\n",
        "scaler = StandardScaler()\n",
        "X_train = scaler.fit_transform(X_train)\n",
        "X_test = scaler.transform(X_test)\n",
        "\n",
        "lr = linear_model.LogisticRegression(solver='liblinear', max_iter=1000)\n",
        "\n",
        "parameter_grid = {'class_weight' : ['balanced', None],\n",
        "                  'penalty' : ['l2'],\n",
        "                  'C' : [0.001, 0.01, 0.1, 1.0, 10.0, 100.0],\n",
        "                  'solver': ['newton-cg', 'sag', 'lbfgs']\n",
        "                 }"
      ],
      "metadata": {
        "id": "WFVds1Q9ktK2"
      },
      "execution_count": 118,
      "outputs": []
    },
    {
      "cell_type": "code",
      "source": [
        "grid_search = GridSearchCV(lr, param_grid=parameter_grid, cv=folds, scoring='roc_auc')\n",
        "grid_search.fit(X_train, y_train)\n",
        "print('Best score: {}'.format(grid_search.best_score_))\n",
        "print('Best parameters: {}'.format(grid_search.best_params_))"
      ],
      "metadata": {
        "colab": {
          "base_uri": "https://localhost:8080/"
        },
        "id": "RAQvdoxDCRnc",
        "outputId": "c2499ca9-67ae-46fe-d878-bc8184db7539"
      },
      "execution_count": 120,
      "outputs": [
        {
          "output_type": "stream",
          "name": "stdout",
          "text": [
            "Best score: 0.7044444444444445\n",
            "Best parameters: {'C': 100.0, 'class_weight': None, 'penalty': 'l2', 'solver': 'sag'}\n"
          ]
        }
      ]
    },
    {
      "cell_type": "code",
      "source": [
        "lr = linear_model.LogisticRegression(solver='liblinear', max_iter=10000)\n",
        "\n",
        "parameter_grid = {'class_weight' : ['balanced', None],\n",
        "                  'penalty' : ['l2', 'l1'],\n",
        "                  'C' : [0.001, 0.01, 0.08, 0.1, 0.15, 1.0, 10.0, 100.0],\n",
        "                 }\n",
        "\n",
        "grid_search = GridSearchCV(lr, param_grid=parameter_grid, cv=folds, scoring='roc_auc')\n",
        "grid_search.fit(X_train, y_train)\n",
        "print('Best score: {}'.format(grid_search.best_score_))\n",
        "print('Best parameters: {}'.format(grid_search.best_params_))"
      ],
      "metadata": {
        "colab": {
          "base_uri": "https://localhost:8080/"
        },
        "id": "6HqtZ1GGCem7",
        "outputId": "27eacb33-a674-4258-cf86-cccebbeb9cad"
      },
      "execution_count": 123,
      "outputs": [
        {
          "output_type": "stream",
          "name": "stdout",
          "text": [
            "Best score: 0.7830555555555557\n",
            "Best parameters: {'C': 0.1, 'class_weight': None, 'penalty': 'l1'}\n"
          ]
        }
      ]
    },
    {
      "cell_type": "code",
      "source": [
        "model = linear_model.LogisticRegression(class_weight='balanced', penalty='l1', C=0.1, solver='liblinear')\n",
        "oof_lr, prediction_lr, scores = train_model(X_train, X_test, y_train, params=None, model_type='sklearn', model=model)"
      ],
      "metadata": {
        "colab": {
          "base_uri": "https://localhost:8080/"
        },
        "id": "YCp9E19yCUe1",
        "outputId": "1d3c568c-1aea-431e-edf5-743ce3eb41e6"
      },
      "execution_count": 122,
      "outputs": [
        {
          "output_type": "stream",
          "name": "stdout",
          "text": [
            "CV mean score: 0.7431, std: 0.1357.\n"
          ]
        }
      ]
    },
    {
      "cell_type": "code",
      "source": [
        "from sklearn.naive_bayes import GaussianNB\n",
        "gnb = GaussianNB()\n",
        "oof_gnb, prediction_gnb, scores_gnb = train_model(X_train, X_test, y_train, params=None, model_type='sklearn', model=gnb)"
      ],
      "metadata": {
        "colab": {
          "base_uri": "https://localhost:8080/"
        },
        "id": "uPQwIRXGk7S1",
        "outputId": "ec139abc-20c0-48f6-cb84-b1c7585683a1"
      },
      "execution_count": 124,
      "outputs": [
        {
          "output_type": "stream",
          "name": "stdout",
          "text": [
            "CV mean score: 0.5462, std: 0.0910.\n"
          ]
        }
      ]
    },
    {
      "cell_type": "code",
      "source": [
        "from sklearn.ensemble import AdaBoostClassifier\n",
        "abc = AdaBoostClassifier()\n",
        "\n",
        "parameter_grid = {'n_estimators': [5, 10, 20, 50, 100],\n",
        "                  'learning_rate': [0.001, 0.01, 0.1, 1.0, 10.0]\n",
        "                 }\n",
        "\n",
        "grid_search = GridSearchCV(abc, param_grid=parameter_grid, cv=folds, scoring='roc_auc')\n",
        "grid_search.fit(X_train, y_train)\n",
        "print('Best score: {}'.format(grid_search.best_score_))\n",
        "print('Best parameters: {}'.format(grid_search.best_params_))"
      ],
      "metadata": {
        "colab": {
          "base_uri": "https://localhost:8080/"
        },
        "id": "CDrJ4pvUk-YD",
        "outputId": "d8b20652-d34f-4846-a5d7-4cc684567d26"
      },
      "execution_count": 125,
      "outputs": [
        {
          "output_type": "stream",
          "name": "stdout",
          "text": [
            "Best score: 0.6804629629629629\n",
            "Best parameters: {'learning_rate': 0.1, 'n_estimators': 100}\n"
          ]
        }
      ]
    },
    {
      "cell_type": "code",
      "source": [
        "abc = AdaBoostClassifier(**grid_search.best_params_)\n",
        "oof_abc, prediction_abc, scores_abc = train_model(X_train, X_test, y_train, params=None, model_type='sklearn', model=abc)"
      ],
      "metadata": {
        "colab": {
          "base_uri": "https://localhost:8080/"
        },
        "id": "y2dJ-jMHk_Yk",
        "outputId": "f0e92ca1-9cc0-44f2-e66c-3b6eaf463c23"
      },
      "execution_count": 126,
      "outputs": [
        {
          "output_type": "stream",
          "name": "stdout",
          "text": [
            "CV mean score: 0.5625, std: 0.1363.\n"
          ]
        }
      ]
    },
    {
      "cell_type": "code",
      "source": [
        "from sklearn.ensemble import ExtraTreesClassifier\n",
        "etc = ExtraTreesClassifier()\n",
        "\n",
        "parameter_grid = {'n_estimators': [10, 50, 100, 1000],\n",
        "                  'max_depth': [None, 3, 5, 15]\n",
        "                 }\n",
        "\n",
        "grid_search = GridSearchCV(etc, param_grid=parameter_grid, cv=folds, scoring='roc_auc', n_jobs=-1)\n",
        "grid_search.fit(X_train, y_train)\n",
        "print('Best score: {}'.format(grid_search.best_score_))\n",
        "print('Best parameters: {}'.format(grid_search.best_params_))"
      ],
      "metadata": {
        "colab": {
          "base_uri": "https://localhost:8080/"
        },
        "id": "QBpsoS7slDME",
        "outputId": "b05b8427-1096-48d1-8a4c-08ac212c1d1e"
      },
      "execution_count": 128,
      "outputs": [
        {
          "output_type": "stream",
          "name": "stdout",
          "text": [
            "Best score: 0.7118518518518518\n",
            "Best parameters: {'max_depth': 5, 'n_estimators': 1000}\n"
          ]
        }
      ]
    },
    {
      "cell_type": "code",
      "source": [
        "etc = ExtraTreesClassifier(**grid_search.best_params_)\n",
        "oof_etc, prediction_etc, scores_etc = train_model(X_train, X_test, y_train, params=None, model_type='sklearn', model=etc)"
      ],
      "metadata": {
        "id": "SgG-5ZMMD7K8",
        "outputId": "76b6a36d-2fc6-44f5-ac6d-38f64d26a958",
        "colab": {
          "base_uri": "https://localhost:8080/"
        }
      },
      "execution_count": 129,
      "outputs": [
        {
          "output_type": "stream",
          "name": "stdout",
          "text": [
            "CV mean score: 0.5000, std: 0.0000.\n"
          ]
        }
      ]
    },
    {
      "cell_type": "code",
      "source": [
        "from sklearn.ensemble import RandomForestClassifier\n",
        "rfc = RandomForestClassifier()\n",
        "\n",
        "parameter_grid = {'n_estimators': [10, 50, 100, 1000],\n",
        "                  'max_depth': [None, 3, 5, 15]\n",
        "                 }\n",
        "\n",
        "grid_search = GridSearchCV(rfc, param_grid=parameter_grid, cv=folds, scoring='roc_auc', n_jobs=-1)\n",
        "grid_search.fit(X_train, y_train)\n",
        "print('Best score: {}'.format(grid_search.best_score_))\n",
        "print('Best parameters: {}'.format(grid_search.best_params_))"
      ],
      "metadata": {
        "colab": {
          "base_uri": "https://localhost:8080/"
        },
        "id": "L7_949WHlJOP",
        "outputId": "52e81ed7-671d-4918-de2d-83776c4e550d"
      },
      "execution_count": 130,
      "outputs": [
        {
          "output_type": "stream",
          "name": "stdout",
          "text": [
            "Best score: 0.6557407407407408\n",
            "Best parameters: {'max_depth': 15, 'n_estimators': 1000}\n"
          ]
        }
      ]
    },
    {
      "cell_type": "code",
      "source": [
        "rfc = RandomForestClassifier(**grid_search.best_params_)\n",
        "oof_rfc, prediction_rfc, scores_rfc = train_model(X_train, X_test, y_train, params=None, model_type='sklearn', model=rfc)"
      ],
      "metadata": {
        "id": "KD8IO93GEBs3",
        "outputId": "5cc9d5dc-f442-4c40-bf95-c2da12aa162f",
        "colab": {
          "base_uri": "https://localhost:8080/"
        }
      },
      "execution_count": 131,
      "outputs": [
        {
          "output_type": "stream",
          "name": "stdout",
          "text": [
            "CV mean score: 0.5000, std: 0.0000.\n"
          ]
        }
      ]
    },
    {
      "cell_type": "code",
      "source": [
        "from sklearn.gaussian_process import GaussianProcessClassifier\n",
        "gpc = GaussianProcessClassifier()\n",
        "oof_gpc, prediction_gpc, scores_gpc = train_model(X_train, X_test, y_train, params=None, model_type='sklearn', model=gpc)"
      ],
      "metadata": {
        "colab": {
          "base_uri": "https://localhost:8080/"
        },
        "id": "mApqq9sklMgR",
        "outputId": "0ef79df6-a174-44a9-9c5e-cc5e75312643"
      },
      "execution_count": 132,
      "outputs": [
        {
          "output_type": "stream",
          "name": "stdout",
          "text": [
            "CV mean score: 0.5504, std: 0.1508.\n"
          ]
        }
      ]
    },
    {
      "cell_type": "code",
      "source": [
        "from sklearn.svm import SVC\n",
        "svc = SVC(probability=True, gamma='scale')\n",
        "\n",
        "parameter_grid = {'C': [0.001, 0.01, 0.1, 1.0, 10.0],\n",
        "                  'kernel': ['linear', 'poly', 'rbf'],\n",
        "                 }\n",
        "\n",
        "grid_search = GridSearchCV(svc, param_grid=parameter_grid, cv=folds, scoring='roc_auc', n_jobs=-1)\n",
        "grid_search.fit(X_train, y_train)\n",
        "print('Best score: {}'.format(grid_search.best_score_))\n",
        "print('Best parameters: {}'.format(grid_search.best_params_))"
      ],
      "metadata": {
        "colab": {
          "base_uri": "https://localhost:8080/"
        },
        "id": "ZnD_bB7glOsV",
        "outputId": "ba37e4d6-f2d3-4452-f895-78109f25fc4f"
      },
      "execution_count": 133,
      "outputs": [
        {
          "output_type": "stream",
          "name": "stdout",
          "text": [
            "Best score: 0.6980555555555554\n",
            "Best parameters: {'C': 10.0, 'kernel': 'rbf'}\n"
          ]
        }
      ]
    },
    {
      "cell_type": "code",
      "source": [
        "svc = SVC(probability=True, gamma='scale', **grid_search.best_params_)\n",
        "oof_svc, prediction_svc, scores_svc = train_model(X_train, X_test, y_train, params=None, model_type='sklearn', model=svc)"
      ],
      "metadata": {
        "id": "Cr26k-VnEE15",
        "outputId": "25a2b954-024e-439e-c5b8-f729ca5bba85",
        "colab": {
          "base_uri": "https://localhost:8080/"
        }
      },
      "execution_count": 134,
      "outputs": [
        {
          "output_type": "stream",
          "name": "stdout",
          "text": [
            "CV mean score: 0.4975, std: 0.0444.\n"
          ]
        }
      ]
    },
    {
      "cell_type": "code",
      "source": [
        "from sklearn.neighbors import KNeighborsClassifier\n",
        "knc = KNeighborsClassifier()\n",
        "\n",
        "parameter_grid = {'n_neighbors': [2, 3, 5, 10, 20],\n",
        "                  'weights': ['uniform', 'distance'],\n",
        "                  'leaf_size': [5, 10, 30]\n",
        "                 }\n",
        "\n",
        "grid_search = GridSearchCV(knc, param_grid=parameter_grid, cv=folds, scoring='roc_auc', n_jobs=-1)\n",
        "grid_search.fit(X_train, y_train)\n",
        "print('Best score: {}'.format(grid_search.best_score_))\n",
        "print('Best parameters: {}'.format(grid_search.best_params_))"
      ],
      "metadata": {
        "colab": {
          "base_uri": "https://localhost:8080/"
        },
        "id": "XvXORb0slSzA",
        "outputId": "3ad36a9b-464e-400f-a3c5-19f784ed347c"
      },
      "execution_count": 135,
      "outputs": [
        {
          "output_type": "stream",
          "name": "stdout",
          "text": [
            "Best score: 0.5949074074074073\n",
            "Best parameters: {'leaf_size': 5, 'n_neighbors': 20, 'weights': 'distance'}\n"
          ]
        }
      ]
    },
    {
      "cell_type": "code",
      "source": [
        "knc = KNeighborsClassifier(**grid_search.best_params_)\n",
        "oof_knc, prediction_knc, scores_knc = train_model(X_train, X_test, y_train, params=None, model_type='sklearn', model=knc)"
      ],
      "metadata": {
        "id": "xTUGpDpuEHSE",
        "outputId": "5fd3c098-6cd2-46a7-d9a4-d7efdd4bbf84",
        "colab": {
          "base_uri": "https://localhost:8080/"
        }
      },
      "execution_count": 136,
      "outputs": [
        {
          "output_type": "stream",
          "name": "stdout",
          "text": [
            "CV mean score: 0.5000, std: 0.0000.\n"
          ]
        }
      ]
    },
    {
      "cell_type": "code",
      "source": [
        "from sklearn.naive_bayes import BernoulliNB\n",
        "bnb = BernoulliNB()\n",
        "\n",
        "parameter_grid = {'alpha': [0.0001, 1, 2, 10]\n",
        "                 }\n",
        "\n",
        "grid_search = GridSearchCV(bnb, param_grid=parameter_grid, cv=folds, scoring='roc_auc', n_jobs=-1)\n",
        "grid_search.fit(X_train, y_train)\n",
        "print('Best score: {}'.format(grid_search.best_score_))\n",
        "print('Best parameters: {}'.format(grid_search.best_params_))"
      ],
      "metadata": {
        "colab": {
          "base_uri": "https://localhost:8080/"
        },
        "id": "R3WQGiAtlZuc",
        "outputId": "cb366cb4-0193-4bcd-8268-6802890c7f4c"
      },
      "execution_count": 137,
      "outputs": [
        {
          "output_type": "stream",
          "name": "stdout",
          "text": [
            "Best score: 0.5453703703703704\n",
            "Best parameters: {'alpha': 2}\n"
          ]
        }
      ]
    },
    {
      "cell_type": "code",
      "source": [
        "bnb = BernoulliNB(**grid_search.best_params_)\n",
        "oof_bnb, prediction_bnb, scores_bnb = train_model(X_train, X_test, y_train, params=None, model_type='sklearn', model=bnb)"
      ],
      "metadata": {
        "id": "0tR4y9sEEK1z",
        "outputId": "92535d28-747f-4f45-c736-c7891905f3d2",
        "colab": {
          "base_uri": "https://localhost:8080/"
        }
      },
      "execution_count": 138,
      "outputs": [
        {
          "output_type": "stream",
          "name": "stdout",
          "text": [
            "CV mean score: 0.4792, std: 0.1370.\n"
          ]
        }
      ]
    },
    {
      "cell_type": "code",
      "source": [
        "sgd = linear_model.SGDClassifier(eta0=1, max_iter=1000, tol=0.0001)\n",
        "\n",
        "parameter_grid = {'loss': ['log', 'modified_huber'],\n",
        "                  'penalty': ['l1', 'l2', 'elasticnet'],\n",
        "                  'alpha': [0.001, 0.01],\n",
        "                  'l1_ratio': [0, 0.15, 0.5, 1.0],\n",
        "                  'learning_rate': ['optimal', 'invscaling', 'adaptive']\n",
        "                 }\n",
        "\n",
        "grid_search = GridSearchCV(sgd, param_grid=parameter_grid, cv=folds, scoring='roc_auc', n_jobs=-1)\n",
        "grid_search.fit(X_train, y_train)\n",
        "print('Best score: {}'.format(grid_search.best_score_))\n",
        "print('Best parameters: {}'.format(grid_search.best_params_))"
      ],
      "metadata": {
        "colab": {
          "base_uri": "https://localhost:8080/"
        },
        "id": "EVWTdfZTlcPV",
        "outputId": "1f483818-e719-4ca9-95ae-8a4735a485c7"
      },
      "execution_count": 139,
      "outputs": [
        {
          "output_type": "stream",
          "name": "stdout",
          "text": [
            "Best score: 0.7474074074074074\n",
            "Best parameters: {'alpha': 0.01, 'l1_ratio': 0, 'learning_rate': 'adaptive', 'loss': 'log', 'penalty': 'l1'}\n"
          ]
        }
      ]
    },
    {
      "cell_type": "code",
      "source": [
        "sgd = linear_model.SGDClassifier(eta0=1, tol=0.0001, **grid_search.best_params_)\n",
        "oof_sgd, prediction_sgd, scores_sgd = train_model(X_train, X_test, y_train, params=None, model_type='sklearn', model=sgd)"
      ],
      "metadata": {
        "id": "lNzlJ-XyENGM",
        "outputId": "f7e37d63-3a3c-4acf-eab3-52852fcf46ab",
        "colab": {
          "base_uri": "https://localhost:8080/"
        }
      },
      "execution_count": 140,
      "outputs": [
        {
          "output_type": "stream",
          "name": "stdout",
          "text": [
            "CV mean score: 0.6121, std: 0.1509.\n"
          ]
        }
      ]
    },
    {
      "cell_type": "code",
      "source": [
        "plt.figure(figsize=(12, 8));\n",
        "scores_df = pd.DataFrame({'LogisticRegression': scores})\n",
        "scores_df['GaussianNB'] = scores_gnb\n",
        "scores_df['AdaBoostClassifier'] = scores_abc\n",
        "scores_df['ExtraTreesClassifier'] = scores_etc\n",
        "scores_df['GaussianProcessClassifier'] = scores_gpc\n",
        "scores_df['SVC'] = scores_svc\n",
        "scores_df['KNeighborsClassifier'] = scores_knc\n",
        "scores_df['BernoulliNB'] = scores_bnb\n",
        "scores_df['SGDClassifier'] = scores_sgd\n",
        "scores_df['RandomForestClassifier'] = scores_rfc\n",
        "\n",
        "sns.boxplot(data=scores_df);\n",
        "plt.xticks(rotation=45);"
      ],
      "metadata": {
        "colab": {
          "base_uri": "https://localhost:8080/",
          "height": 572
        },
        "id": "SKDiUOU-leoN",
        "outputId": "c4c138cc-f2b8-4db7-c539-a0cf8ac1ac4c"
      },
      "execution_count": 141,
      "outputs": [
        {
          "output_type": "display_data",
          "data": {
            "text/plain": [
              "<Figure size 864x576 with 1 Axes>"
            ],
            "image/png": "[encoded data removed]"
          },
          "metadata": {
            "needs_background": "light"
          }
        }
      ]
    },
    {
      "cell_type": "markdown",
      "source": [
        "\n",
        "\n",
        "We can see that logistic regression is superior to most other models. Only SVC is comparable. It seems that other models either overfit or can't work on this small dataset.\n",
        "\n",
        "Let's try submitting a blend of them!\n"
      ],
      "metadata": {
        "id": "COtO75b0lt85"
      }
    },
    {
      "cell_type": "code",
      "source": [
        "X_train = train.drop(['id', 'target'], axis=1)\n",
        "y_train = train['target']\n",
        "X_test = test.drop(['id'], axis=1)\n",
        "scaler = StandardScaler()\n",
        "X_train = scaler.fit_transform(X_train)\n",
        "X_test = scaler.transform(X_test)\n",
        "\n",
        "model = linear_model.LogisticRegression(class_weight='balanced', penalty='l1', C=0.1, solver='liblinear')\n",
        "oof_lr, prediction_lr, _ = train_model(X_train, X_test, y_train, params=None, model_type='sklearn', model=model)\n",
        "\n",
        "plt.hist(prediction_lr, label='logreg');\n",
        "plt.hist(prediction_svc, label='svc');\n",
        "plt.hist((prediction_lr + prediction_svc) / 2, label='blend');\n",
        "plt.title('Distribution of out of fold predictions');\n",
        "plt.legend();"
      ],
      "metadata": {
        "colab": {
          "base_uri": "https://localhost:8080/",
          "height": 298
        },
        "id": "Ch2bZ_QTlyLI",
        "outputId": "3d7c6241-d915-4d15-d4cd-e0b807bb1be1"
      },
      "execution_count": 142,
      "outputs": [
        {
          "output_type": "stream",
          "name": "stdout",
          "text": [
            "CV mean score: 0.7431, std: 0.1357.\n"
          ]
        },
        {
          "output_type": "display_data",
          "data": {
            "text/plain": [
              "<Figure size 432x288 with 1 Axes>"
            ],
            "image/png": "[encoded data removed]"
          },
          "metadata": {
            "needs_background": "light"
          }
        }
      ]
    },
    {
      "cell_type": "markdown",
      "source": [
        "\n",
        "\n",
        "Sadly blend gives 0.831 on LB. Again no luck.\n",
        "\n",
        "Let's try generating some features!\n"
      ],
      "metadata": {
        "id": "pPOYH25cl7Vt"
      }
    },
    {
      "cell_type": "markdown",
      "source": [
        "##### 7- Polynomial features\n"
      ],
      "metadata": {
        "id": "t57LAzI-jZsv"
      }
    },
    {
      "cell_type": "code",
      "source": [
        "from sklearn.preprocessing import PolynomialFeatures\n",
        "poly = PolynomialFeatures(2)\n",
        "\n",
        "X_train = train.drop(['id', 'target'], axis=1)\n",
        "X_test = test.drop(['id'], axis=1)\n",
        "\n",
        "X_train_poly = poly.fit_transform(X_train)\n",
        "X_test_poly = poly.transform(X_test)"
      ],
      "metadata": {
        "id": "RlOjyv05l_H8"
      },
      "execution_count": 143,
      "outputs": []
    },
    {
      "cell_type": "markdown",
      "source": [
        "The number of polynomial features is ~45k which is too much. We need some way to select some of them. Let's try use correlations with target."
      ],
      "metadata": {
        "id": "upgaDqeYmDNT"
      }
    },
    {
      "cell_type": "code",
      "source": [
        "cor = pd.DataFrame(X_train_poly).corrwith(y_train)\n",
        "sc = []\n",
        "for i in range(10, 510, 5):\n",
        "    top_corr_cols = list(cor.abs().sort_values().tail(i).reset_index()['index'].values)\n",
        "    X_train_poly1 = X_train_poly[:, top_corr_cols]\n",
        "    X_test_poly1 = X_test_poly[:, top_corr_cols]\n",
        "    oof_lr_poly, prediction_lr_poly, scores = train_model(X_train_poly1, X_test_poly1, y_train, params=None, model_type='sklearn', model=model)\n",
        "    sc.append(scores)\n",
        "\n",
        "    data = [go.Scatter(\n",
        "        x = list(range(10, 510, 5)),\n",
        "        y = [np.round(np.mean(i), 4) for i in sc],\n",
        "        name = 'CV scores'\n",
        "    )]\n",
        "layout = go.Layout(dict(title = \"Top N poly features vs CV\",\n",
        "                  xaxis = dict(title = 'Top N features'),\n",
        "                  yaxis = dict(title = 'CV score'),\n",
        "                  ))\n",
        "py.iplot(dict(data=data, layout=layout), filename='basic-line')\n",
        "\n"
      ],
      "metadata": {
        "colab": {
          "base_uri": "https://localhost:8080/",
          "height": 253
        },
        "id": "Yu0eQXxQmEHH",
        "outputId": "40262d27-ded2-40b3-e6b9-3e3e5da0d06c"
      },
      "execution_count": 144,
      "outputs": [
        {
          "output_type": "stream",
          "name": "stdout",
          "text": [
            "CV mean score: 0.7686, std: 0.1499.\n"
          ]
        },
        {
          "output_type": "error",
          "ename": "NameError",
          "evalue": "ignored",
          "traceback": [
            "\u001b[0;31m---------------------------------------------------------------------------\u001b[0m",
            "\u001b[0;31mNameError\u001b[0m                                 Traceback (most recent call last)",
            "\u001b[0;32m<ipython-input-144-1ec3e3f08dec>\u001b[0m in \u001b[0;36m<module>\u001b[0;34m\u001b[0m\n\u001b[1;32m      8\u001b[0m     \u001b[0msc\u001b[0m\u001b[0;34m.\u001b[0m\u001b[0mappend\u001b[0m\u001b[0;34m(\u001b[0m\u001b[0mscores\u001b[0m\u001b[0;34m)\u001b[0m\u001b[0;34m\u001b[0m\u001b[0;34m\u001b[0m\u001b[0m\n\u001b[1;32m      9\u001b[0m \u001b[0;34m\u001b[0m\u001b[0m\n\u001b[0;32m---> 10\u001b[0;31m     data = [go.Scatter(\n\u001b[0m\u001b[1;32m     11\u001b[0m         \u001b[0mx\u001b[0m \u001b[0;34m=\u001b[0m \u001b[0mlist\u001b[0m\u001b[0;34m(\u001b[0m\u001b[0mrange\u001b[0m\u001b[0;34m(\u001b[0m\u001b[0;36m10\u001b[0m\u001b[0;34m,\u001b[0m \u001b[0;36m510\u001b[0m\u001b[0;34m,\u001b[0m \u001b[0;36m5\u001b[0m\u001b[0;34m)\u001b[0m\u001b[0;34m)\u001b[0m\u001b[0;34m,\u001b[0m\u001b[0;34m\u001b[0m\u001b[0;34m\u001b[0m\u001b[0m\n\u001b[1;32m     12\u001b[0m         \u001b[0my\u001b[0m \u001b[0;34m=\u001b[0m \u001b[0;34m[\u001b[0m\u001b[0mnp\u001b[0m\u001b[0;34m.\u001b[0m\u001b[0mround\u001b[0m\u001b[0;34m(\u001b[0m\u001b[0mnp\u001b[0m\u001b[0;34m.\u001b[0m\u001b[0mmean\u001b[0m\u001b[0;34m(\u001b[0m\u001b[0mi\u001b[0m\u001b[0;34m)\u001b[0m\u001b[0;34m,\u001b[0m \u001b[0;36m4\u001b[0m\u001b[0;34m)\u001b[0m \u001b[0;32mfor\u001b[0m \u001b[0mi\u001b[0m \u001b[0;32min\u001b[0m \u001b[0msc\u001b[0m\u001b[0;34m]\u001b[0m\u001b[0;34m,\u001b[0m\u001b[0;34m\u001b[0m\u001b[0;34m\u001b[0m\u001b[0m\n",
            "\u001b[0;31mNameError\u001b[0m: name 'go' is not defined"
          ]
        }
      ]
    },
    {
      "cell_type": "markdown",
      "source": [
        "\n",
        "\n",
        "Not suprisingly we overfit.\n"
      ],
      "metadata": {
        "id": "gOHcNNcMmRfu"
      }
    },
    {
      "cell_type": "code",
      "source": [
        "top_corr_cols = list(cor.abs().sort_values().tail(300).reset_index()['index'].values)\n",
        "X_train_poly1 = X_train_poly[:, top_corr_cols]\n",
        "X_test_poly1 = X_test_poly[:, top_corr_cols]\n",
        "\n",
        "model = linear_model.LogisticRegression(class_weight='balanced', penalty='l1', C=0.1, solver='liblinear')\n",
        "oof_lr_poly, prediction_lr_poly, scores = train_model(X_train_poly1, X_test_poly1, y_train, params=None, model_type='sklearn', model=model)\n"
      ],
      "metadata": {
        "id": "JK0WmWmBmS_2"
      },
      "execution_count": null,
      "outputs": []
    },
    {
      "cell_type": "code",
      "source": [
        "#submission = pd.read_csv('../input/sample_submission.csv')\n",
        "submission['target'] = prediction_lr_poly\n",
        "# submission.to_csv('submission_poly.csv', index=False)\n",
        "\n",
        "submission.head()\n",
        "\n"
      ],
      "metadata": {
        "id": "8DqmHvFomham"
      },
      "execution_count": null,
      "outputs": []
    },
    {
      "cell_type": "markdown",
      "source": [
        "\n",
        "\n",
        "Score became much lower. So this is also a bad idea\n"
      ],
      "metadata": {
        "id": "soynmVR3mjcc"
      }
    },
    {
      "cell_type": "markdown",
      "source": [
        "##### 8- Adding statistics\n"
      ],
      "metadata": {
        "id": "pWTjVOZPjjGC"
      }
    },
    {
      "cell_type": "code",
      "source": [
        "X_train = train.drop(['id', 'target'], axis=1)\n",
        "X_test = test.drop(['id'], axis=1)\n",
        "X_train['300'] = X_train.std(1)\n",
        "X_test['300'] = X_test.std(1)\n",
        "scaler = StandardScaler()\n",
        "X_train[X_train.columns[:-1]] = scaler.fit_transform(X_train[X_train.columns[:-1]])\n",
        "X_test[X_train.columns[:-1]] = scaler.transform(X_test[X_train.columns[:-1]])\n",
        "model = linear_model.LogisticRegression(class_weight='balanced', penalty='l1', C=0.1, solver='liblinear')\n",
        "oof_lr_1, prediction_lr_1, scores = train_model(X_train.values, X_test.values, y_train, params=None, model_type='sklearn', model=model)"
      ],
      "metadata": {
        "id": "0L3rLV2bmmJv"
      },
      "execution_count": null,
      "outputs": []
    },
    {
      "cell_type": "markdown",
      "source": [
        "\n",
        "\n",
        "Let's compare with repeated KFold.\n"
      ],
      "metadata": {
        "id": "yKMqdcUdmphD"
      }
    },
    {
      "cell_type": "code",
      "source": [
        "X_train = train.drop(['id', 'target'], axis=1)\n",
        "X_test = test.drop(['id'], axis=1)\n",
        "X_train['300'] = X_train.std(1)\n",
        "X_test['300'] = X_test.std(1)\n",
        "scaler = StandardScaler()\n",
        "X_train[X_train.columns[:-1]] = scaler.fit_transform(X_train[X_train.columns[:-1]])\n",
        "X_test[X_train.columns[:-1]] = scaler.transform(X_test[X_train.columns[:-1]])\n",
        "model = linear_model.LogisticRegression(class_weight='balanced', penalty='l1', C=0.1, solver='liblinear')\n",
        "oof_lr_1, prediction_lr_1_repeated, scores = train_model(X_train.values, X_test.values, y_train, params=None, model_type='sklearn', model=model, folds=repeated_folds)\n",
        "submission = pd.read_csv('../input/sample_submission.csv')\n",
        "submission['target'] = prediction_lr_1_repeated\n",
        "submission.to_csv('repeated_fold_features.csv', index=False)\n",
        "\n",
        "submission.head()"
      ],
      "metadata": {
        "id": "wzgX07aDmsG7"
      },
      "execution_count": null,
      "outputs": []
    },
    {
      "cell_type": "markdown",
      "source": [
        "\n",
        "\n",
        "CV increased a bit!\n"
      ],
      "metadata": {
        "id": "qLh-DtyLmuSM"
      }
    },
    {
      "cell_type": "markdown",
      "source": [
        "##### 9- Adding distance features\n"
      ],
      "metadata": {
        "id": "FbGiG7hGjmIz"
      }
    },
    {
      "cell_type": "code",
      "source": [
        "X_train = train.drop(['id', 'target'], axis=1)\n",
        "X_test = test.drop(['id'], axis=1)\n",
        "main_cols = X_train.columns.tolist()\n",
        "\n",
        "neigh = NearestNeighbors(5, n_jobs=-1)\n",
        "neigh.fit(X_train)\n",
        "\n",
        "dists, _ = neigh.kneighbors(X_train, n_neighbors=5)\n",
        "mean_dist = dists.mean(axis=1)\n",
        "max_dist = dists.max(axis=1)\n",
        "min_dist = dists.min(axis=1)\n",
        "\n",
        "X_train['300'] = X_train.std(1)\n",
        "X_train = np.hstack((X_train, mean_dist.reshape(-1, 1), max_dist.reshape(-1, 1), min_dist.reshape(-1, 1)))\n",
        "\n",
        "test_dists, _ = neigh.kneighbors(X_test, n_neighbors=5)\n",
        "\n",
        "test_mean_dist = test_dists.mean(axis=1)\n",
        "test_max_dist = test_dists.max(axis=1)\n",
        "test_min_dist = test_dists.min(axis=1)\n",
        "\n",
        "X_test['300'] = X_test.std(1)\n",
        "X_test = np.hstack((X_test, test_mean_dist.reshape(-1, 1), test_max_dist.reshape(-1, 1), test_min_dist.reshape(-1, 1)))\n",
        "\n",
        "model = linear_model.LogisticRegression(class_weight='balanced', penalty='l1', C=0.1, solver='liblinear')\n",
        "oof_lr_2, prediction_lr_2, scores = train_model(X_train, X_test, y_train, params=None, model_type='sklearn', model=model)\n",
        "submission['target'] = prediction_lr_2\n",
        "submission.to_csv('nn_features.csv', index=False)"
      ],
      "metadata": {
        "id": "1ZVjU74xmy2l"
      },
      "execution_count": null,
      "outputs": []
    },
    {
      "cell_type": "code",
      "source": [
        "#submission = pd.read_csv('../input/sample_submission.csv')\n",
        "submission['target'] = (prediction_lr_1 + prediction_lr_2) / 2\n",
        "# submission.to_csv('blend.csv', index=False)\n",
        "\n",
        "submission.head()"
      ],
      "metadata": {
        "id": "Bt5i_aiim5tZ"
      },
      "execution_count": null,
      "outputs": []
    },
    {
      "cell_type": "markdown",
      "source": [
        "##### 10- Sklearn feature selection\n",
        "\n",
        "Sklearn has several methods to do feature selection. Let's try some of them!"
      ],
      "metadata": {
        "id": "4UOhlx6Qjp-E"
      }
    },
    {
      "cell_type": "code",
      "source": [
        "# baseline score\n",
        "X_train = train.drop(['id', 'target'], axis=1)\n",
        "X_test = test.drop(['id'], axis=1)\n",
        "scaler = StandardScaler()\n",
        "X_train = scaler.fit_transform(X_train)\n",
        "X_test = scaler.transform(X_test)\n",
        "model = linear_model.LogisticRegression(class_weight='balanced', penalty='l1', C=0.1, solver='liblinear')\n",
        "oof_lr_1, prediction_lr_1, scores = train_model(X_train, X_test, y_train, params=None, model_type='sklearn', model=model)"
      ],
      "metadata": {
        "id": "f_CZEHXCm_T0"
      },
      "execution_count": null,
      "outputs": []
    },
    {
      "cell_type": "code",
      "source": [
        "scores_dict = {'f_classif': [], 'mutual_info_classif': []}\n",
        "for i in range(5, 100, 5):\n",
        "    s1 = SelectPercentile(f_classif, percentile=i)\n",
        "    X_train1 = s1.fit_transform(X_train, y_train.values.astype(int))\n",
        "    X_test1 = s1.transform(X_test)\n",
        "    oof_lr_1, prediction_lr_1, scores = train_model(X_train1, X_test1, y_train, params=None, model_type='sklearn', model=model)\n",
        "    scores_dict['f_classif'].append(np.mean(scores))\n",
        "    \n",
        "    s2 = SelectPercentile(mutual_info_classif, percentile=i)\n",
        "    X_train1 = s2.fit_transform(X_train, y_train.values.astype(int))\n",
        "    X_test1 = s2.transform(X_test)\n",
        "    oof_lr_1, prediction_lr_1, scores = train_model(X_train1, X_test1, y_train, params=None, model_type='sklearn', model=model)\n",
        "    scores_dict['mutual_info_classif'].append(np.mean(scores))"
      ],
      "metadata": {
        "id": "8LpMnvvJnFRm"
      },
      "execution_count": null,
      "outputs": []
    },
    {
      "cell_type": "code",
      "source": [
        "data = [go.Scatter(\n",
        "        x = list(range(5, 100, 5)),\n",
        "        y = scores_dict['f_classif'],\n",
        "        name = 'CV scores f_classif'\n",
        "    ), go.Scatter(\n",
        "        x = list(range(5, 100, 5)),\n",
        "        y = scores_dict['mutual_info_classif'],\n",
        "        name = 'CV scores mutual_info_classif')]\n",
        "layout = go.Layout(dict(title = \"Top N features by percentile vs CV\",\n",
        "                  xaxis = dict(title = 'Top N features by percentile'),\n",
        "                  yaxis = dict(title = 'CV score'),\n",
        "                  ))\n",
        "py.iplot(dict(data=data, layout=layout), filename='basic-line')"
      ],
      "metadata": {
        "id": "oWHFsb-TnLz9"
      },
      "execution_count": null,
      "outputs": []
    },
    {
      "cell_type": "code",
      "source": [
        "scores_dict = {'f_classif': [], 'mutual_info_classif': []}\n",
        "for i in range(10, 301, 10):\n",
        "    s1 = SelectKBest(f_classif, k=i)\n",
        "    X_train1 = s1.fit_transform(X_train, y_train.values.astype(int))\n",
        "    X_test1 = s1.transform(X_test)\n",
        "    oof_lr_1, prediction_lr_1, scores = train_model(X_train1, X_test1, y_train, params=None, model_type='sklearn', model=model)\n",
        "    scores_dict['f_classif'].append(np.mean(scores))\n",
        "    \n",
        "    s2 = SelectKBest(mutual_info_classif, k=i)\n",
        "    X_train1 = s2.fit_transform(X_train, y_train.values.astype(int))\n",
        "    X_test1 = s2.transform(X_test)\n",
        "    oof_lr_1, prediction_lr_1, scores = train_model(X_train1, X_test1, y_train, params=None, model_type='sklearn', model=model)\n",
        "    scores_dict['mutual_info_classif'].append(np.mean(scores))"
      ],
      "metadata": {
        "id": "_kJlnQZcnStc"
      },
      "execution_count": null,
      "outputs": []
    },
    {
      "cell_type": "code",
      "source": [
        "data = [go.Scatter(\n",
        "        x = list(range(10, 301, 10)),\n",
        "        y = scores_dict['f_classif'],\n",
        "        name = 'CV scores f_classif'\n",
        "    ), go.Scatter(\n",
        "        x = list(range(10, 301, 10)),\n",
        "        y = scores_dict['mutual_info_classif'],\n",
        "        name = 'CV scores mutual_info_classif')]\n",
        "layout = go.Layout(dict(title = \"Top N features by SelectKBest vs CV\",\n",
        "                  xaxis = dict(title = 'Top N features by SelectKBest'),\n",
        "                  yaxis = dict(title = 'CV score'),\n",
        "                  ))\n",
        "py.iplot(dict(data=data, layout=layout), filename='basic-line')\n",
        "\n"
      ],
      "metadata": {
        "id": "g8GKgobqnTkW"
      },
      "execution_count": null,
      "outputs": []
    },
    {
      "cell_type": "code",
      "source": [
        "selector = SelectKBest(f_classif, k=60)\n",
        "X_trainK = selector.fit_transform(X_train, y_train.values.astype(int))\n",
        "X_testK = selector.transform(X_test)\n",
        "oof_lr_1, prediction_lr_1, scores = train_model(X_trainK, X_testK, y_train, params=None, model_type='sklearn', model=model)"
      ],
      "metadata": {
        "id": "GztJst11nYaL"
      },
      "execution_count": null,
      "outputs": []
    },
    {
      "cell_type": "code",
      "source": [
        "#submission = pd.read_csv('../input/sample_submission.csv')\n",
        "submission['target'] = prediction_lr_1\n",
        "# submission.to_csv('top_n_features.csv', index=False)\n",
        "\n",
        "submission.head()"
      ],
      "metadata": {
        "id": "3umuacUcnaIo"
      },
      "execution_count": null,
      "outputs": []
    },
    {
      "cell_type": "code",
      "source": [
        "scores_list = []\n",
        "for i in range(10, 301, 5):\n",
        "    s = RFE(model, i, step=1)\n",
        "    X_train1 = s.fit_transform(X_train, y_train.values.astype(int))\n",
        "    X_test1 = s.transform(X_test)\n",
        "    oof_lr_1, prediction_lr_1, scores = train_model(X_train1, X_test1, y_train, params=None, model_type='sklearn', model=model)\n",
        "    scores_list.append(np.mean(scores))"
      ],
      "metadata": {
        "id": "X-OG4BXBndRi"
      },
      "execution_count": null,
      "outputs": []
    },
    {
      "cell_type": "code",
      "source": [
        "data = [go.Scatter(\n",
        "        x = list(range(10, 301, 5)),\n",
        "        y = scores_list,\n",
        "        name = 'CV scores RFE'\n",
        "    )]\n",
        "layout = go.Layout(dict(title = \"Top N features by RFE vs CV\",\n",
        "                  xaxis = dict(title = 'Top N features by RFE'),\n",
        "                  yaxis = dict(title = 'CV score'),\n",
        "                  ))\n",
        "py.iplot(dict(data=data, layout=layout), filename='basic-line')"
      ],
      "metadata": {
        "id": "ETdwFQKXngJz"
      },
      "execution_count": null,
      "outputs": []
    },
    {
      "cell_type": "code",
      "source": [
        "selector = RFE(model, 20, step=1)\n",
        "X_trainK = selector.fit_transform(X_train, y_train.values.astype(int))\n",
        "X_testK = selector.transform(X_test)\n",
        "oof_lr_1, prediction_lr_rfe_20, scores = train_model(X_trainK, X_testK, y_train, params=None, model_type='sklearn', model=model)"
      ],
      "metadata": {
        "id": "XKg9QBxPniRG"
      },
      "execution_count": null,
      "outputs": []
    },
    {
      "cell_type": "code",
      "source": [
        "submission = pd.read_csv('../input/sample_submission.csv')\n",
        "submission['target'] = prediction_lr_rfe_20\n",
        "submission.to_csv('rfe_20.csv', index=False)\n",
        "\n",
        "submission.head()"
      ],
      "metadata": {
        "id": "RV0XVkOinlCv"
      },
      "execution_count": null,
      "outputs": []
    },
    {
      "cell_type": "markdown",
      "source": [
        "##### 11- GLM\n"
      ],
      "metadata": {
        "id": "As1gta9hj6SO"
      }
    },
    {
      "cell_type": "code",
      "source": [
        "selector = SelectKBest(f_classif, k=15)\n",
        "X_trainK = selector.fit_transform(X_train, y_train.values.astype(int))\n",
        "X_testK = selector.transform(X_test)\n",
        "\n",
        "\n",
        "oof_glm, prediction_glm, scores = train_model(X_trainK, X_testK, y_train, params=None, model_type='glm')"
      ],
      "metadata": {
        "colab": {
          "base_uri": "https://localhost:8080/",
          "height": 201
        },
        "id": "LB0HBcERnnhs",
        "outputId": "ef7db51f-136e-4dd3-8d9f-7f4d42df202c"
      },
      "execution_count": 49,
      "outputs": [
        {
          "output_type": "error",
          "ename": "NameError",
          "evalue": "ignored",
          "traceback": [
            "\u001b[0;31m---------------------------------------------------------------------------\u001b[0m",
            "\u001b[0;31mNameError\u001b[0m                                 Traceback (most recent call last)",
            "\u001b[0;32m<ipython-input-49-962fa556b506>\u001b[0m in \u001b[0;36m<module>\u001b[0;34m\u001b[0m\n\u001b[0;32m----> 1\u001b[0;31m \u001b[0mselector\u001b[0m \u001b[0;34m=\u001b[0m \u001b[0mSelectKBest\u001b[0m\u001b[0;34m(\u001b[0m\u001b[0mf_classif\u001b[0m\u001b[0;34m,\u001b[0m \u001b[0mk\u001b[0m\u001b[0;34m=\u001b[0m\u001b[0;36m15\u001b[0m\u001b[0;34m)\u001b[0m\u001b[0;34m\u001b[0m\u001b[0;34m\u001b[0m\u001b[0m\n\u001b[0m\u001b[1;32m      2\u001b[0m \u001b[0mX_trainK\u001b[0m \u001b[0;34m=\u001b[0m \u001b[0mselector\u001b[0m\u001b[0;34m.\u001b[0m\u001b[0mfit_transform\u001b[0m\u001b[0;34m(\u001b[0m\u001b[0mX_train\u001b[0m\u001b[0;34m,\u001b[0m \u001b[0my_train\u001b[0m\u001b[0;34m.\u001b[0m\u001b[0mvalues\u001b[0m\u001b[0;34m.\u001b[0m\u001b[0mastype\u001b[0m\u001b[0;34m(\u001b[0m\u001b[0mint\u001b[0m\u001b[0;34m)\u001b[0m\u001b[0;34m)\u001b[0m\u001b[0;34m\u001b[0m\u001b[0;34m\u001b[0m\u001b[0m\n\u001b[1;32m      3\u001b[0m \u001b[0mX_testK\u001b[0m \u001b[0;34m=\u001b[0m \u001b[0mselector\u001b[0m\u001b[0;34m.\u001b[0m\u001b[0mtransform\u001b[0m\u001b[0;34m(\u001b[0m\u001b[0mX_test\u001b[0m\u001b[0;34m)\u001b[0m\u001b[0;34m\u001b[0m\u001b[0;34m\u001b[0m\u001b[0m\n",
            "\u001b[0;31mNameError\u001b[0m: name 'SelectKBest' is not defined"
          ]
        }
      ]
    },
    {
      "cell_type": "code",
      "source": [
        "#submission = pd.read_csv('../input/sample_submission.csv')\n",
        "submission['target'] = prediction_glm\n",
        "#submission.to_csv('glm.csv', index=False)\n",
        "submission.head()"
      ],
      "metadata": {
        "id": "2ueg8ux5nsoq"
      },
      "execution_count": null,
      "outputs": []
    },
    {
      "cell_type": "markdown",
      "source": [
        "##### 12- Selected top_features + statistics"
      ],
      "metadata": {
        "id": "DsUduJSVj9RV"
      }
    },
    {
      "cell_type": "code",
      "source": [
        "eli5_weights = eli5.formatters.as_dataframe.explain_weights_df(model)\n",
        "eli5_weights['weight'] = eli5_weights['weight'].abs()\n",
        "eli5_weights = eli5_weights.sort_values('weight', ascending=False)\n",
        "\n",
        "\n",
        "train['mean'] = train.mean(1)\n",
        "train['std'] = train.std(1)\n",
        "test['mean'] = test.mean(1)\n",
        "test['std'] = test.std(1)\n",
        "\n",
        "scores_dict = {'simple': [], 'with_std': [], 'with_mean': []}\n",
        "for i in range(1, eli5_weights.shape[0] + 1):\n",
        "    top_features = [i[1:] for i in eli5_weights.feature if 'BIAS' not in i][:i]\n",
        "    \n",
        "    X_train = train[top_features]\n",
        "    X_test = test[top_features]\n",
        "    scaler = StandardScaler()\n",
        "    X_train = scaler.fit_transform(X_train)\n",
        "    X_test = scaler.transform(X_test)\n",
        "    oof_lr, prediction_lr, scores = train_model(X_train, X_test, y_train, params=None, model_type='sklearn', model=model)\n",
        "    scores_dict['simple'].append(np.mean(scores))\n",
        "    \n",
        "    X_train = train[top_features + ['mean']]\n",
        "    X_test = test[top_features + ['mean']]\n",
        "    scaler = StandardScaler()\n",
        "    X_train[X_train.columns[:-1]] = scaler.fit_transform(X_train[X_train.columns[:-1]])\n",
        "    X_test[X_train.columns[:-1]] = scaler.transform(X_test[X_train.columns[:-1]])\n",
        "    oof_lr, prediction_lr, scores = train_model(X_train.values, X_test.values, y_train, params=None, model_type='sklearn', model=model)\n",
        "    scores_dict['with_mean'].append(np.mean(scores))\n",
        "    \n",
        "    X_train = train[top_features + ['std']]\n",
        "    X_test = test[top_features + ['std']]\n",
        "    scaler = StandardScaler()\n",
        "    X_train[X_train.columns[:-1]] = scaler.fit_transform(X_train[X_train.columns[:-1]])\n",
        "    X_test[X_train.columns[:-1]] = scaler.transform(X_test[X_train.columns[:-1]])\n",
        "    oof_lr, prediction_lr, scores = train_model(X_train.values, X_test.values, y_train, params=None, model_type='sklearn', model=model)\n",
        "    scores_dict['with_std'].append(np.mean(scores))\n",
        "\n",
        "    data = [go.Scatter(\n",
        "        x = list(range(1, eli5_weights.shape[0] + 1)),\n",
        "        y = scores_dict['simple'],\n",
        "        name = 'Simple CV scores'\n",
        "    ), go.Scatter(\n",
        "        x = list(range(1, eli5_weights.shape[0] + 1)),\n",
        "        y = scores_dict['with_mean'],\n",
        "        name = 'With mean CV scores'\n",
        "    ), go.Scatter(\n",
        "        x = list(range(1, eli5_weights.shape[0] + 1)),\n",
        "        y = scores_dict['with_std'],\n",
        "        name = 'With std CV scores'\n",
        "    )]\n",
        "layout = go.Layout(dict(title = \"Top N features vs CV\",\n",
        "                  xaxis = dict(title = 'Top N features'),\n",
        "                  yaxis = dict(title = 'CV score'),\n",
        "                  ))\n",
        "py.iplot(dict(data=data, layout=layout), filename='basic-line')"
      ],
      "metadata": {
        "id": "4F5D2ojGnuyP"
      },
      "execution_count": null,
      "outputs": []
    },
    {
      "cell_type": "code",
      "source": [
        "train['mean'] = train.mean(1)\n",
        "train['std'] = train.std(1)\n",
        "test['mean'] = test.mean(1)\n",
        "test['std'] = test.std(1)\n",
        "\n",
        "scores_dict = {'simple': [], 'with_std': [], 'with_mean': []}\n",
        "for i in range(1, eli5_weights.shape[0] + 1):\n",
        "    top_features = [i[1:] for i in eli5_weights.feature if 'BIAS' not in i][:i]\n",
        "    \n",
        "    X_train = train[top_features]\n",
        "    X_test = test[top_features]\n",
        "    scaler = StandardScaler()\n",
        "    X_train = scaler.fit_transform(X_train)\n",
        "    X_test = scaler.transform(X_test)\n",
        "    oof_lr, prediction_lr, scores = train_model(X_train, X_test, y_train, params=None, model_type='sklearn', model=model, folds=repeated_folds)\n",
        "    scores_dict['simple'].append(np.mean(scores))\n",
        "    \n",
        "    X_train = train[top_features + ['mean']]\n",
        "    X_test = test[top_features + ['mean']]\n",
        "    scaler = StandardScaler()\n",
        "    X_train[X_train.columns[:-1]] = scaler.fit_transform(X_train[X_train.columns[:-1]])\n",
        "    X_test[X_train.columns[:-1]] = scaler.transform(X_test[X_train.columns[:-1]])\n",
        "    oof_lr, prediction_lr, scores = train_model(X_train.values, X_test.values, y_train, params=None, model_type='sklearn', model=model, folds=repeated_folds)\n",
        "    scores_dict['with_mean'].append(np.mean(scores))\n",
        "    \n",
        "    X_train = train[top_features + ['std']]\n",
        "    X_test = test[top_features + ['std']]\n",
        "    scaler = StandardScaler()\n",
        "    X_train[X_train.columns[:-1]] = scaler.fit_transform(X_train[X_train.columns[:-1]])\n",
        "    X_test[X_train.columns[:-1]] = scaler.transform(X_test[X_train.columns[:-1]])\n",
        "    oof_lr, prediction_lr, scores = train_model(X_train.values, X_test.values, y_train, params=None, model_type='sklearn', model=model, folds=repeated_folds)\n",
        "    scores_dict['with_std'].append(np.mean(scores))\n",
        "\n",
        "data = [go.Scatter(\n",
        "    x = list(range(1, eli5_weights.shape[0] + 1)),\n",
        "    y = scores_dict['simple'],\n",
        "    name = 'Simple CV scores'\n",
        "), go.Scatter(\n",
        "    x = list(range(1, eli5_weights.shape[0] + 1)),\n",
        "    y = scores_dict['with_mean'],\n",
        "    name = 'With mean CV scores'\n",
        "), go.Scatter(\n",
        "    x = list(range(1, eli5_weights.shape[0] + 1)),\n",
        "    y = scores_dict['with_std'],\n",
        "    name = 'With std CV scores'\n",
        ")]\n",
        "layout = go.Layout(dict(title = \"Top N features vs repeated folds CV\",\n",
        "                xaxis = dict(title = 'Top N features'),\n",
        "                yaxis = dict(title = 'CV score'),\n",
        "                ))\n",
        "py.iplot(dict(data=data, layout=layout), filename='basic-line')\n",
        "\n"
      ],
      "metadata": {
        "id": "AdmhjZybn63D"
      },
      "execution_count": null,
      "outputs": []
    },
    {
      "cell_type": "code",
      "source": [
        "top_features = [i[1:] for i in eli5_weights.feature if 'BIAS' not in i][:8]\n",
        "\n",
        "X_train = train[top_features + ['mean']]\n",
        "X_test = test[top_features + ['mean']]\n",
        "scaler = StandardScaler()\n",
        "X_train[X_train.columns[:-1]] = scaler.fit_transform(X_train[X_train.columns[:-1]])\n",
        "X_test[X_train.columns[:-1]] = scaler.transform(X_test[X_train.columns[:-1]])\n",
        "oof_lr, prediction_lr, scores = train_model(X_train.values, X_test.values, y_train, params=None, model_type='sklearn', model=model, folds=repeated_folds)\n",
        "\n",
        "#submission = pd.read_csv('../input/sample_submission.csv')\n",
        "submission['target'] = prediction_lr\n",
        "#submission.to_csv('submission_top8.csv', index=False)\n",
        "\n",
        "submission.head()"
      ],
      "metadata": {
        "id": "jHIEIivOoBCA"
      },
      "execution_count": null,
      "outputs": []
    },
    {
      "cell_type": "code",
      "source": [
        "top_features = [i[1:] for i in eli5_weights.feature if 'BIAS' not in i][:10]\n",
        "\n",
        "X_train = train[top_features + ['mean']]\n",
        "X_test = test[top_features + ['mean']]\n",
        "scaler = StandardScaler()\n",
        "X_train[X_train.columns[:-1]] = scaler.fit_transform(X_train[X_train.columns[:-1]])\n",
        "X_test[X_train.columns[:-1]] = scaler.transform(X_test[X_train.columns[:-1]])\n",
        "oof_lr, prediction_lr, scores = train_model(X_train.values, X_test.values, y_train, params=None, model_type='sklearn', model=model, folds=repeated_folds)\n",
        "\n",
        "#submission = pd.read_csv('../input/sample_submission.csv')\n",
        "submission['target'] = prediction_lr\n",
        "#submission.to_csv('submission_top10.csv', index=False)\n",
        "submission.head()"
      ],
      "metadata": {
        "id": "SHTi19hAoG3k"
      },
      "execution_count": null,
      "outputs": []
    }
  ]
}