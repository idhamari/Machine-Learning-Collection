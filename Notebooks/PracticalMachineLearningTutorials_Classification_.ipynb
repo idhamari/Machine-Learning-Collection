{
  "nbformat": 4,
  "nbformat_minor": 0,
  "metadata": {
    "colab": {
      "provenance": [],
      "toc_visible": true
    },
    "kernelspec": {
      "name": "python3",
      "display_name": "Python 3"
    },
    "language_info": {
      "name": "python"
    }
  },
  "cells": [
    {
      "cell_type": "markdown",
      "source": [
        "# PracticalMachineLearningTutorials: 01 Classification \n",
        "\n",
        "\n",
        "\n",
        "\n",
        "\n",
        "\n",
        "\n",
        "\n"
      ],
      "metadata": {
        "id": "h1Ux8zlrghxF"
      }
    },
    {
      "cell_type": "markdown",
      "source": [
        "## What is classification task?\n",
        "\n"
      ],
      "metadata": {
        "id": "xVJq--KQhI-G"
      }
    },
    {
      "cell_type": "markdown",
      "source": [
        "## Understanding classification terms"
      ],
      "metadata": {
        "id": "j1xZUlBeiiMh"
      }
    },
    {
      "cell_type": "markdown",
      "source": [
        "## Challenges\n",
        "\n"
      ],
      "metadata": {
        "id": "Hic7t8Glil4A"
      }
    },
    {
      "cell_type": "markdown",
      "source": [
        "### Imbalance classes\n"
      ],
      "metadata": {
        "id": "5x7SE2Sli06S"
      }
    },
    {
      "cell_type": "markdown",
      "source": [
        "### Null values\n"
      ],
      "metadata": {
        "id": "JU-Kxphii2XC"
      }
    },
    {
      "cell_type": "markdown",
      "source": [
        "### Data types"
      ],
      "metadata": {
        "id": "QFoGLnhci3yF"
      }
    },
    {
      "cell_type": "markdown",
      "source": [
        "### Small dataset size\n",
        "\n",
        "ref:\n",
        "https://www.kaggle.com/code/rafjaa/dealing-with-very-small-datasets/notebook\n"
      ],
      "metadata": {
        "id": "O7zuZoMCjA9Z"
      }
    },
    {
      "cell_type": "markdown",
      "source": [
        "## Data Preprocessing \n",
        "\n"
      ],
      "metadata": {
        "id": "F8n7qmZ_hK8v"
      }
    },
    {
      "cell_type": "markdown",
      "source": [
        "### Normalisation\n",
        "\n"
      ],
      "metadata": {
        "id": "KXaOdqbrhM9B"
      }
    },
    {
      "cell_type": "markdown",
      "source": [
        "### Standarization"
      ],
      "metadata": {
        "id": "mk34IuzvhOl7"
      }
    },
    {
      "cell_type": "markdown",
      "source": [
        "## Popular Classification Algorithms"
      ],
      "metadata": {
        "id": "9P1U9A38hx4t"
      }
    },
    {
      "cell_type": "markdown",
      "source": [
        "### KNN"
      ],
      "metadata": {
        "id": "hwRmJO1Dh2qd"
      }
    },
    {
      "cell_type": "markdown",
      "source": [
        "### Naive Basian"
      ],
      "metadata": {
        "id": "lJSv5xArh6u5"
      }
    },
    {
      "cell_type": "markdown",
      "source": [
        "### SVM"
      ],
      "metadata": {
        "id": "ssqNjQnJh8t1"
      }
    },
    {
      "cell_type": "markdown",
      "source": [
        "### Randome forests"
      ],
      "metadata": {
        "id": "AeKCfxyQiC1M"
      }
    },
    {
      "cell_type": "markdown",
      "source": [
        "Linear Regression"
      ],
      "metadata": {
        "id": "m61URa7Vh-jb"
      }
    },
    {
      "cell_type": "markdown",
      "source": [
        "## Practical Examples"
      ],
      "metadata": {
        "id": "iAD_AQtAhWqw"
      }
    },
    {
      "cell_type": "markdown",
      "source": [],
      "metadata": {
        "id": "35wUctYBIcgs"
      }
    },
    {
      "cell_type": "markdown",
      "source": [
        "### Iris classification"
      ],
      "metadata": {
        "id": "3513COOoha8t"
      }
    },
    {
      "cell_type": "code",
      "source": [
        "# read the dataset\n",
        "# preprocessing\n",
        "# plotting\n",
        "# classification using different classification methods \n",
        "\n"
      ],
      "metadata": {
        "id": "MGY3TUYmiTXh"
      },
      "execution_count": null,
      "outputs": []
    },
    {
      "cell_type": "markdown",
      "source": [
        "### Hand writing Digits classification"
      ],
      "metadata": {
        "id": "JLp3lruaheHS"
      }
    },
    {
      "cell_type": "code",
      "execution_count": null,
      "metadata": {
        "id": "-vMnz5wNgXma"
      },
      "outputs": [],
      "source": []
    },
    {
      "cell_type": "markdown",
      "source": [
        "### Small dataset\n",
        "\n",
        "ref: https://www.kaggle.com/code/rafjaa/dealing-with-very-small-datasets/notebook\n",
        "\n",
        "![](https://raw.githubusercontent.com/rafjaa/curso-mineracao-de-dados-aplicada/master/img/kernel_overfitting/creativity.jpg)\n"
      ],
      "metadata": {
        "id": "KC8xx10_eexQ"
      }
    },
    {
      "cell_type": "code",
      "source": [
        "# loading sample dataset from the \"don't overfit it\" challenge\n",
        "import warnings\n",
        "warnings.filterwarnings('ignore')\n",
        "\n",
        "import numpy as np\n",
        "import pandas as pd\n",
        "import matplotlib.pyplot as plt\n",
        "\n",
        "\n",
        "doDownload = 0\n",
        "\n",
        "if doDownload:\n",
        "   trainOnlinePath = 'https://raw.githubusercontent.com/idhamari/Machine-Learning-Collection/master/data/smallSatasetChallenge/train.csv'  # '../input/train.csv'\n",
        "   testOnlinePath  = 'https://github.com/idhamari/Machine-Learning-Collection/raw/master/data/smallSatasetChallenge/test.csv' # '../input/test.csv'\n",
        "   !wget $trainOnlinePath\n",
        "   !wget $testOnlinePath\n",
        "   !ls \n",
        "\n",
        "trainPath = 'train.csv'\n",
        "testPath  ='test.csv'\n",
        "\n",
        "train = pd.read_csv(trainPath)\n",
        "test = pd.read_csv(testPath)\n",
        "\n",
        "\n",
        "labels = train.columns.drop(['id', 'target'])\n",
        "target = train['target']\n",
        "\n",
        "print('Train rows:', train.shape[0])\n",
        "print('Test rows:', test.shape[0])\n",
        "print('Data columns:', test.columns.drop(['id']).shape[0])\n",
        "\n",
        "\n",
        "d_names = ('train.csv', 'test.csv')\n",
        "y_pos = range(len(d_names))\n",
        " \n",
        "plt.bar(\n",
        "    y_pos, \n",
        "    (train.shape[0], test.shape[0]), \n",
        "    align='center', \n",
        "    alpha=0.8\n",
        ")\n",
        "plt.xticks(y_pos, d_names)\n",
        "plt.ylabel('Number of rows') \n",
        "plt.title('😱 Wow!')\n",
        "plt.show()"
      ],
      "metadata": {
        "colab": {
          "base_uri": "https://localhost:8080/",
          "height": 333
        },
        "id": "34F-uNZReuHa",
        "outputId": "6450da16-2c9f-481c-def0-051aebae6ae3"
      },
      "execution_count": 10,
      "outputs": [
        {
          "output_type": "stream",
          "name": "stdout",
          "text": [
            "Train rows: 250\n",
            "Test rows: 19750\n",
            "Data columns: 300\n"
          ]
        },
        {
          "output_type": "display_data",
          "data": {
            "text/plain": [
              "<Figure size 432x288 with 1 Axes>"
            ],
            "image/png": "[encoded data removed]"
          },
          "metadata": {
            "needs_background": "light"
          }
        }
      ]
    },
    {
      "cell_type": "markdown",
      "source": [
        "**1. Why small datasets lead to overfitting?**\n",
        "\n",
        "The goal of a machine learning model is to generalize patterns in training data so that you can correctly predict new data that has never been presented to the model. Overfitting occurs when a model adjusts excessively to the training data, seeing patterns that do not exist, and consequently performing poorly in predicting new data:\n",
        "![](https://raw.githubusercontent.com/rafjaa/curso-mineracao-de-dados-aplicada/master/img/kernel_overfitting/under_over.png)\n",
        "\n",
        "The fewer samples for training, the more models can fit our data. In an extreme example (a), for just one training point, any model will be able to \"explain\" it, however simple or complex the model may be. As we get to have more samples (b, c), fewer models are able to explain them:\n",
        "![](https://raw.githubusercontent.com/rafjaa/curso-mineracao-de-dados-aplicada/master/img/kernel_overfitting/few_samples.png)\n",
        "\n",
        "That way, for a dataset with only 250 samples, we need to be very careful not to be fooled by overfitting. In this kernel we will see some tips that can help.\n",
        "\n",
        "![](https://raw.githubusercontent.com/rafjaa/curso-mineracao-de-dados-aplicada/master/img/kernel_overfitting/meme1.jpeg)\n",
        "\n",
        "\n",
        "\n",
        "**2. Use simple models**\n",
        "\n",
        "As we saw, few samples allow several models to \"explain\" the data. By thinking graphically, complex models can make crazy curves that will almost perfectly explain the training data, but possibly will perform poorly over the test data.\n",
        "\n",
        "![](https://raw.githubusercontent.com/rafjaa/curso-mineracao-de-dados-aplicada/master/img/kernel_overfitting/overfitting_curve.png)\n",
        "\n",
        "Avoid complex models with many parameters, thus limiting their generalization and possibility of overfitting. Regularization techniques like L1 and L2 also help make the models more conservative. For tree-based models, reducing their maximum depth also limits the model's ability to see patterns and non-existent relationships.\n",
        "\n",
        "A good model to get started is Logistic Regression, a linear model used when the dependent variable (target) is categorical (classification tasks).\n",
        "\n",
        "![](https://raw.githubusercontent.com/rafjaa/curso-mineracao-de-dados-aplicada/master/img/kernel_overfitting/logisticregression.png)\n",
        "\n",
        "In this model, we can control the regularization by means of the penalty and C parameters (inverse of regularization strength - smaller values specify stronger regularization) to deal with the overfitting:\n",
        "\n",
        "\n"
      ],
      "metadata": {
        "id": "LgO2OAZvfwRS"
      }
    },
    {
      "cell_type": "code",
      "source": [
        "from sklearn.linear_model import LogisticRegression\n",
        "\n",
        "# solver : {'newton-cg', 'lbfgs', 'liblinear', 'sag', 'saga'}, default='lbfgs'\n",
        "#              l2           l2       l1          l2     l1\n",
        "m = LogisticRegression(\n",
        "    penalty='l2',\n",
        "    C=0.1,\n",
        "    solver='lbfgs'\n",
        ")\n",
        "m.fit(train[labels], target)\n",
        "m.predict_proba(test[labels])[:,1]"
      ],
      "metadata": {
        "colab": {
          "base_uri": "https://localhost:8080/"
        },
        "id": "aOUf7I61gw-g",
        "outputId": "6df02a0c-66a9-4b63-a60d-0dca241036ea"
      },
      "execution_count": 16,
      "outputs": [
        {
          "output_type": "execute_result",
          "data": {
            "text/plain": [
              "array([0.37569505, 0.19269256, 0.24930421, ..., 0.05016289, 0.3254641 ,\n",
              "       0.05142595])"
            ]
          },
          "metadata": {},
          "execution_count": 16
        }
      ]
    },
    {
      "cell_type": "markdown",
      "source": [
        "\n",
        "\n",
        "For tree-based models like XGBoost, we can control the overfitting by tuning a series of parameters:\n",
        "\n",
        "- Restricting the maximum depth of trees via max_depth (low values)\n",
        "- Making the model more conservative via gamma and eta (high values)\n",
        "- L1 and L2 regularization via reg_alpha and reg_lambda (high values)\n",
        "\n"
      ],
      "metadata": {
        "id": "KRA5pMCdg1NR"
      }
    },
    {
      "cell_type": "code",
      "source": [
        "from xgboost import XGBClassifier\n",
        "\n",
        "m = XGBClassifier(\n",
        "    max_depth=2,\n",
        "    gamma=2,\n",
        "    eta=0.8,\n",
        "    reg_alpha=0.5,\n",
        "    reg_lambda=0.5\n",
        ")\n",
        "m.fit(train[labels], target)\n",
        "m.predict_proba(test[labels])[:,1]"
      ],
      "metadata": {
        "colab": {
          "base_uri": "https://localhost:8080/"
        },
        "id": "Qnr0yI73g5f5",
        "outputId": "fbd358b9-71d6-4126-f147-db98bc681a16"
      },
      "execution_count": 17,
      "outputs": [
        {
          "output_type": "execute_result",
          "data": {
            "text/plain": [
              "array([0.39996257, 0.20492844, 0.34088698, ..., 0.4616707 , 0.23781009,\n",
              "       0.14750539], dtype=float32)"
            ]
          },
          "metadata": {},
          "execution_count": 17
        }
      ]
    },
    {
      "cell_type": "markdown",
      "source": [
        "Note that because it is a nonlinear model with several parameters, it tends to be more prone to overfitting than a simple linear model such as logistic regression.\n",
        "\n",
        "\n",
        "**3. Beware the outliers**\n",
        "\n",
        "Outliers are extreme values that fall a long way outside of the other observations. In a small dataset, the impact of an outlier can be much greater, since it will have a heavy weight for the model:\n",
        "\n",
        "![](https://raw.githubusercontent.com/rafjaa/curso-mineracao-de-dados-aplicada/master/img/kernel_overfitting/outlier.png)\n",
        "\n",
        "The scikit-learn library has several implementations of outliers detection techniques:\n",
        "![](https://raw.githubusercontent.com/rafjaa/curso-mineracao-de-dados-aplicada/master/img/kernel_overfitting/outl_detection.png)\n",
        "\n",
        "Let's do an experiment with the IsolationForest technique, which uses random forests for efficient detection of outliers in high-dimensional datasets. From scikit-learn documentation:\n",
        "\n",
        " - The IsolationForest ‘isolates’ observations by randomly selecting a feature and then randomly selecting a split value between the maximum and minimum values of the selected feature.\n",
        " - Since recursive partitioning can be represented by a tree structure, the number of splittings required to isolate a sample is equivalent to the path length from the root node to the terminating node.\n",
        " - This path length, averaged over a forest of such random trees, is a measure of normality and our decision function.\n",
        "\n",
        "    \n",
        "\n",
        "![](https://raw.githubusercontent.com/rafjaa/curso-mineracao-de-dados-aplicada/master/img/kernel_overfitting/isolation_forest.jpg)\n",
        "\n",
        "Let's score each sample of our dataset using a isolation forest (the lower, the more abnormal):\n"
      ],
      "metadata": {
        "id": "_UNZxy0Wg6Gy"
      }
    },
    {
      "cell_type": "code",
      "source": [
        "from sklearn.ensemble import IsolationForest\n",
        "\n",
        "isf = IsolationForest(n_jobs=-1, random_state=1)\n",
        "isf.fit(train[labels], train['target'])\n",
        "\n",
        "print(isf.score_samples(train[labels]))"
      ],
      "metadata": {
        "colab": {
          "base_uri": "https://localhost:8080/"
        },
        "id": "aPLXPdNdhfAz",
        "outputId": "aa1ec73f-331f-4296-acb4-6d462d1ae0a8"
      },
      "execution_count": 18,
      "outputs": [
        {
          "output_type": "stream",
          "name": "stdout",
          "text": [
            "[-0.43680124 -0.43000732 -0.43254876 -0.41989924 -0.4323624  -0.46154137\n",
            " -0.43064631 -0.45052419 -0.42044872 -0.41818347 -0.45155707 -0.44475051\n",
            " -0.44241249 -0.43779703 -0.42792058 -0.43949135 -0.42666847 -0.42845324\n",
            " -0.44525731 -0.42209054 -0.43917058 -0.41660864 -0.44007968 -0.44144129\n",
            " -0.4248918  -0.41113211 -0.42068904 -0.41988125 -0.42954602 -0.44939167\n",
            " -0.42304088 -0.45056448 -0.42472424 -0.43690022 -0.42532448 -0.41867564\n",
            " -0.43482292 -0.43180239 -0.42490525 -0.44511389 -0.40899925 -0.43398378\n",
            " -0.42389368 -0.42972219 -0.45249146 -0.45579047 -0.45375827 -0.4192045\n",
            " -0.41139404 -0.44424449 -0.41260788 -0.44232544 -0.42164557 -0.41717293\n",
            " -0.45557923 -0.41146096 -0.43353237 -0.44336536 -0.41957751 -0.42894826\n",
            " -0.42048146 -0.44152081 -0.448542   -0.44852121 -0.42683597 -0.43392423\n",
            " -0.42401943 -0.43904181 -0.43704031 -0.41695767 -0.42843938 -0.4424748\n",
            " -0.43813204 -0.43298134 -0.42459308 -0.42828847 -0.42240607 -0.44536798\n",
            " -0.43718142 -0.43842785 -0.43326981 -0.45502101 -0.4391838  -0.41806662\n",
            " -0.41474249 -0.45129755 -0.44676083 -0.42854531 -0.41140332 -0.44220766\n",
            " -0.44271772 -0.43897059 -0.42613887 -0.43375866 -0.43966242 -0.43860061\n",
            " -0.44216017 -0.44285155 -0.42250691 -0.42727342 -0.41497721 -0.46534097\n",
            " -0.43926376 -0.41173571 -0.42116509 -0.43420512 -0.42738528 -0.44278911\n",
            " -0.43879332 -0.4320502  -0.43974922 -0.44504321 -0.43605443 -0.43349556\n",
            " -0.42717206 -0.44538754 -0.43972657 -0.44029673 -0.45683462 -0.42874996\n",
            " -0.42685261 -0.43140967 -0.43389552 -0.44910967 -0.4056932  -0.43651446\n",
            " -0.41950232 -0.43398791 -0.4160253  -0.42817654 -0.40952659 -0.43396753\n",
            " -0.433764   -0.44646288 -0.42763711 -0.40945173 -0.43917977 -0.44471999\n",
            " -0.43390502 -0.43151996 -0.43383255 -0.42336166 -0.41671473 -0.45095728\n",
            " -0.4303378  -0.44080286 -0.42908557 -0.40620105 -0.44599544 -0.41754258\n",
            " -0.41958629 -0.42097473 -0.43599569 -0.42840606 -0.44839542 -0.42618909\n",
            " -0.45955676 -0.43362497 -0.43740144 -0.44194    -0.44009704 -0.45258169\n",
            " -0.42372436 -0.44737212 -0.43534762 -0.44707546 -0.41182279 -0.42244377\n",
            " -0.42531214 -0.41893263 -0.42973119 -0.43863956 -0.4195789  -0.42370422\n",
            " -0.44103837 -0.43735749 -0.43187685 -0.43667505 -0.44399114 -0.44233254\n",
            " -0.42323044 -0.43438011 -0.41989761 -0.43266301 -0.44219632 -0.43368518\n",
            " -0.42116389 -0.4306437  -0.43516782 -0.43325545 -0.42948936 -0.43203814\n",
            " -0.42886566 -0.4109664  -0.4408626  -0.43674965 -0.43939858 -0.43649522\n",
            " -0.44525584 -0.42322914 -0.41959358 -0.41524892 -0.43689612 -0.43173653\n",
            " -0.44307375 -0.42201659 -0.43578371 -0.43233858 -0.42774784 -0.43610116\n",
            " -0.44481236 -0.42946362 -0.44577968 -0.41637546 -0.43900041 -0.42215157\n",
            " -0.43448252 -0.42917444 -0.43943463 -0.42496064 -0.42874274 -0.44608125\n",
            " -0.45113411 -0.43176807 -0.43470894 -0.43292931 -0.42282091 -0.43604872\n",
            " -0.45073021 -0.44205662 -0.41479766 -0.43399455 -0.42672435 -0.42159368\n",
            " -0.4404042  -0.43771019 -0.41418737 -0.43772314 -0.41872023 -0.42381935\n",
            " -0.42098261 -0.4174135  -0.43683068 -0.43513069 -0.41080537 -0.44569336\n",
            " -0.41639142 -0.44129143 -0.43943749 -0.43340362]\n"
          ]
        }
      ]
    },
    {
      "cell_type": "markdown",
      "source": [
        "\n",
        "\n",
        "Now, let's predict the outliers (1 for inliers, -1 for outliers):\n"
      ],
      "metadata": {
        "id": "fzIYGeXyhhxq"
      }
    },
    {
      "cell_type": "code",
      "source": [
        "isf.predict(train[labels])"
      ],
      "metadata": {
        "colab": {
          "base_uri": "https://localhost:8080/"
        },
        "id": "7HcWK61Mhj07",
        "outputId": "7b7a350b-d8d3-46a9-b54e-8f7dad0019b8"
      },
      "execution_count": 19,
      "outputs": [
        {
          "output_type": "execute_result",
          "data": {
            "text/plain": [
              "array([1, 1, 1, 1, 1, 1, 1, 1, 1, 1, 1, 1, 1, 1, 1, 1, 1, 1, 1, 1, 1, 1,\n",
              "       1, 1, 1, 1, 1, 1, 1, 1, 1, 1, 1, 1, 1, 1, 1, 1, 1, 1, 1, 1, 1, 1,\n",
              "       1, 1, 1, 1, 1, 1, 1, 1, 1, 1, 1, 1, 1, 1, 1, 1, 1, 1, 1, 1, 1, 1,\n",
              "       1, 1, 1, 1, 1, 1, 1, 1, 1, 1, 1, 1, 1, 1, 1, 1, 1, 1, 1, 1, 1, 1,\n",
              "       1, 1, 1, 1, 1, 1, 1, 1, 1, 1, 1, 1, 1, 1, 1, 1, 1, 1, 1, 1, 1, 1,\n",
              "       1, 1, 1, 1, 1, 1, 1, 1, 1, 1, 1, 1, 1, 1, 1, 1, 1, 1, 1, 1, 1, 1,\n",
              "       1, 1, 1, 1, 1, 1, 1, 1, 1, 1, 1, 1, 1, 1, 1, 1, 1, 1, 1, 1, 1, 1,\n",
              "       1, 1, 1, 1, 1, 1, 1, 1, 1, 1, 1, 1, 1, 1, 1, 1, 1, 1, 1, 1, 1, 1,\n",
              "       1, 1, 1, 1, 1, 1, 1, 1, 1, 1, 1, 1, 1, 1, 1, 1, 1, 1, 1, 1, 1, 1,\n",
              "       1, 1, 1, 1, 1, 1, 1, 1, 1, 1, 1, 1, 1, 1, 1, 1, 1, 1, 1, 1, 1, 1,\n",
              "       1, 1, 1, 1, 1, 1, 1, 1, 1, 1, 1, 1, 1, 1, 1, 1, 1, 1, 1, 1, 1, 1,\n",
              "       1, 1, 1, 1, 1, 1, 1, 1])"
            ]
          },
          "metadata": {},
          "execution_count": 19
        }
      ]
    },
    {
      "cell_type": "markdown",
      "source": [
        "/opt/conda/lib/python3.6/site-packages/sklearn/ensemble/iforest.py:417: DeprecationWarning: threshold_ attribute is deprecated in 0.20 and will be removed in 0.22.\n",
        "  \" be removed in 0.22.\", DeprecationWarning)"
      ],
      "metadata": {
        "id": "vL0HwzYQhkgP"
      }
    },
    {
      "cell_type": "markdown",
      "source": [
        "\n",
        "\n",
        "Beware, with few samples, it becomes a challenge to adjust the algorithms to correctly identify the outliers.\n",
        "\n",
        "**4. Select the features**\n",
        " \n",
        "While removing outliers consists of deleting rows from the dataset, feature selection consists of deleting columns that do not contribute to the prediction. There is a wide variety of methods, such as analysis of its correlation with the target, importance analysis and recursive elimination.\n",
        "\n",
        "Let's see an example of how to identify the most relevant features for classification using a tree model:\n"
      ],
      "metadata": {
        "id": "zwv6HKIWhshl"
      }
    },
    {
      "cell_type": "code",
      "source": [
        "from sklearn.ensemble import ExtraTreesClassifier\n",
        "\n",
        "TOP_FEATURES = 15\n",
        "\n",
        "forest = ExtraTreesClassifier(n_estimators=250, max_depth=5, random_state=1)\n",
        "forest.fit(train[labels], train['target'])\n",
        "\n",
        "importances = forest.feature_importances_\n",
        "std = np.std(\n",
        "    [tree.feature_importances_ for tree in forest.estimators_],\n",
        "    axis=0\n",
        ")\n",
        "indices = np.argsort(importances)[::-1]\n",
        "indices = indices[:TOP_FEATURES]\n",
        "\n",
        "print('Top features:')\n",
        "for f in range(TOP_FEATURES):\n",
        "    print('%d. feature %d (%f)' % (f + 1, indices[f], importances[indices[f]]))"
      ],
      "metadata": {
        "colab": {
          "base_uri": "https://localhost:8080/"
        },
        "id": "Z_wtaZZQhtuJ",
        "outputId": "d3b1091e-18eb-40fd-c66d-7ea96429af92"
      },
      "execution_count": 20,
      "outputs": [
        {
          "output_type": "stream",
          "name": "stdout",
          "text": [
            "Top features:\n",
            "1. feature 127 (0.031539)\n",
            "2. feature 176 (0.016554)\n",
            "3. feature 241 (0.012582)\n",
            "4. feature 133 (0.012242)\n",
            "5. feature 135 (0.011263)\n",
            "6. feature 126 (0.011100)\n",
            "7. feature 59 (0.010686)\n",
            "8. feature 16 (0.010294)\n",
            "9. feature 220 (0.009949)\n",
            "10. feature 199 (0.009758)\n",
            "11. feature 74 (0.009215)\n",
            "12. feature 169 (0.008473)\n",
            "13. feature 66 (0.008463)\n",
            "14. feature 93 (0.007872)\n",
            "15. feature 18 (0.007814)\n"
          ]
        }
      ]
    },
    {
      "cell_type": "markdown",
      "source": [
        "\n",
        "\n",
        "We can plot a chart of the importances:\n"
      ],
      "metadata": {
        "id": "fGA53jfbh-ui"
      }
    },
    {
      "cell_type": "code",
      "source": [
        "plt.figure()\n",
        "plt.title('Top feature importances')\n",
        "plt.bar(\n",
        "    range(TOP_FEATURES), \n",
        "    importances[indices],\n",
        "    yerr=std[indices], \n",
        ")\n",
        "plt.xticks(range(TOP_FEATURES), indices)\n",
        "plt.show()"
      ],
      "metadata": {
        "colab": {
          "base_uri": "https://localhost:8080/",
          "height": 281
        },
        "id": "hGOkyjP_iYWL",
        "outputId": "169bc4fb-8e59-4f55-f934-38fa065ab0c0"
      },
      "execution_count": 21,
      "outputs": [
        {
          "output_type": "display_data",
          "data": {
            "text/plain": [
              "<Figure size 432x288 with 1 Axes>"
            ],
            "image/png": "[encoded data removed]"
          },
          "metadata": {
            "needs_background": "light"
          }
        }
      ]
    },
    {
      "cell_type": "markdown",
      "source": [
        "\n",
        "\n",
        "In the next example, we will try to identify the most important features by successively training a model and recursively eliminating those that do not contribute to a good final solution (according to the selected model).\n",
        "\n",
        "We will use the recursive feature elimination RFE from the scikit-learn library and the XGBClassifier model:\n"
      ],
      "metadata": {
        "id": "VcxN7iX9ibnY"
      }
    },
    {
      "cell_type": "code",
      "source": [
        "from sklearn.feature_selection import RFE\n",
        "\n",
        "rfe = RFE(XGBClassifier(n_jobs=-1, random_state=1))\n",
        "\n",
        "rfe.fit(train[labels], train['target'])\n",
        "\n",
        "print('Selected features:')\n",
        "print(labels[rfe.support_].tolist())"
      ],
      "metadata": {
        "colab": {
          "base_uri": "https://localhost:8080/"
        },
        "id": "l2YGJDS0ihIL",
        "outputId": "3b9fd049-6c22-41ef-ce85-0b2642199dee"
      },
      "execution_count": 22,
      "outputs": [
        {
          "output_type": "stream",
          "name": "stdout",
          "text": [
            "Selected features:\n",
            "['0', '1', '3', '9', '10', '15', '16', '18', '23', '25', '26', '28', '29', '32', '33', '34', '40', '41', '42', '45', '49', '50', '51', '54', '55', '59', '60', '62', '66', '67', '69', '70', '73', '76', '78', '80', '81', '82', '87', '88', '89', '90', '93', '95', '97', '98', '99', '100', '101', '102', '103', '104', '105', '107', '110', '112', '113', '114', '117', '120', '122', '123', '124', '125', '126', '127', '133', '134', '135', '137', '140', '141', '142', '143', '145', '148', '150', '151', '154', '155', '157', '159', '161', '162', '163', '164', '167', '172', '173', '175', '176', '178', '179', '180', '182', '183', '184', '185', '186', '187', '191', '192', '193', '194', '196', '198', '199', '200', '205', '208', '212', '213', '215', '217', '218', '219', '220', '225', '228', '230', '232', '235', '237', '238', '241', '243', '244', '247', '249', '250', '251', '253', '254', '256', '260', '261', '265', '269', '271', '274', '275', '276', '277', '279', '281', '286', '289', '290', '293', '298']\n"
          ]
        }
      ]
    },
    {
      "cell_type": "markdown",
      "source": [
        "\n",
        "\n",
        "Caution: for a very small dataset, very robust local validation is required to determine whether or not a feature contributes to the final solution.\n",
        "\n",
        "**5. Balance the dataset with synthetic samples (SMOTE)**\n",
        "\n",
        "\n",
        "Let's look at the distribution of target values:\n"
      ],
      "metadata": {
        "id": "f8ko3xqviwVh"
      }
    },
    {
      "cell_type": "code",
      "source": [
        "train['target'].value_counts().plot(kind='bar', title='Count (target)');"
      ],
      "metadata": {
        "colab": {
          "base_uri": "https://localhost:8080/",
          "height": 287
        },
        "id": "gJ-nkzjziyiC",
        "outputId": "104c7244-05ed-4624-f3ef-dc1ab687fa8d"
      },
      "execution_count": 23,
      "outputs": [
        {
          "output_type": "display_data",
          "data": {
            "text/plain": [
              "<Figure size 432x288 with 1 Axes>"
            ],
            "image/png": "[encoded data removed]"
          },
          "metadata": {
            "needs_background": "light"
          }
        }
      ]
    },
    {
      "cell_type": "markdown",
      "source": [
        "In addition to being extremely small, our training dataset has the unbalanced target binary variable, which can undermine some models' predictability. We will perform an oversampling, which consists of creating new samples to increase the 0 minority class. For this we will use the SMOTE technique.\n",
        "\n",
        "SMOTE (Synthetic Minority Oversampling TEchnique) consists of synthesizing elements for the minority class, based on those that already exist. It works randomly picingk a point from the minority class and computing the k-nearest neighbors for this point. The synthetic points are added between the chosen point and its neighbors.\n",
        "![](https://raw.githubusercontent.com/rafjaa/machine_learning_fecib/master/src/static/img/smote.png)\n",
        "\n",
        "We'll use the SMOTE implementation from the library imbalanced-learn, with the parameter ratio='minority' to resample the minority class:"
      ],
      "metadata": {
        "id": "jf0LHbb1jEK4"
      }
    },
    {
      "cell_type": "code",
      "source": [
        "from imblearn.over_sampling import SMOTE\n",
        "\n",
        "smote = SMOTE(sampling_strategy='minority', n_jobs=-1)\n",
        "X_sm, y_sm = smote.fit_resample(train[labels], train['target'])\n",
        "\n",
        "df = pd.DataFrame(X_sm, columns=labels)\n",
        "df['target'] = y_sm\n",
        "\n",
        "df['target'].value_counts().plot(kind='bar', title='Count (target)');"
      ],
      "metadata": {
        "colab": {
          "base_uri": "https://localhost:8080/",
          "height": 287
        },
        "id": "80oQmW47jSJZ",
        "outputId": "d9fd6f51-36de-4b39-dd6c-0f078f43ce01"
      },
      "execution_count": 25,
      "outputs": [
        {
          "output_type": "display_data",
          "data": {
            "text/plain": [
              "<Figure size 432x288 with 1 Axes>"
            ],
            "image/png": "[encoded data removed]"
          },
          "metadata": {
            "needs_background": "light"
          }
        }
      ]
    },
    {
      "cell_type": "markdown",
      "source": [
        "Using TensorFlow backend.\n",
        "\n",
        "**6. Combine models for the final submission**\n",
        "\n",
        "Combine the prediction of several models or the same model with different values of hyperparameters reduces variance and enhances generalization.\n",
        "\n",
        "![](https://raw.githubusercontent.com/rafjaa/machine_learning_fecib/master/src/static/img/smote.png)\n",
        "\n",
        "Often, combining weak models that are poorly correlated with each other can lead to superior results than a strong individual model. There are several ways to do this. The simplest is to perform a weighted average of the various predictions:\n",
        "\n"
      ],
      "metadata": {
        "id": "3pCJo57djV_G"
      }
    },
    {
      "cell_type": "code",
      "source": [
        "models = [\n",
        "    LogisticRegression(),\n",
        "    XGBClassifier(max_depth=2)\n",
        "]\n",
        "\n",
        "preds = pd.DataFrame()\n",
        "for i, m in enumerate(models):\n",
        "    m.fit(train[labels], target),\n",
        "    preds[i] = m.predict_proba(test[labels])[:,1]\n",
        "\n",
        "weights = [1, 0.3]\n",
        "preds['weighted_pred'] = (preds * weights).sum(axis=1) / sum(weights)\n",
        "preds.head()"
      ],
      "metadata": {
        "colab": {
          "base_uri": "https://localhost:8080/",
          "height": 206
        },
        "id": "8UY9eC_pjs0L",
        "outputId": "1c9c0a6a-9a32-4174-9f73-40e7c42cff59"
      },
      "execution_count": 26,
      "outputs": [
        {
          "output_type": "execute_result",
          "data": {
            "text/plain": [
              "          0         1  weighted_pred\n",
              "0  0.342621  0.413691       0.359022\n",
              "1  0.064630  0.249512       0.107295\n",
              "2  0.130286  0.315790       0.173094\n",
              "3  0.106289  0.362499       0.165414\n",
              "4  0.581357  0.846057       0.642442"
            ],
            "text/html": [
              "\n",
              "  <div id=\"df-ea012f0a-a4d2-4bca-95c2-5a07c9b88adf\">\n",
              "    <div class=\"colab-df-container\">\n",
              "      <div>\n",
              "<style scoped>\n",
              "    .dataframe tbody tr th:only-of-type {\n",
              "        vertical-align: middle;\n",
              "    }\n",
              "\n",
              "    .dataframe tbody tr th {\n",
              "        vertical-align: top;\n",
              "    }\n",
              "\n",
              "    .dataframe thead th {\n",
              "        text-align: right;\n",
              "    }\n",
              "</style>\n",
              "<table border=\"1\" class=\"dataframe\">\n",
              "  <thead>\n",
              "    <tr style=\"text-align: right;\">\n",
              "      <th></th>\n",
              "      <th>0</th>\n",
              "      <th>1</th>\n",
              "      <th>weighted_pred</th>\n",
              "    </tr>\n",
              "  </thead>\n",
              "  <tbody>\n",
              "    <tr>\n",
              "      <th>0</th>\n",
              "      <td>0.342621</td>\n",
              "      <td>0.413691</td>\n",
              "      <td>0.359022</td>\n",
              "    </tr>\n",
              "    <tr>\n",
              "      <th>1</th>\n",
              "      <td>0.064630</td>\n",
              "      <td>0.249512</td>\n",
              "      <td>0.107295</td>\n",
              "    </tr>\n",
              "    <tr>\n",
              "      <th>2</th>\n",
              "      <td>0.130286</td>\n",
              "      <td>0.315790</td>\n",
              "      <td>0.173094</td>\n",
              "    </tr>\n",
              "    <tr>\n",
              "      <th>3</th>\n",
              "      <td>0.106289</td>\n",
              "      <td>0.362499</td>\n",
              "      <td>0.165414</td>\n",
              "    </tr>\n",
              "    <tr>\n",
              "      <th>4</th>\n",
              "      <td>0.581357</td>\n",
              "      <td>0.846057</td>\n",
              "      <td>0.642442</td>\n",
              "    </tr>\n",
              "  </tbody>\n",
              "</table>\n",
              "</div>\n",
              "      <button class=\"colab-df-convert\" onclick=\"convertToInteractive('df-ea012f0a-a4d2-4bca-95c2-5a07c9b88adf')\"\n",
              "              title=\"Convert this dataframe to an interactive table.\"\n",
              "              style=\"display:none;\">\n",
              "        \n",
              "  <svg xmlns=\"http://www.w3.org/2000/svg\" height=\"24px\"viewBox=\"0 0 24 24\"\n",
              "       width=\"24px\">\n",
              "    <path d=\"M0 0h24v24H0V0z\" fill=\"none\"/>\n",
              "    <path d=\"M18.56 5.44l.94 2.06.94-2.06 2.06-.94-2.06-.94-.94-2.06-.94 2.06-2.06.94zm-11 1L8.5 8.5l.94-2.06 2.06-.94-2.06-.94L8.5 2.5l-.94 2.06-2.06.94zm10 10l.94 2.06.94-2.06 2.06-.94-2.06-.94-.94-2.06-.94 2.06-2.06.94z\"/><path d=\"M17.41 7.96l-1.37-1.37c-.4-.4-.92-.59-1.43-.59-.52 0-1.04.2-1.43.59L10.3 9.45l-7.72 7.72c-.78.78-.78 2.05 0 2.83L4 21.41c.39.39.9.59 1.41.59.51 0 1.02-.2 1.41-.59l7.78-7.78 2.81-2.81c.8-.78.8-2.07 0-2.86zM5.41 20L4 18.59l7.72-7.72 1.47 1.35L5.41 20z\"/>\n",
              "  </svg>\n",
              "      </button>\n",
              "      \n",
              "  <style>\n",
              "    .colab-df-container {\n",
              "      display:flex;\n",
              "      flex-wrap:wrap;\n",
              "      gap: 12px;\n",
              "    }\n",
              "\n",
              "    .colab-df-convert {\n",
              "      background-color: #E8F0FE;\n",
              "      border: none;\n",
              "      border-radius: 50%;\n",
              "      cursor: pointer;\n",
              "      display: none;\n",
              "      fill: #1967D2;\n",
              "      height: 32px;\n",
              "      padding: 0 0 0 0;\n",
              "      width: 32px;\n",
              "    }\n",
              "\n",
              "    .colab-df-convert:hover {\n",
              "      background-color: #E2EBFA;\n",
              "      box-shadow: 0px 1px 2px rgba(60, 64, 67, 0.3), 0px 1px 3px 1px rgba(60, 64, 67, 0.15);\n",
              "      fill: #174EA6;\n",
              "    }\n",
              "\n",
              "    [theme=dark] .colab-df-convert {\n",
              "      background-color: #3B4455;\n",
              "      fill: #D2E3FC;\n",
              "    }\n",
              "\n",
              "    [theme=dark] .colab-df-convert:hover {\n",
              "      background-color: #434B5C;\n",
              "      box-shadow: 0px 1px 3px 1px rgba(0, 0, 0, 0.15);\n",
              "      filter: drop-shadow(0px 1px 2px rgba(0, 0, 0, 0.3));\n",
              "      fill: #FFFFFF;\n",
              "    }\n",
              "  </style>\n",
              "\n",
              "      <script>\n",
              "        const buttonEl =\n",
              "          document.querySelector('#df-ea012f0a-a4d2-4bca-95c2-5a07c9b88adf button.colab-df-convert');\n",
              "        buttonEl.style.display =\n",
              "          google.colab.kernel.accessAllowed ? 'block' : 'none';\n",
              "\n",
              "        async function convertToInteractive(key) {\n",
              "          const element = document.querySelector('#df-ea012f0a-a4d2-4bca-95c2-5a07c9b88adf');\n",
              "          const dataTable =\n",
              "            await google.colab.kernel.invokeFunction('convertToInteractive',\n",
              "                                                     [key], {});\n",
              "          if (!dataTable) return;\n",
              "\n",
              "          const docLinkHtml = 'Like what you see? Visit the ' +\n",
              "            '<a target=\"_blank\" href=https://colab.research.google.com/notebooks/data_table.ipynb>data table notebook</a>'\n",
              "            + ' to learn more about interactive tables.';\n",
              "          element.innerHTML = '';\n",
              "          dataTable['output_type'] = 'display_data';\n",
              "          await google.colab.output.renderOutput(dataTable, element);\n",
              "          const docLink = document.createElement('div');\n",
              "          docLink.innerHTML = docLinkHtml;\n",
              "          element.appendChild(docLink);\n",
              "        }\n",
              "      </script>\n",
              "    </div>\n",
              "  </div>\n",
              "  "
            ]
          },
          "metadata": {},
          "execution_count": 26
        }
      ]
    },
    {
      "cell_type": "markdown",
      "source": [
        "Another more sophisticated way of combining predictions is the use of a meta-classifier, which receives as input the prediction of other classifiers, and performs the final predict. From the mlxtend library documentation:\n",
        "\n",
        "    Stacking is an ensemble learning technique to combine multiple classification models via a meta-classifier. The individual classification models are trained based on the complete training set; then, the meta-classifier is fitted based on the outputs -- meta-features -- of the individual classification models in the ensemble. The meta-classifier can either be trained on the predicted class labels or probabilities from the ensemble.\n",
        "\n",
        "![](https://raw.githubusercontent.com/rafjaa/curso-mineracao-de-dados-aplicada/master/img/kernel_overfitting/stack.png)\n",
        "\n",
        "As an example, we will use the StackingClassifier of the mlxtend library:\n"
      ],
      "metadata": {
        "id": "Fct1CKT8jxi-"
      }
    },
    {
      "cell_type": "code",
      "source": [
        "!pip install six\n",
        "!pip install mlrose\n",
        "import six\n",
        "import sys\n",
        "sys.modules['sklearn.externals.six'] = six\n",
        "import mlrose\n",
        "\n",
        "from mlxtend.classifier import StackingClassifier\n",
        "\n",
        "m = StackingClassifier(\n",
        "    classifiers=[\n",
        "        LogisticRegression(),\n",
        "        XGBClassifier(max_depth=2)\n",
        "    ],\n",
        "    use_probas=True,\n",
        "    meta_classifier=LogisticRegression()\n",
        ")\n",
        "\n",
        "m.fit(train[labels], target),\n",
        "preds['stack_pred'] = m.predict_proba(test[labels])[:,1]\n",
        "preds.head()"
      ],
      "metadata": {
        "colab": {
          "base_uri": "https://localhost:8080/",
          "height": 328
        },
        "id": "Cl5MmmZyj9xF",
        "outputId": "281d2e0e-9a36-4c08-90bc-709bdc602b20"
      },
      "execution_count": 35,
      "outputs": [
        {
          "output_type": "stream",
          "name": "stdout",
          "text": [
            "Looking in indexes: https://pypi.org/simple, https://us-python.pkg.dev/colab-wheels/public/simple/\n",
            "Requirement already satisfied: six in /usr/local/lib/python3.8/dist-packages (1.15.0)\n",
            "Looking in indexes: https://pypi.org/simple, https://us-python.pkg.dev/colab-wheels/public/simple/\n",
            "Requirement already satisfied: mlrose in /usr/local/lib/python3.8/dist-packages (1.3.0)\n",
            "Requirement already satisfied: numpy in /usr/local/lib/python3.8/dist-packages (from mlrose) (1.21.6)\n",
            "Requirement already satisfied: sklearn in /usr/local/lib/python3.8/dist-packages (from mlrose) (0.0.post1)\n",
            "Requirement already satisfied: scipy in /usr/local/lib/python3.8/dist-packages (from mlrose) (1.7.3)\n"
          ]
        },
        {
          "output_type": "execute_result",
          "data": {
            "text/plain": [
              "          0         1  weighted_pred  stack_pred\n",
              "0  0.342621  0.413691       0.359022    0.206438\n",
              "1  0.064630  0.249512       0.107295    0.034810\n",
              "2  0.130286  0.315790       0.173094    0.059969\n",
              "3  0.106289  0.362499       0.165414    0.063380\n",
              "4  0.581357  0.846057       0.642442    0.809818"
            ],
            "text/html": [
              "\n",
              "  <div id=\"df-bf104414-a3d4-4d48-b863-59b113080d63\">\n",
              "    <div class=\"colab-df-container\">\n",
              "      <div>\n",
              "<style scoped>\n",
              "    .dataframe tbody tr th:only-of-type {\n",
              "        vertical-align: middle;\n",
              "    }\n",
              "\n",
              "    .dataframe tbody tr th {\n",
              "        vertical-align: top;\n",
              "    }\n",
              "\n",
              "    .dataframe thead th {\n",
              "        text-align: right;\n",
              "    }\n",
              "</style>\n",
              "<table border=\"1\" class=\"dataframe\">\n",
              "  <thead>\n",
              "    <tr style=\"text-align: right;\">\n",
              "      <th></th>\n",
              "      <th>0</th>\n",
              "      <th>1</th>\n",
              "      <th>weighted_pred</th>\n",
              "      <th>stack_pred</th>\n",
              "    </tr>\n",
              "  </thead>\n",
              "  <tbody>\n",
              "    <tr>\n",
              "      <th>0</th>\n",
              "      <td>0.342621</td>\n",
              "      <td>0.413691</td>\n",
              "      <td>0.359022</td>\n",
              "      <td>0.206438</td>\n",
              "    </tr>\n",
              "    <tr>\n",
              "      <th>1</th>\n",
              "      <td>0.064630</td>\n",
              "      <td>0.249512</td>\n",
              "      <td>0.107295</td>\n",
              "      <td>0.034810</td>\n",
              "    </tr>\n",
              "    <tr>\n",
              "      <th>2</th>\n",
              "      <td>0.130286</td>\n",
              "      <td>0.315790</td>\n",
              "      <td>0.173094</td>\n",
              "      <td>0.059969</td>\n",
              "    </tr>\n",
              "    <tr>\n",
              "      <th>3</th>\n",
              "      <td>0.106289</td>\n",
              "      <td>0.362499</td>\n",
              "      <td>0.165414</td>\n",
              "      <td>0.063380</td>\n",
              "    </tr>\n",
              "    <tr>\n",
              "      <th>4</th>\n",
              "      <td>0.581357</td>\n",
              "      <td>0.846057</td>\n",
              "      <td>0.642442</td>\n",
              "      <td>0.809818</td>\n",
              "    </tr>\n",
              "  </tbody>\n",
              "</table>\n",
              "</div>\n",
              "      <button class=\"colab-df-convert\" onclick=\"convertToInteractive('df-bf104414-a3d4-4d48-b863-59b113080d63')\"\n",
              "              title=\"Convert this dataframe to an interactive table.\"\n",
              "              style=\"display:none;\">\n",
              "        \n",
              "  <svg xmlns=\"http://www.w3.org/2000/svg\" height=\"24px\"viewBox=\"0 0 24 24\"\n",
              "       width=\"24px\">\n",
              "    <path d=\"M0 0h24v24H0V0z\" fill=\"none\"/>\n",
              "    <path d=\"M18.56 5.44l.94 2.06.94-2.06 2.06-.94-2.06-.94-.94-2.06-.94 2.06-2.06.94zm-11 1L8.5 8.5l.94-2.06 2.06-.94-2.06-.94L8.5 2.5l-.94 2.06-2.06.94zm10 10l.94 2.06.94-2.06 2.06-.94-2.06-.94-.94-2.06-.94 2.06-2.06.94z\"/><path d=\"M17.41 7.96l-1.37-1.37c-.4-.4-.92-.59-1.43-.59-.52 0-1.04.2-1.43.59L10.3 9.45l-7.72 7.72c-.78.78-.78 2.05 0 2.83L4 21.41c.39.39.9.59 1.41.59.51 0 1.02-.2 1.41-.59l7.78-7.78 2.81-2.81c.8-.78.8-2.07 0-2.86zM5.41 20L4 18.59l7.72-7.72 1.47 1.35L5.41 20z\"/>\n",
              "  </svg>\n",
              "      </button>\n",
              "      \n",
              "  <style>\n",
              "    .colab-df-container {\n",
              "      display:flex;\n",
              "      flex-wrap:wrap;\n",
              "      gap: 12px;\n",
              "    }\n",
              "\n",
              "    .colab-df-convert {\n",
              "      background-color: #E8F0FE;\n",
              "      border: none;\n",
              "      border-radius: 50%;\n",
              "      cursor: pointer;\n",
              "      display: none;\n",
              "      fill: #1967D2;\n",
              "      height: 32px;\n",
              "      padding: 0 0 0 0;\n",
              "      width: 32px;\n",
              "    }\n",
              "\n",
              "    .colab-df-convert:hover {\n",
              "      background-color: #E2EBFA;\n",
              "      box-shadow: 0px 1px 2px rgba(60, 64, 67, 0.3), 0px 1px 3px 1px rgba(60, 64, 67, 0.15);\n",
              "      fill: #174EA6;\n",
              "    }\n",
              "\n",
              "    [theme=dark] .colab-df-convert {\n",
              "      background-color: #3B4455;\n",
              "      fill: #D2E3FC;\n",
              "    }\n",
              "\n",
              "    [theme=dark] .colab-df-convert:hover {\n",
              "      background-color: #434B5C;\n",
              "      box-shadow: 0px 1px 3px 1px rgba(0, 0, 0, 0.15);\n",
              "      filter: drop-shadow(0px 1px 2px rgba(0, 0, 0, 0.3));\n",
              "      fill: #FFFFFF;\n",
              "    }\n",
              "  </style>\n",
              "\n",
              "      <script>\n",
              "        const buttonEl =\n",
              "          document.querySelector('#df-bf104414-a3d4-4d48-b863-59b113080d63 button.colab-df-convert');\n",
              "        buttonEl.style.display =\n",
              "          google.colab.kernel.accessAllowed ? 'block' : 'none';\n",
              "\n",
              "        async function convertToInteractive(key) {\n",
              "          const element = document.querySelector('#df-bf104414-a3d4-4d48-b863-59b113080d63');\n",
              "          const dataTable =\n",
              "            await google.colab.kernel.invokeFunction('convertToInteractive',\n",
              "                                                     [key], {});\n",
              "          if (!dataTable) return;\n",
              "\n",
              "          const docLinkHtml = 'Like what you see? Visit the ' +\n",
              "            '<a target=\"_blank\" href=https://colab.research.google.com/notebooks/data_table.ipynb>data table notebook</a>'\n",
              "            + ' to learn more about interactive tables.';\n",
              "          element.innerHTML = '';\n",
              "          dataTable['output_type'] = 'display_data';\n",
              "          await google.colab.output.renderOutput(dataTable, element);\n",
              "          const docLink = document.createElement('div');\n",
              "          docLink.innerHTML = docLinkHtml;\n",
              "          element.appendChild(docLink);\n",
              "        }\n",
              "      </script>\n",
              "    </div>\n",
              "  </div>\n",
              "  "
            ]
          },
          "metadata": {},
          "execution_count": 35
        }
      ]
    },
    {
      "cell_type": "markdown",
      "source": [
        "![](https://raw.githubusercontent.com/rafjaa/curso-mineracao-de-dados-aplicada/master/img/kernel_overfitting/mem2.jpg)"
      ],
      "metadata": {
        "id": "jL63JZu5r6i2"
      }
    },
    {
      "cell_type": "markdown",
      "source": [
        "\n",
        "**References**\n",
        "\n",
        "Overfitting:\n",
        "\n",
        "    IRIC's Bioinformatics Platform. Overfitting and Regularization. https://bioinfo.iric.ca/overfitting-and-regularization/\n",
        "    PATNI, Shubham. Generalisation, Training-Validation & Test data. Machine Learning- Part 6. https://medium.com/@shubhapatnim86/generalisation-training-validation-test-data-machine-learning-part-6-1de9dbb7d3d5\n",
        "    Rants on Machine Learning. What to do with “small” data? https://medium.com/rants-on-machine-learning/what-to-do-with-small-data-d253254d1a89\n",
        "    Towards Data Science. Breaking the curse of small datasets in Machine Learning: Part 1. https://towardsdatascience.com/breaking-the-curse-of-small-datasets-in-machine-learning-part-1-36f28b0c044d\n",
        "\n",
        "Models:\n",
        "\n",
        "    scikit-learn. LogisticRegression. https://scikit-learn.org/stable/modules/generated/sklearn.linear_model.LogisticRegression.html\n",
        "    Towards Data Science. Logistic Regression — Detailed Overview. https://towardsdatascience.com/logistic-regression-detailed-overview-46c4da4303bc\n",
        "    XGBoost. XGBoost Parameters. https://xgboost.readthedocs.io/en/latest/parameter.html\n",
        "\n",
        "Outlier detection:\n",
        "\n",
        "    Liu, Fei Tony, Ting, Kai Ming and Zhou, Zhi-Hua. “Isolation forest.” Data Mining, 2008. ICDM‘08. Eighth IEEE International Conference on.\n",
        "    Machine Learning Valencia. Anomaly Detection. Valencian Summer School 2015. https://www.slideshare.net/mlvlc/l14-anomaly-detection\n",
        "    scikit-learn. Novelty and Outlier Detection. https://scikit-learn.org/stable/modules/outlier_detection.html\n",
        "    VADALI, SaiGayatri.Day 7: Data cleaning — All you need to know about it. https://becominghuman.ai/day-7-data-cleaning-all-that-you-need-to-know-about-it-23b05738abe7\n",
        "\n",
        "Feature selection:\n",
        "\n",
        "    scikit-learn. Feature selection. https://scikit-learn.org/stable/modules/feature_selection.html\n",
        "\n",
        "SMOTE\n",
        "\n",
        "    ALENCAR, Rafael. Resampling strategies for imbalanced datasets. https://www.kaggle.com/rafjaa/resampling-strategies-for-imbalanced-datasets\n",
        "    Chawla, Nitesh V., et al. \"SMOTE: synthetic minority over-sampling technique.\" Journal of artificial intelligence research 16 (2002)\n",
        "    imbalanced-learn. https://imbalanced-learn.readthedocs.io/en/stable/generated/imblearn.over_sampling.SMOTE.html\n",
        "\n",
        "Stacking\n",
        "\n",
        "    mlxtend. StackingClassifier. http://rasbt.github.io/mlxtend/user_guide/classifier/StackingClassifier/\n",
        "    Tang, J., S. Alelyani, and H. Liu. \"Data Classification: Algorithms and Applications.\" Data Mining and Knowledge Discovery Series, CRC Press (2015): pp. 498-500.\n",
        "    Wolpert, David H. \"Stacked generalization.\" Neural networks 5.2 (1992): 241-259.\n",
        "\n"
      ],
      "metadata": {
        "id": "no2V00EzkJ6L"
      }
    },
    {
      "cell_type": "code",
      "source": [],
      "metadata": {
        "id": "6sAPGuMGjs8q"
      },
      "execution_count": null,
      "outputs": []
    }
  ]
}